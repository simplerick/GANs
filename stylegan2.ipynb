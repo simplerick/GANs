{
 "cells": [
  {
   "cell_type": "code",
   "execution_count": 0,
   "metadata": {
    "colab": {},
    "colab_type": "code",
    "id": "0vxBkbC2wngr"
   },
   "outputs": [],
   "source": [
    "import torch\n",
    "from torch import nn\n",
    "import torch.nn.functional as F\n",
    "import numpy as np\n",
    "from modules import *\n",
    "from loss import *\n",
    "from misc import *"
   ]
  },
  {
   "cell_type": "code",
   "execution_count": 0,
   "metadata": {
    "colab": {},
    "colab_type": "code",
    "id": "sG2YCdBGwng7"
   },
   "outputs": [],
   "source": [
    "from torchvision.datasets import MNIST\n",
    "import torchvision.transforms as T\n",
    "import matplotlib.pyplot as plt\n",
    "from IPython import display\n",
    "from tqdm import tqdm"
   ]
  },
  {
   "cell_type": "code",
   "execution_count": 0,
   "metadata": {
    "colab": {},
    "colab_type": "code",
    "id": "tGqahOJBwnhB"
   },
   "outputs": [],
   "source": [
    "plt.rcParams['figure.figsize'] = (11,11)\n",
    "plt.rcParams['image.cmap'] = 'gray'\n",
    "# torch.multiprocessing.set_start_method(\"spawn\")\n",
    "# torch.set_default_tensor_type('torch.cuda.FloatTensor')"
   ]
  },
  {
   "cell_type": "code",
   "execution_count": 4,
   "metadata": {
    "colab": {
     "base_uri": "https://localhost:8080/",
     "height": 54
    },
    "colab_type": "code",
    "id": "gLCi1DzieUL5",
    "outputId": "850dc896-e6f9-4def-badd-4d106af6a04e"
   },
   "outputs": [
    {
     "name": "stdout",
     "output_type": "stream",
     "text": [
      "Drive already mounted at /content/drive; to attempt to forcibly remount, call drive.mount(\"/content/drive\", force_remount=True).\n"
     ]
    }
   ],
   "source": [
    "from google.colab import drive\n",
    "drive.mount('/content/drive')"
   ]
  },
  {
   "cell_type": "code",
   "execution_count": 0,
   "metadata": {
    "colab": {},
    "colab_type": "code",
    "id": "BzzbfZNviIcC"
   },
   "outputs": [],
   "source": [
    "class Equal_LR:\n",
    "    '''\n",
    "    Equalized learning rate. Applies recursively to all submodules.\n",
    "    '''\n",
    "    def __init__(self, name):\n",
    "        self.name = name\n",
    "\n",
    "    @staticmethod\n",
    "    def compute_var(module, weight):\n",
    "        mode = 'fan_in'\n",
    "        if hasattr(module, 'transposed') and module.transposed:\n",
    "            mode = 'fan_out'\n",
    "        return torch.nn.init._calculate_correct_fan(weight, mode)\n",
    "\n",
    "    @staticmethod\n",
    "    def scale_weight(module, input):\n",
    "        module.weight = module.scale*module.weight_orig\n",
    "\n",
    "    def fn(self, module):\n",
    "        try:\n",
    "            module.scale = 1/np.sqrt(Equal_LR.compute_var(module, module.weight))\n",
    "            # register new parameter -- unscaled weight\n",
    "            module.weight_orig = nn.Parameter(module.weight.clone())\n",
    "            # delete old parameter, create variable with that name\n",
    "            del module._parameters['weight']\n",
    "            module.equalize = module.register_forward_pre_hook(Equal_LR.scale_weight)\n",
    "        except:\n",
    "            pass\n",
    "\n",
    "    def __call__(self, module):\n",
    "        new_module = deepcopy(module)\n",
    "        new_module.apply(self.fn)\n",
    "        return new_module"
   ]
  },
  {
   "cell_type": "markdown",
   "metadata": {
    "colab_type": "text",
    "id": "6H43TxTUwnhI"
   },
   "source": [
    "# To do: style mixing"
   ]
  },
  {
   "cell_type": "markdown",
   "metadata": {
    "colab_type": "text",
    "id": "c8YvuQuOwnhU"
   },
   "source": [
    "# Hyperparams"
   ]
  },
  {
   "cell_type": "code",
   "execution_count": 0,
   "metadata": {
    "colab": {},
    "colab_type": "code",
    "id": "hUKIBaQJwnhW"
   },
   "outputs": [],
   "source": [
    "act = Scaled_Act(nn.LeakyReLU(0.2))\n",
    "img_channels = 1\n",
    "n_layers = 4\n",
    "latent_size = 160\n",
    "min_res = 4\n",
    "max_res = 28\n",
    "blocks = 3\n",
    "k_size = 3\n",
    "max_fmaps = 128\n",
    "min_fmaps = 64\n",
    "\n",
    "device = 'cuda'\n",
    "\n",
    "train_params = {'max_iter': 10000, 'batch_size' : 128, \n",
    "                'G_opt_args' : {'lr' : 0.0005, 'betas' : (0.1, 0.99)}, \n",
    "                'D_opt_args' : {'lr' : 0.001, 'betas' : (0, 0.99), 'eps' : 1e-08}, \n",
    "                'mapping_opt_args' : {'lr' : 1e-5}, \n",
    "                'D_steps': 1, 'pl_weight': 2, 'r1_weight': 5, \n",
    "                'pl_interval': 4, 'r1_interval': 16, 'num_workers': 2, 'val_interval': 20}"
   ]
  },
  {
   "cell_type": "code",
   "execution_count": 0,
   "metadata": {
    "colab": {},
    "colab_type": "code",
    "id": "WYv91cykwnhc"
   },
   "outputs": [],
   "source": [
    "class Generator(nn.Module):\n",
    "    def __init__(self, min_res, max_res, min_fmaps, max_fmaps, act, \n",
    "                 k_size, blocks, img_channels, latent_size, n_layers, \n",
    "                 truncation_psi = 0.8, dlatent_avg_decay = 0.995, weights_avg_decay=0.99, **kwargs):\n",
    "        super().__init__()\n",
    "        dres = min_res*2**blocks - max_res\n",
    "        assert dres >= 0\n",
    "        # building mapping net\n",
    "        self.latent_size = latent_size\n",
    "        self.mapping = Mapping(n_layers, latent_size, act)\n",
    "        # learnable const\n",
    "        self.const = nn.Parameter(torch.randn(max_fmaps, min_res, min_res))\n",
    "        # building main layers\n",
    "        fmaps = np.linspace(max_fmaps, min_fmaps, blocks+1).astype('int')\n",
    "        self.layers = []\n",
    "        for i in range(blocks):\n",
    "            layer = G_Block(fmaps[i],fmaps[i+1], k_size, latent_size, act, img_channels=img_channels)\n",
    "            self.add_module(str(i), layer)\n",
    "            self.layers.append(layer)\n",
    "        if dres > 0:\n",
    "            self.crop = torch.nn.ZeroPad2d(-dres//2)\n",
    "        # running average of dlatents, weights and truncation params\n",
    "        self.dlatent_avg_decay = dlatent_avg_decay\n",
    "        self.truncation_psi = truncation_psi\n",
    "        self.register_buffer('dlatent_avg', torch.zeros(latent_size))\n",
    "        self.weights_avg_decay = weights_avg_decay\n",
    "        \n",
    "\n",
    "    def update_avg_weights(self):\n",
    "        if not hasattr(self, 'weights_avg'):\n",
    "            self.weights_avg = [p.data.clone() for p in self.parameters()]\n",
    "        for i, p  in enumerate(self.parameters()): \n",
    "            self.weights_avg[i] = self.weights_avg[i].to(p.device)\n",
    "            new_weight = (1-self.weights_avg_decay)*self.weights_avg[i] +  self.weights_avg_decay*p.data\n",
    "            p.data.copy_(new_weight)\n",
    "            self.weights_avg[i].data.copy_(new_weight)\n",
    "\n",
    "    \n",
    "    def sample(self,n):\n",
    "        device = self.const.device\n",
    "        z = torch.randn(n, self.latent_size).to(device)\n",
    "        v = self.mapping(z)\n",
    "        # update dlatent average\n",
    "        if self.training:\n",
    "            self.dlatent_avg = self.dlatent_avg_decay*self.dlatent_avg + (1-self.dlatent_avg_decay)*v.mean(0)\n",
    "        return v\n",
    "    \n",
    "    \n",
    "    def generate(self, v):\n",
    "        x = self.const.expand(v.shape[0], *self.const.shape).contiguous()\n",
    "        y = None\n",
    "        for layer in self.layers:\n",
    "            x, y = layer(x,v,y)           \n",
    "        if hasattr(self, 'crop'):\n",
    "            y = self.crop(y)\n",
    "        return y\n",
    "\n",
    "\n",
    "    def deterministic_generate(self, v, input_noises):\n",
    "        x = self.const.expand(v.shape[0], *self.const.shape).contiguous()\n",
    "        y = None\n",
    "        for i,layer in enumerate(self.layers):\n",
    "            x, y = layer(x,v,y, input_noises[i])    \n",
    "        if hasattr(self, 'crop'):\n",
    "            y = self.crop(y)\n",
    "        return y\n",
    "    \n",
    "    \n",
    "    # for evaluation\n",
    "    def sample_images(self,n):\n",
    "        with torch.no_grad():\n",
    "            v = self.sample(n)\n",
    "            v = self.dlatent_avg + self.truncation_psi*(v-self.dlatent_avg)\n",
    "            images = self.generate(v).permute(0,2,3,1).cpu().numpy()\n",
    "        return images"
   ]
  },
  {
   "cell_type": "code",
   "execution_count": 0,
   "metadata": {
    "colab": {},
    "colab_type": "code",
    "id": "s1-GgOMswnhj"
   },
   "outputs": [],
   "source": [
    "G = (Generator(min_res, max_res, min_fmaps, max_fmaps, act, \n",
    "              k_size, blocks, img_channels, latent_size, n_layers, weights_avg_decay=0.99)).to(device)"
   ]
  },
  {
   "cell_type": "code",
   "execution_count": 0,
   "metadata": {
    "colab": {},
    "colab_type": "code",
    "id": "I_uZxLxIwnhp"
   },
   "outputs": [],
   "source": [
    "class Discriminator(nn.Module):\n",
    "    def __init__(self, min_res, max_res, min_fmaps, max_fmaps, act, \n",
    "                 k_size, blocks, img_channels, dense_size=128, **kwargs):\n",
    "        super().__init__()\n",
    "        assert max_res <= min_res*2**blocks and max_res >= (min_res-1)*2**blocks\n",
    "        # building layers\n",
    "        fmaps = np.linspace(min_fmaps, max_fmaps, blocks+1).astype('int')\n",
    "        self.from_channels = nn.Conv2d(img_channels, fmaps[0], 1)\n",
    "        self.layers = []\n",
    "        for i in range(blocks):\n",
    "            layer = D_Block(fmaps[i],fmaps[i+1], k_size, act)\n",
    "            self.add_module(str(i), layer)\n",
    "            self.layers.append(layer)\n",
    "        self.minibatch_sttdev = Minibatch_Stddev()\n",
    "        self.conv = nn.Conv2d(fmaps[-1]+1,fmaps[-1], 3)\n",
    "        self.dense = nn.Linear(fmaps[-1]*(min_res-2)**2, dense_size)\n",
    "        self.output = nn.Linear(dense_size, 1)\n",
    "        self.act = act\n",
    "    \n",
    "    def get_score(self, imgs):\n",
    "        x = self.from_channels(imgs)\n",
    "        for layer in self.layers:\n",
    "            x = layer(x)\n",
    "        x = self.minibatch_sttdev(x)\n",
    "        x = self.act(self.conv(x))\n",
    "        x = x.view(x.shape[0],-1)\n",
    "        x = self.act(self.dense(x))\n",
    "        x = self.output(x)\n",
    "        return x\n",
    "        "
   ]
  },
  {
   "cell_type": "code",
   "execution_count": 0,
   "metadata": {
    "colab": {},
    "colab_type": "code",
    "id": "UnrGOaWUwnhu"
   },
   "outputs": [],
   "source": [
    "D = (Discriminator(min_res, max_res, min_fmaps, max_fmaps, act, \n",
    "                   k_size, blocks, img_channels)).to(device)"
   ]
  },
  {
   "cell_type": "code",
   "execution_count": 0,
   "metadata": {
    "colab": {},
    "colab_type": "code",
    "id": "k6wIAuQCwnh8"
   },
   "outputs": [],
   "source": [
    "def train(G, D, dataset, max_iter, batch_size, \n",
    "          G_opt_args, D_opt_args, mapping_opt_args,\n",
    "          D_steps, pl_weight, r1_weight,\n",
    "          r1_interval, pl_interval, val_interval, num_workers):\n",
    "    # create dataloader\n",
    "    dataloader = NextDataLoader(dataset, batch_size, num_workers=num_workers)\n",
    "    mean = dataset.transforms.transform.transforms[1].mean[0]\n",
    "    std = dataset.transforms.transform.transforms[1].std[0]\n",
    "    # create optimizer\n",
    "    G_params = []\n",
    "    for n,m in G.named_children():\n",
    "        if n != 'mapping':\n",
    "            G_params.extend(m.parameters())\n",
    "    gen_optimizer = torch.optim.Adam([{'params': G_params},\n",
    "                                  {'params': G.mapping.parameters(), **mapping_opt_args},\n",
    "                                  {'params': G.const, **mapping_opt_args},\n",
    "                                  ], **G_opt_args)\n",
    "    \n",
    "    disc_optimizer = torch.optim.Adam(D.parameters(), **D_opt_args)\n",
    "    Path_length_reg = Path_length_loss()\n",
    "    for i in tqdm(range(max_iter)):\n",
    "        for j in range(D_steps):\n",
    "            real_imgs = next(dataloader)[0].cuda()\n",
    "            real_imgs.requires_grad = True\n",
    "            dlatent = G.sample(real_imgs.shape[0])\n",
    "            fake_imgs = G.generate(dlatent)\n",
    "            real_scores = D.get_score(real_imgs)\n",
    "            fake_scores = D.get_score(fake_imgs)\n",
    "            loss =  D_logistic(real_scores, fake_scores)\n",
    "            if i % r1_interval == 0 and j == D_steps-1:\n",
    "                loss += r1_weight*r1_interval*R1_reg(real_imgs, real_scores)\n",
    "            real_imgs.requires_grad = False\n",
    "            disc_optimizer.zero_grad()\n",
    "            loss.backward()\n",
    "            disc_optimizer.step()\n",
    "\n",
    "\n",
    "        dlatent = G.sample(batch_size)\n",
    "        fake_imgs = G.generate(dlatent)\n",
    "        fake_scores = D.get_score(fake_imgs)    \n",
    "        loss = G_logistic_ns(fake_scores)    \n",
    "        if i % pl_interval == 0:\n",
    "            loss += pl_weight*pl_interval*Path_length_reg(dlatent, fake_imgs)   \n",
    "        gen_optimizer.zero_grad()\n",
    "        loss.backward()\n",
    "        gen_optimizer.step()\n",
    "        G.update_avg_weights()\n",
    "\n",
    "        \n",
    "        if i % val_interval == 0:\n",
    "            display.clear_output(wait=True)\n",
    "            # print pictures\n",
    "            gen = (fake_imgs[:32].detach()*std+mean).permute(0,2,3,1).cpu().numpy()\n",
    "            plt.imshow(grid(gen).squeeze())\n",
    "            plt.show()\n",
    "            # print prob distribution\n",
    "            plt.figure(figsize=(5,5))\n",
    "            plt.title('Generated vs real data')\n",
    "            plt.hist(torch.sigmoid(real_scores.data).cpu().numpy(), label='D(x)', alpha=0.5,range=[0,1])\n",
    "            plt.hist(torch.sigmoid(fake_scores.data).cpu().numpy(), label='D(G(z))',alpha=0.5,range=[0,1])\n",
    "            plt.legend(loc='best')\n",
    "            plt.show()\n",
    "\n",
    "\n",
    "        if i % 500 == 0:\n",
    "            torch.save(G.state_dict(), '/content/drive/My Drive/Checkpoints/'+'G.pt')\n",
    "            torch.save(D.state_dict(), '/content/drive/My Drive/Checkpoints/'+'D.pt')"
   ]
  },
  {
   "cell_type": "code",
   "execution_count": 0,
   "metadata": {
    "colab": {},
    "colab_type": "code",
    "id": "RMKWKPHvwniI"
   },
   "outputs": [],
   "source": [
    "dataset = MNIST('data', transform=T.Compose([T.ToTensor(), T.Normalize((0.1307,), (0.3081,))]), download=True)"
   ]
  },
  {
   "cell_type": "code",
   "execution_count": 0,
   "metadata": {
    "colab": {},
    "colab_type": "code",
    "id": "XW6YOG-xI_06"
   },
   "outputs": [],
   "source": [
    "# G.load_state_dict(torch.load('/content/drive/My Drive/Checkpoints/'+'G_0.0001.pt'))\n",
    "# D.load_state_dict(torch.load('/content/drive/My Drive/Checkpoints/'+'D_0.0004.pt'))"
   ]
  },
  {
   "cell_type": "code",
   "execution_count": 0,
   "metadata": {
    "colab": {},
    "colab_type": "code",
    "id": "ATDGumnU0hj2"
   },
   "outputs": [],
   "source": [
    "G = Equal_LR('weight')(G)\n",
    "D = Equal_LR('weight')(D)"
   ]
  },
  {
   "cell_type": "code",
   "execution_count": 0,
   "metadata": {
    "colab": {
     "base_uri": "https://localhost:8080/",
     "height": 696
    },
    "colab_type": "code",
    "id": "pHn7nW9mwniX",
    "outputId": "a6bee887-eaad-4fe9-f41f-b72f5a062376",
    "scrolled": false
   },
   "outputs": [
    {
     "data": {
      "image/png": "[encoded data removed]",
      "text/plain": [
       "<Figure size 792x792 with 1 Axes>"
      ]
     },
     "metadata": {
      "tags": []
     },
     "output_type": "display_data"
    },
    {
     "data": {
      "image/png": "[encoded data removed]",
      "text/plain": [
       "<Figure size 360x360 with 1 Axes>"
      ]
     },
     "metadata": {
      "tags": []
     },
     "output_type": "display_data"
    },
    {
     "name": "stderr",
     "output_type": "stream",
     "text": [
      "  4%|▍         | 416/10000 [1:06:04<14:59:56,  5.63s/it]"
     ]
    }
   ],
   "source": [
    "train(G, D, dataset, **train_params)"
   ]
  },
  {
   "cell_type": "code",
   "execution_count": 0,
   "metadata": {
    "colab": {},
    "colab_type": "code",
    "id": "l0hHSaZ3Cqhn"
   },
   "outputs": [],
   "source": [
    "torch.save(G.state_dict(), '/content/drive/My Drive/Checkpoints/'+'G.pt')\n",
    "torch.save(D.state_dict(), '/content/drive/My Drive/Checkpoints/'+'D.pt')"
   ]
  },
  {
   "cell_type": "code",
   "execution_count": 0,
   "metadata": {
    "colab": {},
    "colab_type": "code",
    "id": "vi3nmIkAN9B2"
   },
   "outputs": [],
   "source": [
    "G.truncation_psi = 0.7\n",
    "plt.imshow(grid(G.sample_images(32)).squeeze())\n",
    "plt.show()"
   ]
  },
  {
   "cell_type": "code",
   "execution_count": 0,
   "metadata": {
    "colab": {},
    "colab_type": "code",
    "id": "pDaIcs1d2lT5"
   },
   "outputs": [],
   "source": [
    "real_imgs = dataset.data[:32].unsqueeze(-1)\n",
    "print(real_imgs.shape)\n",
    "plt.imshow(grid(real_imgs).squeeze())\n",
    "plt.show()"
   ]
  },
  {
   "cell_type": "code",
   "execution_count": 0,
   "metadata": {
    "colab": {},
    "colab_type": "code",
    "id": "yfcx6DpCRRBk"
   },
   "outputs": [],
   "source": [
    "\n",
    "plt.imshow(grid(G.generate(torch.randn(8,160).cuda()).data.cpu().permute(0,2,3,1)).squeeze())\n",
    "plt.show()"
   ]
  },
  {
   "cell_type": "markdown",
   "metadata": {
    "colab": {},
    "colab_type": "code",
    "id": "yAHcCXXhIPuA"
   },
   "source": [
    "# Feedforward"
   ]
  },
  {
   "cell_type": "code",
   "execution_count": 1,
   "metadata": {},
   "outputs": [
    {
     "ename": "NameError",
     "evalue": "name 'nn' is not defined",
     "output_type": "error",
     "traceback": [
      "\u001b[0;31m---------------------------------------------------------------------------\u001b[0m",
      "\u001b[0;31mNameError\u001b[0m                                 Traceback (most recent call last)",
      "\u001b[0;32m<ipython-input-1-f743cf582fef>\u001b[0m in \u001b[0;36m<module>\u001b[0;34m\u001b[0m\n\u001b[0;32m----> 1\u001b[0;31m \u001b[0;32mclass\u001b[0m \u001b[0mE\u001b[0m\u001b[0;34m(\u001b[0m\u001b[0mnn\u001b[0m\u001b[0;34m.\u001b[0m\u001b[0mModule\u001b[0m\u001b[0;34m)\u001b[0m\u001b[0;34m:\u001b[0m\u001b[0;34m\u001b[0m\u001b[0;34m\u001b[0m\u001b[0m\n\u001b[0m\u001b[1;32m      2\u001b[0m     def __init__(self, min_res, max_res, min_fmaps, max_fmaps, latent_size,\n\u001b[1;32m      3\u001b[0m                  act, k_size, blocks, img_channels, dense_size=128, **kwargs):\n\u001b[1;32m      4\u001b[0m         \u001b[0msuper\u001b[0m\u001b[0;34m(\u001b[0m\u001b[0;34m)\u001b[0m\u001b[0;34m.\u001b[0m\u001b[0m__init__\u001b[0m\u001b[0;34m(\u001b[0m\u001b[0;34m)\u001b[0m\u001b[0;34m\u001b[0m\u001b[0;34m\u001b[0m\u001b[0m\n\u001b[1;32m      5\u001b[0m         \u001b[0;31m# building layers\u001b[0m\u001b[0;34m\u001b[0m\u001b[0;34m\u001b[0m\u001b[0;34m\u001b[0m\u001b[0m\n",
      "\u001b[0;31mNameError\u001b[0m: name 'nn' is not defined"
     ]
    }
   ],
   "source": [
    "class E(nn.Module):\n",
    "    def __init__(self, min_res, max_res, min_fmaps, max_fmaps, latent_size,\n",
    "                 act, k_size, blocks, img_channels, dense_size=128, **kwargs):\n",
    "        super().__init__()\n",
    "        # building layers\n",
    "        fmaps = np.linspace(min_fmaps, max_fmaps, blocks+1).astype('int')\n",
    "        self.from_channels = nn.Conv2d(img_channels, fmaps[0], 1)\n",
    "        self.layers = []\n",
    "        self.noise_outs = []\n",
    "        for i in range(blocks):\n",
    "            layer = D_Block(fmaps[i],fmaps[i+1], k_size, act)\n",
    "            self.add_module(str(i), layer)\n",
    "            self.layers.append(layer)\n",
    "            noise_out = nn.Conv2d(fmaps[i+1],2, 3, padding=1)\n",
    "            self.add_module('noise'+str(i), noise_out)\n",
    "            self.noise_outs.append(noise_out)\n",
    "            \n",
    "        self.conv = nn.Conv2d(fmaps[-1]+1,fmaps[-1], 3)\n",
    "        self.dense = nn.Linear(fmaps[-1]*(min_res-2)**2, dense_size)\n",
    "        self.output = nn.Linear(dense_size, latent_size)\n",
    "        self.act = act\n",
    "    \n",
    "    def get_latents(self, imgs):\n",
    "        noises = []\n",
    "        x = self.from_channels(imgs)\n",
    "        for i,layer in enumerate(self.layers):\n",
    "            x = layer(x)\n",
    "            noises.append(self.noise_outs[i](x))\n",
    "        x = self.minibatch_sttdev(x)\n",
    "        x = self.act(self.conv(x))\n",
    "        x = x.view(x.shape[0],-1)\n",
    "        x = self.act(self.dense(x))\n",
    "        dlatents = self.output(x)\n",
    "        return dlatents, noises\n",
    "        "
   ]
  },
  {
   "cell_type": "code",
   "execution_count": null,
   "metadata": {},
   "outputs": [],
   "source": [
    "def train_E(G, E, max_iter, batch_size, E_opt_args, mapping_opt_args,\n",
    "            pl_weight, r1_weight,\n",
    "          r1_interval, pl_interval, val_interval, num_workers):\n",
    "    # create dataloader\n",
    "    dataloader = NextDataLoader(dataset, batch_size, num_workers=num_workers)\n",
    "    # create optimizer\n",
    "    optimizer = torch.optim.Adam(D.parameters(), **D_opt_args)\n",
    "    Path_length_reg = Path_length_loss()\n",
    "    for i in tqdm(range(max_iter)):\n",
    "        for j in range(D_steps):\n",
    "            real_imgs = next(dataloader)[0].cuda()\n",
    "            real_imgs.requires_grad = True\n",
    "            dlatent = G.sample(real_imgs.shape[0])\n",
    "            fake_imgs = G.generate(dlatent)\n",
    "            real_scores = D.get_score(real_imgs)\n",
    "            fake_scores = D.get_score(fake_imgs)\n",
    "            loss =  D_logistic(real_scores, fake_scores)\n",
    "            if i % r1_interval == 0 and j == D_steps-1:\n",
    "                loss += r1_weight*r1_interval*R1_reg(real_imgs, real_scores)\n",
    "            real_imgs.requires_grad = False\n",
    "            disc_optimizer.zero_grad()\n",
    "            loss.backward()\n",
    "            disc_optimizer.step()\n",
    "            disc_scheduler.step()\n",
    "\n",
    "        dlatent = G.sample(batch_size)\n",
    "        fake_imgs = G.generate(dlatent)\n",
    "        fake_scores = D.get_score(fake_imgs)    \n",
    "        loss = G_logistic_ns(fake_scores)    \n",
    "        if i % pl_interval == 0:\n",
    "            loss += pl_weight*pl_interval*Path_length_reg(dlatent, fake_imgs)   \n",
    "        gen_optimizer.zero_grad()\n",
    "        loss.backward()\n",
    "        gen_optimizer.step()\n",
    "        gen_scheduler.step()\n",
    "        G.update_avg_weights()\n",
    "\n",
    "        \n",
    "        if i % val_interval == 0:\n",
    "            display.clear_output(wait=True)\n",
    "            # print pictures, Generator performance\n",
    "            # real = real_imgs[:32].permute(0,2,3,1).cpu().numpy()\n",
    "            # plt.imshow(grid(real).squeeze())\n",
    "            # plt.show()\n",
    "            gen = fake_imgs[:32].detach().permute(0,2,3,1).cpu().numpy()\n",
    "            plt.imshow(grid(gen).squeeze())\n",
    "            plt.show()\n",
    "            # print prob distribution, Discriminator performance\n",
    "            plt.figure(figsize=(5,5))\n",
    "            plt.title('Generated vs real data')\n",
    "            plt.hist(torch.sigmoid(real_scores.data).cpu().numpy(), label='D(x)', alpha=0.5,range=[0,1])\n",
    "            plt.hist(torch.sigmoid(fake_scores.data).cpu().numpy(), label='D(G(z))',alpha=0.5,range=[0,1])\n",
    "            plt.legend(loc='best')\n",
    "            plt.show()\n",
    "\n",
    "\n",
    "        if i % 500 == 0:\n",
    "            torch.save(G.state_dict(), '/content/drive/My Drive/Checkpoints/'+'G.pt')\n",
    "            torch.save(D.state_dict(), '/content/drive/My Drive/Checkpoints/'+'D.pt')"
   ]
  }
 ],
 "metadata": {
  "accelerator": "GPU",
  "colab": {
   "collapsed_sections": [],
   "name": "stylegan.ipynb",
   "provenance": [],
   "toc_visible": true
  },
  "kernelspec": {
   "display_name": "Python 3",
   "language": "python",
   "name": "python3"
  },
  "language_info": {
   "codemirror_mode": {
    "name": "ipython",
    "version": 3
   },
   "file_extension": ".py",
   "mimetype": "text/x-python",
   "name": "python",
   "nbconvert_exporter": "python",
   "pygments_lexer": "ipython3",
   "version": "3.8.1"
  }
 },
 "nbformat": 4,
 "nbformat_minor": 1
}
