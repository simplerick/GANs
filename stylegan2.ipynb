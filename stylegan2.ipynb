{
 "cells": [
  {
   "cell_type": "markdown",
   "metadata": {},
   "source": [
    "# Description"
   ]
  },
  {
   "cell_type": "markdown",
   "metadata": {
    "colab_type": "text",
    "id": "6H43TxTUwnhI"
   },
   "source": [
    "### To do: style mixing"
   ]
  },
  {
   "cell_type": "code",
   "execution_count": 1,
   "metadata": {
    "colab": {},
    "colab_type": "code",
    "id": "0vxBkbC2wngr"
   },
   "outputs": [],
   "source": [
    "import torch\n",
    "from torch import nn\n",
    "import torch.nn.functional as F\n",
    "import numpy as np\n",
    "from modules import *\n",
    "from loss import *\n",
    "from misc import *"
   ]
  },
  {
   "cell_type": "code",
   "execution_count": 2,
   "metadata": {
    "colab": {},
    "colab_type": "code",
    "id": "sG2YCdBGwng7"
   },
   "outputs": [],
   "source": [
    "from torchvision.datasets import MNIST\n",
    "import torchvision.transforms as T\n",
    "import matplotlib.pyplot as plt\n",
    "from IPython import display\n",
    "from tqdm import tqdm"
   ]
  },
  {
   "cell_type": "code",
   "execution_count": 3,
   "metadata": {
    "colab": {},
    "colab_type": "code",
    "id": "tGqahOJBwnhB"
   },
   "outputs": [],
   "source": [
    "plt.rcParams['figure.figsize'] = (11,11)\n",
    "plt.rcParams['image.cmap'] = 'gray'"
   ]
  },
  {
   "cell_type": "markdown",
   "metadata": {},
   "source": [
    "## Generator architecture"
   ]
  },
  {
   "cell_type": "code",
   "execution_count": 4,
   "metadata": {
    "colab": {},
    "colab_type": "code",
    "id": "WYv91cykwnhc"
   },
   "outputs": [],
   "source": [
    "class Generator(nn.Module):\n",
    "    def __init__(self, min_res, max_res, min_fmaps, max_fmaps, act, \n",
    "                 k_size, blocks, img_channels, latent_size, n_layers, \n",
    "                 truncation_psi = 0.8, dlatent_avg_decay = 0.995, weights_avg_decay=0.99, **kwargs):\n",
    "        super().__init__()\n",
    "        dres = min_res*2**blocks - max_res\n",
    "        assert dres >= 0\n",
    "        # building mapping net\n",
    "        self.latent_size = latent_size\n",
    "        self.mapping = Mapping(n_layers, latent_size, act)\n",
    "        # learnable const\n",
    "        self.const = nn.Parameter(torch.randn(max_fmaps, min_res, min_res))\n",
    "        # building main layers\n",
    "        fmaps = np.linspace(max_fmaps, min_fmaps, blocks+1).astype('int')\n",
    "        self.layers = []\n",
    "        for i in range(blocks):\n",
    "            layer = G_Block(fmaps[i],fmaps[i+1], k_size, latent_size, act, img_channels=img_channels)\n",
    "            self.add_module(str(i), layer)\n",
    "            self.layers.append(layer)\n",
    "        if dres > 0:\n",
    "            self.crop = torch.nn.ZeroPad2d(-dres//2)\n",
    "        # running average of dlatents, weights and truncation params\n",
    "        self.dlatent_avg_decay = dlatent_avg_decay\n",
    "        self.truncation_psi = truncation_psi\n",
    "        self.register_buffer('dlatent_avg', torch.zeros(latent_size))\n",
    "        self.weights_avg_decay = weights_avg_decay\n",
    "    \n",
    "    \n",
    "    # update running average of weights\n",
    "    def update_avg_weights(self):\n",
    "        if not hasattr(self, 'weights_avg'):\n",
    "            self.weights_avg = [p.data.clone() for p in self.parameters()]\n",
    "        for i, p  in enumerate(self.parameters()): \n",
    "            self.weights_avg[i] = self.weights_avg[i].to(p.device)\n",
    "            new_weight = (1-self.weights_avg_decay)*self.weights_avg[i] +  self.weights_avg_decay*p.data\n",
    "            p.data.copy_(new_weight)\n",
    "            self.weights_avg[i].data.copy_(new_weight)\n",
    "\n",
    "    \n",
    "    def sample_dlatents(self,n):\n",
    "        device = self.const.device\n",
    "        z = torch.randn(n, self.latent_size).to(device)\n",
    "        v = self.mapping(z)\n",
    "        # update dlatent average\n",
    "        if self.training:\n",
    "            self.dlatent_avg = self.dlatent_avg_decay*self.dlatent_avg + (1-self.dlatent_avg_decay)*v.mean(0)\n",
    "        return v\n",
    "    \n",
    "    \n",
    "    def generate(self, v):\n",
    "        x = self.const.expand(v.shape[0], *self.const.shape).contiguous()\n",
    "        y = None\n",
    "        for layer in self.layers:\n",
    "            x, y = layer(x,v,y)           \n",
    "        if hasattr(self, 'crop'):\n",
    "            y = self.crop(y)\n",
    "        return y\n",
    "\n",
    "    \n",
    "    # fully reproducible results\n",
    "    def deterministic_generate(self, v, input_noises):\n",
    "        x = self.const.expand(v.shape[0], *self.const.shape).contiguous()\n",
    "        y = None\n",
    "        for i,layer in enumerate(self.layers):\n",
    "            x, y = layer(x,v,y, input_noises[i])    \n",
    "        if hasattr(self, 'crop'):\n",
    "            y = self.crop(y)\n",
    "        return y\n",
    "    \n",
    "    \n",
    "    # for evaluation\n",
    "    def sample_images(self,n):\n",
    "        with torch.no_grad():\n",
    "            v = self.sample_dlatents(n)\n",
    "            # truncation trick\n",
    "            v = self.dlatent_avg + self.truncation_psi*(v-self.dlatent_avg)\n",
    "            images = img_tensor_switch(self.generate(v))\n",
    "        return images"
   ]
  },
  {
   "cell_type": "markdown",
   "metadata": {},
   "source": [
    "## Discriminator architecture"
   ]
  },
  {
   "cell_type": "code",
   "execution_count": 5,
   "metadata": {
    "colab": {},
    "colab_type": "code",
    "id": "I_uZxLxIwnhp"
   },
   "outputs": [],
   "source": [
    "class Discriminator(nn.Module):\n",
    "    def __init__(self, min_res, max_res, min_fmaps, max_fmaps, act, \n",
    "                 k_size, blocks, img_channels, dense_size=128, **kwargs):\n",
    "        super().__init__()\n",
    "        assert max_res <= min_res*2**blocks and max_res >= (min_res-1)*2**blocks\n",
    "        # building layers\n",
    "        fmaps = np.linspace(min_fmaps, max_fmaps, blocks+1).astype('int')\n",
    "        self.from_channels = nn.Conv2d(img_channels, fmaps[0], 1)\n",
    "        self.layers = []\n",
    "        for i in range(blocks):\n",
    "            layer = D_Block(fmaps[i],fmaps[i+1], k_size, act)\n",
    "            self.add_module(str(i), layer)\n",
    "            self.layers.append(layer)\n",
    "        self.minibatch_sttdev = Minibatch_Stddev()\n",
    "        self.conv = nn.Conv2d(fmaps[-1]+1,fmaps[-1], 3)\n",
    "        self.dense = nn.Linear(fmaps[-1]*(min_res-2)**2, dense_size)\n",
    "        self.output = nn.Linear(dense_size, 1)\n",
    "        self.act = act\n",
    "    \n",
    "    \n",
    "    def get_score(self, imgs):\n",
    "        x = self.from_channels(imgs)\n",
    "        for layer in self.layers:\n",
    "            x = layer(x)\n",
    "        x = self.minibatch_sttdev(x)\n",
    "        x = self.act(self.conv(x))\n",
    "        x = x.view(x.shape[0],-1)\n",
    "        x = self.act(self.dense(x))\n",
    "        x = self.output(x)\n",
    "        return x"
   ]
  },
  {
   "cell_type": "markdown",
   "metadata": {},
   "source": [
    "## Define training loop"
   ]
  },
  {
   "cell_type": "code",
   "execution_count": 6,
   "metadata": {
    "colab": {},
    "colab_type": "code",
    "id": "k6wIAuQCwnh8"
   },
   "outputs": [],
   "source": [
    "def train(G, D, dataset, max_iter, batch_size, \n",
    "          G_opt_args, D_opt_args, mapping_opt_args,\n",
    "          D_steps, pl_weight, r1_weight,\n",
    "          r1_interval, pl_interval, val_interval, num_workers, pl_batch_part, checkpoint=None):\n",
    "    \n",
    "    pl_batch = int(pl_batch_part*batch_size)\n",
    "    device = next(D.parameters()).device\n",
    "    Path_length_reg = Path_length_loss()\n",
    "\n",
    "    # create dataloader\n",
    "    dataloader = NextDataLoader(dataset, batch_size, num_workers=num_workers)\n",
    "    mean = dataset.transforms.transform.transforms[1].mean[0]\n",
    "    std = dataset.transforms.transform.transforms[1].std[0]\n",
    "    \n",
    "    # load state\n",
    "    if checkpoint:\n",
    "        G.load_state_dict(checkpoint['G'])\n",
    "        D.load_state_dict(checkpoint['D'])\n",
    "        Path_length_reg.avg = checkpoint['pl_loss_avg']\n",
    "    \n",
    "    # create optimizer\n",
    "    G_params = []\n",
    "    for n,m in G.named_children():\n",
    "        if n != 'mapping':\n",
    "            G_params.extend(m.parameters())\n",
    "    gen_optimizer = torch.optim.Adam([{'params': G_params},\n",
    "                                  {'params': G.mapping.parameters(), **mapping_opt_args},\n",
    "                                  {'params': G.const, **mapping_opt_args},\n",
    "                                  ], **G_opt_args)\n",
    "    disc_optimizer = torch.optim.Adam(D.parameters(), **D_opt_args)\n",
    "    \n",
    "    G.train()\n",
    "    D.train()\n",
    "    \n",
    "    for i in tqdm(range(max_iter)):\n",
    "        for j in range(D_steps):\n",
    "            real_imgs = next(dataloader)[0].to(device)\n",
    "            real_imgs.requires_grad = True\n",
    "            dlatent = G.sample_dlatents(real_imgs.shape[0])\n",
    "            fake_imgs = G.generate(dlatent)\n",
    "            real_scores = D.get_score(real_imgs)\n",
    "            fake_scores = D.get_score(fake_imgs)\n",
    "            loss =  D_logistic(real_scores, fake_scores)\n",
    "            if i % r1_interval == 0 and j == D_steps-1:\n",
    "                loss += r1_weight*r1_interval*R1_reg(real_imgs, real_scores)\n",
    "            real_imgs.requires_grad = False\n",
    "            disc_optimizer.zero_grad()\n",
    "            loss.backward()\n",
    "            disc_optimizer.step()\n",
    "\n",
    "\n",
    "        dlatent = G.sample_dlatents(batch_size)   \n",
    "        if i % pl_interval == 0:\n",
    "            dlatent_part1, dlatent_part_2 = dlatent[:pl_batch], dlatent[pl_batch:]\n",
    "            fake_imgs = G.generate(torch.cat((dlatent_part1, dlatent_part_2), 0))\n",
    "            fake_scores = D.get_score(fake_imgs)\n",
    "            loss = G_logistic_ns(fake_scores) \\\n",
    "                   + pl_weight*pl_interval*Path_length_reg(dlatent_part1, fake_imgs[:pl_batch])\n",
    "        else:\n",
    "            fake_imgs = G.generate(dlatent)\n",
    "            fake_scores = D.get_score(fake_imgs)\n",
    "            loss = G_logistic_ns(fake_scores)  \n",
    "        gen_optimizer.zero_grad()\n",
    "        loss.backward()\n",
    "        gen_optimizer.step()\n",
    "        G.update_avg_weights()\n",
    "\n",
    "        \n",
    "        if i % val_interval == 0:\n",
    "            display.clear_output(wait=True)\n",
    "            # print pictures\n",
    "            gen = img_tensor_switch(fake_imgs[:32])*std+mean\n",
    "            plt.imshow(grid(gen).squeeze())\n",
    "            plt.show()\n",
    "            # print prob distribution\n",
    "            plt.figure(figsize=(5,5))\n",
    "            plt.title('Generated vs real data')\n",
    "            plt.hist(torch.sigmoid(real_scores.data).cpu().numpy(), label='D(x)', alpha=0.5,range=[0,1])\n",
    "            plt.hist(torch.sigmoid(fake_scores.data).cpu().numpy(), label='D(G(z))',alpha=0.5,range=[0,1])\n",
    "            plt.legend(loc='best')\n",
    "            plt.show()\n",
    "\n",
    "\n",
    "        if i % (20*val_interval) == 0:\n",
    "            torch.save({\n",
    "                        'G': G.state_dict(),\n",
    "                        'D': D.state_dict(),\n",
    "                        'pl_loss_avg': Path_length_reg.avg.item()\n",
    "                        }, 'checkpoint.pt')"
   ]
  },
  {
   "cell_type": "markdown",
   "metadata": {
    "colab_type": "text",
    "id": "c8YvuQuOwnhU"
   },
   "source": [
    "## Hyperparams"
   ]
  },
  {
   "cell_type": "code",
   "execution_count": 7,
   "metadata": {
    "colab": {},
    "colab_type": "code",
    "id": "hUKIBaQJwnhW"
   },
   "outputs": [],
   "source": [
    "act = Scaled_Act(nn.LeakyReLU(0.2))\n",
    "img_channels = 1\n",
    "n_layers = 4\n",
    "latent_size = 160\n",
    "min_res = 4\n",
    "max_res = 28\n",
    "blocks = 3\n",
    "k_size = 3\n",
    "max_fmaps = 128\n",
    "min_fmaps = 64\n",
    "\n",
    "device = 'cuda'\n",
    "\n",
    "train_params = {'max_iter': 25000, 'batch_size' : 160, \n",
    "                'G_opt_args' : {'lr' : 0.001, 'betas' : (0.1, 0.99)}, \n",
    "                'D_opt_args' : {'lr' : 0.001, 'betas' : (0, 0.99), 'eps' : 1e-08}, \n",
    "                'mapping_opt_args' : {'lr' : 1e-5}, \n",
    "                'D_steps': 1, 'pl_weight': 2, 'r1_weight': 5, 'pl_batch_part': 0.25,\n",
    "                'pl_interval': 4, 'r1_interval': 16, 'num_workers': 2, 'val_interval': 20}"
   ]
  },
  {
   "cell_type": "markdown",
   "metadata": {},
   "source": [
    "# Training"
   ]
  },
  {
   "cell_type": "code",
   "execution_count": 8,
   "metadata": {
    "colab": {},
    "colab_type": "code",
    "id": "s1-GgOMswnhj"
   },
   "outputs": [],
   "source": [
    "G = Generator(min_res, max_res, min_fmaps, max_fmaps, act, \n",
    "              k_size, blocks, img_channels, latent_size, n_layers, weights_avg_decay=0.99).to(device)"
   ]
  },
  {
   "cell_type": "code",
   "execution_count": 9,
   "metadata": {
    "colab": {},
    "colab_type": "code",
    "id": "s1-GgOMswnhj"
   },
   "outputs": [],
   "source": [
    "D = Discriminator(min_res, max_res, min_fmaps, max_fmaps, act, \n",
    "                   k_size, blocks, img_channels).to(device)"
   ]
  },
  {
   "cell_type": "code",
   "execution_count": 10,
   "metadata": {
    "colab": {},
    "colab_type": "code",
    "id": "RMKWKPHvwniI"
   },
   "outputs": [],
   "source": [
    "mean = 0.1307\n",
    "std = 0.3081\n",
    "dataset = MNIST('data', transform=T.Compose([T.ToTensor(), T.Normalize((mean,), (std,))]), download=True)"
   ]
  },
  {
   "cell_type": "code",
   "execution_count": 11,
   "metadata": {
    "colab": {},
    "colab_type": "code",
    "id": "ATDGumnU0hj2"
   },
   "outputs": [],
   "source": [
    "# Equalized learning rate\n",
    "G = Equal_LR('weight')(G)\n",
    "D = Equal_LR('weight')(D)"
   ]
  },
  {
   "cell_type": "code",
   "execution_count": 12,
   "metadata": {},
   "outputs": [],
   "source": [
    "# Initialization\n",
    "def init_weights(m):\n",
    "    if hasattr(m, 'weight_orig'):\n",
    "        torch.nn.init.normal_(m.weight_orig)\n",
    "    if hasattr(m, 'bias'):\n",
    "        torch.nn.init.zeros_(m.bias)\n",
    "        \n",
    "G.apply(init_weights)\n",
    "D.apply(init_weights);"
   ]
  },
  {
   "cell_type": "code",
   "execution_count": 21,
   "metadata": {
    "colab": {
     "base_uri": "https://localhost:8080/",
     "height": 696
    },
    "colab_type": "code",
    "id": "pHn7nW9mwniX",
    "outputId": "a6bee887-eaad-4fe9-f41f-b72f5a062376",
    "scrolled": false
   },
   "outputs": [
    {
     "name": "stderr",
     "output_type": "stream",
     "text": [
      "\r",
      "  0%|          | 0/25000 [00:00<?, ?it/s]"
     ]
    },
    {
     "ename": "RuntimeError",
     "evalue": "CUDA out of memory. Tried to allocate 36.00 MiB (GPU 0; 1.96 GiB total capacity; 1.53 GiB already allocated; 25.00 MiB free; 1.67 GiB reserved in total by PyTorch)",
     "output_type": "error",
     "traceback": [
      "\u001b[0;31m---------------------------------------------------------------------------\u001b[0m",
      "\u001b[0;31mRuntimeError\u001b[0m                              Traceback (most recent call last)",
      "\u001b[0;32m<ipython-input-21-dea6c30433b5>\u001b[0m in \u001b[0;36m<module>\u001b[0;34m\u001b[0m\n\u001b[0;32m----> 1\u001b[0;31m \u001b[0mtrain\u001b[0m\u001b[0;34m(\u001b[0m\u001b[0mG\u001b[0m\u001b[0;34m,\u001b[0m \u001b[0mD\u001b[0m\u001b[0;34m,\u001b[0m \u001b[0mdataset\u001b[0m\u001b[0;34m,\u001b[0m \u001b[0;34m**\u001b[0m\u001b[0mtrain_params\u001b[0m\u001b[0;34m,\u001b[0m \u001b[0mcheckpoint\u001b[0m\u001b[0;34m=\u001b[0m\u001b[0mtorch\u001b[0m\u001b[0;34m.\u001b[0m\u001b[0mload\u001b[0m\u001b[0;34m(\u001b[0m\u001b[0;34m'checkpoint.pt'\u001b[0m\u001b[0;34m)\u001b[0m\u001b[0;34m)\u001b[0m\u001b[0;34m\u001b[0m\u001b[0;34m\u001b[0m\u001b[0m\n\u001b[0m",
      "\u001b[0;32m<ipython-input-6-cc171eb7709d>\u001b[0m in \u001b[0;36mtrain\u001b[0;34m(G, D, dataset, max_iter, batch_size, G_opt_args, D_opt_args, mapping_opt_args, D_steps, pl_weight, r1_weight, r1_interval, pl_interval, val_interval, num_workers, pl_batch_part, checkpoint)\u001b[0m\n\u001b[1;32m     56\u001b[0m             \u001b[0mfake_scores\u001b[0m \u001b[0;34m=\u001b[0m \u001b[0mD\u001b[0m\u001b[0;34m.\u001b[0m\u001b[0mget_score\u001b[0m\u001b[0;34m(\u001b[0m\u001b[0mfake_imgs\u001b[0m\u001b[0;34m)\u001b[0m\u001b[0;34m\u001b[0m\u001b[0;34m\u001b[0m\u001b[0m\n\u001b[1;32m     57\u001b[0m             \u001b[0mloss\u001b[0m \u001b[0;34m=\u001b[0m \u001b[0mG_logistic_ns\u001b[0m\u001b[0;34m(\u001b[0m\u001b[0mfake_scores\u001b[0m\u001b[0;34m)\u001b[0m\u001b[0;31m \u001b[0m\u001b[0;31m\\\u001b[0m\u001b[0;34m\u001b[0m\u001b[0;34m\u001b[0m\u001b[0m\n\u001b[0;32m---> 58\u001b[0;31m                    \u001b[0;34m+\u001b[0m \u001b[0mpl_weight\u001b[0m\u001b[0;34m*\u001b[0m\u001b[0mpl_interval\u001b[0m\u001b[0;34m*\u001b[0m\u001b[0mPath_length_reg\u001b[0m\u001b[0;34m(\u001b[0m\u001b[0mdlatent_part1\u001b[0m\u001b[0;34m,\u001b[0m \u001b[0mfake_imgs\u001b[0m\u001b[0;34m[\u001b[0m\u001b[0;34m:\u001b[0m\u001b[0mpl_batch\u001b[0m\u001b[0;34m]\u001b[0m\u001b[0;34m)\u001b[0m\u001b[0;34m\u001b[0m\u001b[0;34m\u001b[0m\u001b[0m\n\u001b[0m\u001b[1;32m     59\u001b[0m         \u001b[0;32melse\u001b[0m\u001b[0;34m:\u001b[0m\u001b[0;34m\u001b[0m\u001b[0;34m\u001b[0m\u001b[0m\n\u001b[1;32m     60\u001b[0m             \u001b[0mfake_imgs\u001b[0m \u001b[0;34m=\u001b[0m \u001b[0mG\u001b[0m\u001b[0;34m.\u001b[0m\u001b[0mgenerate\u001b[0m\u001b[0;34m(\u001b[0m\u001b[0mdlatent\u001b[0m\u001b[0;34m)\u001b[0m\u001b[0;34m\u001b[0m\u001b[0;34m\u001b[0m\u001b[0m\n",
      "\u001b[0;32m~/.local/lib/python3.8/site-packages/torch/nn/modules/module.py\u001b[0m in \u001b[0;36m__call__\u001b[0;34m(self, *input, **kwargs)\u001b[0m\n\u001b[1;32m    530\u001b[0m             \u001b[0mresult\u001b[0m \u001b[0;34m=\u001b[0m \u001b[0mself\u001b[0m\u001b[0;34m.\u001b[0m\u001b[0m_slow_forward\u001b[0m\u001b[0;34m(\u001b[0m\u001b[0;34m*\u001b[0m\u001b[0minput\u001b[0m\u001b[0;34m,\u001b[0m \u001b[0;34m**\u001b[0m\u001b[0mkwargs\u001b[0m\u001b[0;34m)\u001b[0m\u001b[0;34m\u001b[0m\u001b[0;34m\u001b[0m\u001b[0m\n\u001b[1;32m    531\u001b[0m         \u001b[0;32melse\u001b[0m\u001b[0;34m:\u001b[0m\u001b[0;34m\u001b[0m\u001b[0;34m\u001b[0m\u001b[0m\n\u001b[0;32m--> 532\u001b[0;31m             \u001b[0mresult\u001b[0m \u001b[0;34m=\u001b[0m \u001b[0mself\u001b[0m\u001b[0;34m.\u001b[0m\u001b[0mforward\u001b[0m\u001b[0;34m(\u001b[0m\u001b[0;34m*\u001b[0m\u001b[0minput\u001b[0m\u001b[0;34m,\u001b[0m \u001b[0;34m**\u001b[0m\u001b[0mkwargs\u001b[0m\u001b[0;34m)\u001b[0m\u001b[0;34m\u001b[0m\u001b[0;34m\u001b[0m\u001b[0m\n\u001b[0m\u001b[1;32m    533\u001b[0m         \u001b[0;32mfor\u001b[0m \u001b[0mhook\u001b[0m \u001b[0;32min\u001b[0m \u001b[0mself\u001b[0m\u001b[0;34m.\u001b[0m\u001b[0m_forward_hooks\u001b[0m\u001b[0;34m.\u001b[0m\u001b[0mvalues\u001b[0m\u001b[0;34m(\u001b[0m\u001b[0;34m)\u001b[0m\u001b[0;34m:\u001b[0m\u001b[0;34m\u001b[0m\u001b[0;34m\u001b[0m\u001b[0m\n\u001b[1;32m    534\u001b[0m             \u001b[0mhook_result\u001b[0m \u001b[0;34m=\u001b[0m \u001b[0mhook\u001b[0m\u001b[0;34m(\u001b[0m\u001b[0mself\u001b[0m\u001b[0;34m,\u001b[0m \u001b[0minput\u001b[0m\u001b[0;34m,\u001b[0m \u001b[0mresult\u001b[0m\u001b[0;34m)\u001b[0m\u001b[0;34m\u001b[0m\u001b[0;34m\u001b[0m\u001b[0m\n",
      "\u001b[0;32m~/GANs/loss.py\u001b[0m in \u001b[0;36mforward\u001b[0;34m(self, dlatent, gen_out)\u001b[0m\n\u001b[1;32m     36\u001b[0m         \u001b[0;31m# Compute |J*y|.\u001b[0m\u001b[0;34m\u001b[0m\u001b[0;34m\u001b[0m\u001b[0;34m\u001b[0m\u001b[0m\n\u001b[1;32m     37\u001b[0m         \u001b[0mnoise\u001b[0m \u001b[0;34m=\u001b[0m \u001b[0mtorch\u001b[0m\u001b[0;34m.\u001b[0m\u001b[0mrandn\u001b[0m\u001b[0;34m(\u001b[0m\u001b[0mgen_out\u001b[0m\u001b[0;34m.\u001b[0m\u001b[0mshape\u001b[0m\u001b[0;34m,\u001b[0m \u001b[0mdevice\u001b[0m\u001b[0;34m=\u001b[0m\u001b[0mgen_out\u001b[0m\u001b[0;34m.\u001b[0m\u001b[0mdevice\u001b[0m\u001b[0;34m)\u001b[0m\u001b[0;34m/\u001b[0m\u001b[0mnp\u001b[0m\u001b[0;34m.\u001b[0m\u001b[0msqrt\u001b[0m\u001b[0;34m(\u001b[0m\u001b[0mnp\u001b[0m\u001b[0;34m.\u001b[0m\u001b[0mprod\u001b[0m\u001b[0;34m(\u001b[0m\u001b[0mgen_out\u001b[0m\u001b[0;34m.\u001b[0m\u001b[0mshape\u001b[0m\u001b[0;34m[\u001b[0m\u001b[0;36m2\u001b[0m\u001b[0;34m:\u001b[0m\u001b[0;34m]\u001b[0m\u001b[0;34m)\u001b[0m\u001b[0;34m)\u001b[0m \u001b[0;31m#[N,Channels,H,W]\u001b[0m\u001b[0;34m\u001b[0m\u001b[0;34m\u001b[0m\u001b[0m\n\u001b[0;32m---> 38\u001b[0;31m         \u001b[0mgrads\u001b[0m \u001b[0;34m=\u001b[0m \u001b[0mtorch\u001b[0m\u001b[0;34m.\u001b[0m\u001b[0mautograd\u001b[0m\u001b[0;34m.\u001b[0m\u001b[0mgrad\u001b[0m\u001b[0;34m(\u001b[0m\u001b[0;34m(\u001b[0m\u001b[0mgen_out\u001b[0m \u001b[0;34m*\u001b[0m \u001b[0mnoise\u001b[0m\u001b[0;34m)\u001b[0m\u001b[0;34m.\u001b[0m\u001b[0msum\u001b[0m\u001b[0;34m(\u001b[0m\u001b[0;34m)\u001b[0m\u001b[0;34m,\u001b[0m \u001b[0mdlatent\u001b[0m\u001b[0;34m,\u001b[0m \u001b[0mcreate_graph\u001b[0m\u001b[0;34m=\u001b[0m\u001b[0;32mTrue\u001b[0m\u001b[0;34m)\u001b[0m\u001b[0;34m[\u001b[0m\u001b[0;36m0\u001b[0m\u001b[0;34m]\u001b[0m  \u001b[0;31m#[N,dlatent_size]\u001b[0m\u001b[0;34m\u001b[0m\u001b[0;34m\u001b[0m\u001b[0m\n\u001b[0m\u001b[1;32m     39\u001b[0m         \u001b[0mlengths\u001b[0m \u001b[0;34m=\u001b[0m \u001b[0mtorch\u001b[0m\u001b[0;34m.\u001b[0m\u001b[0msqrt\u001b[0m\u001b[0;34m(\u001b[0m\u001b[0;34m(\u001b[0m\u001b[0mgrads\u001b[0m\u001b[0;34m**\u001b[0m\u001b[0;36m2\u001b[0m\u001b[0;34m)\u001b[0m\u001b[0;34m.\u001b[0m\u001b[0mmean\u001b[0m\u001b[0;34m(\u001b[0m\u001b[0;36m1\u001b[0m\u001b[0;34m)\u001b[0m\u001b[0;34m)\u001b[0m \u001b[0;31m#[N]\u001b[0m\u001b[0;34m\u001b[0m\u001b[0;34m\u001b[0m\u001b[0m\n\u001b[1;32m     40\u001b[0m         \u001b[0;31m# Update exp average. Lengths are detached\u001b[0m\u001b[0;34m\u001b[0m\u001b[0;34m\u001b[0m\u001b[0;34m\u001b[0m\u001b[0m\n",
      "\u001b[0;32m~/.local/lib/python3.8/site-packages/torch/autograd/__init__.py\u001b[0m in \u001b[0;36mgrad\u001b[0;34m(outputs, inputs, grad_outputs, retain_graph, create_graph, only_inputs, allow_unused)\u001b[0m\n\u001b[1;32m    153\u001b[0m         \u001b[0mretain_graph\u001b[0m \u001b[0;34m=\u001b[0m \u001b[0mcreate_graph\u001b[0m\u001b[0;34m\u001b[0m\u001b[0;34m\u001b[0m\u001b[0m\n\u001b[1;32m    154\u001b[0m \u001b[0;34m\u001b[0m\u001b[0m\n\u001b[0;32m--> 155\u001b[0;31m     return Variable._execution_engine.run_backward(\n\u001b[0m\u001b[1;32m    156\u001b[0m         \u001b[0moutputs\u001b[0m\u001b[0;34m,\u001b[0m \u001b[0mgrad_outputs\u001b[0m\u001b[0;34m,\u001b[0m \u001b[0mretain_graph\u001b[0m\u001b[0;34m,\u001b[0m \u001b[0mcreate_graph\u001b[0m\u001b[0;34m,\u001b[0m\u001b[0;34m\u001b[0m\u001b[0;34m\u001b[0m\u001b[0m\n\u001b[1;32m    157\u001b[0m         inputs, allow_unused)\n",
      "\u001b[0;31mRuntimeError\u001b[0m: CUDA out of memory. Tried to allocate 36.00 MiB (GPU 0; 1.96 GiB total capacity; 1.53 GiB already allocated; 25.00 MiB free; 1.67 GiB reserved in total by PyTorch)"
     ]
    }
   ],
   "source": [
    "train(G, D, dataset, **train_params, checkpoint=torch.load('checkpoint.pt'))"
   ]
  },
  {
   "cell_type": "code",
   "execution_count": 19,
   "metadata": {
    "colab": {},
    "colab_type": "code",
    "id": "vi3nmIkAN9B2"
   },
   "outputs": [
    {
     "data": {
      "image/png": "[encoded data removed]",
      "text/plain": [
       "<Figure size 792x792 with 1 Axes>"
      ]
     },
     "metadata": {
      "needs_background": "light"
     },
     "output_type": "display_data"
    }
   ],
   "source": [
    "G.truncation_psi = 0.8\n",
    "plt.imshow(grid(G.sample_images(32)*std+mean).squeeze())\n",
    "plt.show()"
   ]
  },
  {
   "cell_type": "code",
   "execution_count": null,
   "metadata": {
    "colab": {},
    "colab_type": "code",
    "id": "pDaIcs1d2lT5"
   },
   "outputs": [],
   "source": [
    "real_imgs = dataset.data[:32].unsqueeze(-1)\n",
    "print(real_imgs.shape)\n",
    "plt.imshow(grid(real_imgs).squeeze())\n",
    "plt.show()"
   ]
  },
  {
   "cell_type": "markdown",
   "metadata": {
    "colab": {},
    "colab_type": "code",
    "id": "yAHcCXXhIPuA"
   },
   "source": [
    "# Feedforward"
   ]
  },
  {
   "cell_type": "code",
   "execution_count": null,
   "metadata": {},
   "outputs": [],
   "source": [
    "class E(nn.Module):\n",
    "    def __init__(self, min_res, max_res, min_fmaps, max_fmaps, latent_size,\n",
    "                 act, k_size, blocks, img_channels, dense_size=128, **kwargs):\n",
    "        super().__init__()\n",
    "        # building layers\n",
    "        fmaps = np.linspace(min_fmaps, max_fmaps, blocks+1).astype('int')\n",
    "        self.from_channels = nn.Conv2d(img_channels, fmaps[0], 1)\n",
    "        self.layers = []\n",
    "        self.noise_outs = []\n",
    "        for i in range(blocks):\n",
    "            layer = D_Block(fmaps[i],fmaps[i+1], k_size, act)\n",
    "            self.add_module(str(i), layer)\n",
    "            self.layers.append(layer)\n",
    "            noise_out = nn.Conv2d(fmaps[i+1],2, 3, padding=1)\n",
    "            self.add_module('noise'+str(i), noise_out)\n",
    "            self.noise_outs.append(noise_out)\n",
    "            \n",
    "        self.conv = nn.Conv2d(fmaps[-1]+1,fmaps[-1], 3)\n",
    "        self.dense = nn.Linear(fmaps[-1]*(min_res-2)**2, dense_size)\n",
    "        self.output = nn.Linear(dense_size, latent_size)\n",
    "        self.act = act\n",
    "    \n",
    "    def get_latents(self, imgs):\n",
    "        noises = []\n",
    "        x = self.from_channels(imgs)\n",
    "        for i,layer in enumerate(self.layers):\n",
    "            x = layer(x)\n",
    "            noises.append(self.noise_outs[i](x))\n",
    "        x = self.minibatch_sttdev(x)\n",
    "        x = self.act(self.conv(x))\n",
    "        x = x.view(x.shape[0],-1)\n",
    "        x = self.act(self.dense(x))\n",
    "        dlatents = self.output(x)\n",
    "        return dlatents, noises\n",
    "        "
   ]
  },
  {
   "cell_type": "code",
   "execution_count": null,
   "metadata": {},
   "outputs": [],
   "source": [
    "def train_E(G, E, max_iter, batch_size, E_opt_args, mapping_opt_args,\n",
    "            pl_weight, r1_weight,\n",
    "          r1_interval, pl_interval, val_interval, num_workers):\n",
    "    # create dataloader\n",
    "    dataloader = NextDataLoader(dataset, batch_size, num_workers=num_workers)\n",
    "    # create optimizer\n",
    "    optimizer = torch.optim.Adam(D.parameters(), **D_opt_args)\n",
    "    Path_length_reg = Path_length_loss()\n",
    "    for i in tqdm(range(max_iter)):\n",
    "        for j in range(D_steps):\n",
    "            real_imgs = next(dataloader)[0].cuda()\n",
    "            real_imgs.requires_grad = True\n",
    "            dlatent = G.sample_dlatents(real_imgs.shape[0])\n",
    "            fake_imgs = G.generate(dlatent)\n",
    "            real_scores = D.get_score(real_imgs)\n",
    "            fake_scores = D.get_score(fake_imgs)\n",
    "            loss =  D_logistic(real_scores, fake_scores)\n",
    "            if i % r1_interval == 0 and j == D_steps-1:\n",
    "                loss += r1_weight*r1_interval*R1_reg(real_imgs, real_scores)\n",
    "            real_imgs.requires_grad = False\n",
    "            disc_optimizer.zero_grad()\n",
    "            loss.backward()\n",
    "            disc_optimizer.step()\n",
    "            disc_scheduler.step()\n",
    "\n",
    "        dlatent = G.sample_dlatents(batch_size)\n",
    "        fake_imgs = G.generate(dlatent)\n",
    "        fake_scores = D.get_score(fake_imgs)    \n",
    "        loss = G_logistic_ns(fake_scores)    \n",
    "        if i % pl_interval == 0:\n",
    "            loss += pl_weight*pl_interval*Path_length_reg(dlatent, fake_imgs)   \n",
    "        gen_optimizer.zero_grad()\n",
    "        loss.backward()\n",
    "        gen_optimizer.step()\n",
    "        gen_scheduler.step()\n",
    "        G.update_avg_weights()\n",
    "\n",
    "        \n",
    "        if i % val_interval == 0:\n",
    "            display.clear_output(wait=True)\n",
    "            # print pictures, Generator performance\n",
    "            # real = real_imgs[:32].permute(0,2,3,1).cpu().numpy()\n",
    "            # plt.imshow(grid(real).squeeze())\n",
    "            # plt.show()\n",
    "            gen = fake_imgs[:32].detach().permute(0,2,3,1).cpu().numpy()\n",
    "            plt.imshow(grid(gen).squeeze())\n",
    "            plt.show()\n",
    "            # print prob distribution, Discriminator performance\n",
    "            plt.figure(figsize=(5,5))\n",
    "            plt.title('Generated vs real data')\n",
    "            plt.hist(torch.sigmoid(real_scores.data).cpu().numpy(), label='D(x)', alpha=0.5,range=[0,1])\n",
    "            plt.hist(torch.sigmoid(fake_scores.data).cpu().numpy(), label='D(G(z))',alpha=0.5,range=[0,1])\n",
    "            plt.legend(loc='best')\n",
    "            plt.show()\n",
    "\n",
    "\n",
    "        if i % 500 == 0:\n",
    "            torch.save(G.state_dict(), '/content/drive/My Drive/Checkpoints/'+'G.pt')\n",
    "            torch.save(D.state_dict(), '/content/drive/My Drive/Checkpoints/'+'D.pt')"
   ]
  },
  {
   "cell_type": "markdown",
   "metadata": {},
   "source": [
    "# Optimization"
   ]
  },
  {
   "cell_type": "code",
   "execution_count": 25,
   "metadata": {},
   "outputs": [],
   "source": [
    "import sys\n",
    "sys.path.append(\"../PerceptualSimilarity/\")\n",
    "from models import PerceptualLoss"
   ]
  },
  {
   "cell_type": "code",
   "execution_count": 26,
   "metadata": {},
   "outputs": [
    {
     "name": "stdout",
     "output_type": "stream",
     "text": [
      "Setting up Perceptual loss...\n",
      "Loading model from: /home/o2chan/PerceptualSimilarity/models/weights/v0.1/squeeze.pth\n"
     ]
    },
    {
     "ename": "RuntimeError",
     "evalue": "cuda runtime error (719) : unspecified launch failure at ../torch/csrc/generic/serialization.cpp:148",
     "output_type": "error",
     "traceback": [
      "\u001b[0;31m---------------------------------------------------------------------------\u001b[0m",
      "\u001b[0;31mRuntimeError\u001b[0m                              Traceback (most recent call last)",
      "\u001b[0;32m<ipython-input-26-a1636215703c>\u001b[0m in \u001b[0;36m<module>\u001b[0;34m\u001b[0m\n\u001b[0;32m----> 1\u001b[0;31m \u001b[0mimage_loss\u001b[0m \u001b[0;34m=\u001b[0m \u001b[0mPerceptualLoss\u001b[0m\u001b[0;34m(\u001b[0m\u001b[0mmodel\u001b[0m\u001b[0;34m=\u001b[0m\u001b[0;34m'net-lin'\u001b[0m\u001b[0;34m,\u001b[0m \u001b[0mnet\u001b[0m\u001b[0;34m=\u001b[0m\u001b[0;34m'squeeze'\u001b[0m\u001b[0;34m,\u001b[0m \u001b[0muse_gpu\u001b[0m\u001b[0;34m=\u001b[0m\u001b[0;32mTrue\u001b[0m\u001b[0;34m)\u001b[0m\u001b[0;34m\u001b[0m\u001b[0;34m\u001b[0m\u001b[0m\n\u001b[0m",
      "\u001b[0;32m~/PerceptualSimilarity/models/__init__.py\u001b[0m in \u001b[0;36m__init__\u001b[0;34m(self, model, net, colorspace, spatial, use_gpu, gpu_ids)\u001b[0m\n\u001b[1;32m     20\u001b[0m         \u001b[0mself\u001b[0m\u001b[0;34m.\u001b[0m\u001b[0mgpu_ids\u001b[0m \u001b[0;34m=\u001b[0m \u001b[0mgpu_ids\u001b[0m\u001b[0;34m\u001b[0m\u001b[0;34m\u001b[0m\u001b[0m\n\u001b[1;32m     21\u001b[0m         \u001b[0mself\u001b[0m\u001b[0;34m.\u001b[0m\u001b[0mmodel\u001b[0m \u001b[0;34m=\u001b[0m \u001b[0mdist_model\u001b[0m\u001b[0;34m.\u001b[0m\u001b[0mDistModel\u001b[0m\u001b[0;34m(\u001b[0m\u001b[0;34m)\u001b[0m\u001b[0;34m\u001b[0m\u001b[0;34m\u001b[0m\u001b[0m\n\u001b[0;32m---> 22\u001b[0;31m         \u001b[0mself\u001b[0m\u001b[0;34m.\u001b[0m\u001b[0mmodel\u001b[0m\u001b[0;34m.\u001b[0m\u001b[0minitialize\u001b[0m\u001b[0;34m(\u001b[0m\u001b[0mmodel\u001b[0m\u001b[0;34m=\u001b[0m\u001b[0mmodel\u001b[0m\u001b[0;34m,\u001b[0m \u001b[0mnet\u001b[0m\u001b[0;34m=\u001b[0m\u001b[0mnet\u001b[0m\u001b[0;34m,\u001b[0m \u001b[0muse_gpu\u001b[0m\u001b[0;34m=\u001b[0m\u001b[0muse_gpu\u001b[0m\u001b[0;34m,\u001b[0m \u001b[0mcolorspace\u001b[0m\u001b[0;34m=\u001b[0m\u001b[0mcolorspace\u001b[0m\u001b[0;34m,\u001b[0m \u001b[0mspatial\u001b[0m\u001b[0;34m=\u001b[0m\u001b[0mself\u001b[0m\u001b[0;34m.\u001b[0m\u001b[0mspatial\u001b[0m\u001b[0;34m,\u001b[0m \u001b[0mgpu_ids\u001b[0m\u001b[0;34m=\u001b[0m\u001b[0mgpu_ids\u001b[0m\u001b[0;34m)\u001b[0m\u001b[0;34m\u001b[0m\u001b[0;34m\u001b[0m\u001b[0m\n\u001b[0m\u001b[1;32m     23\u001b[0m         \u001b[0mprint\u001b[0m\u001b[0;34m(\u001b[0m\u001b[0;34m'...[%s] initialized'\u001b[0m\u001b[0;34m%\u001b[0m\u001b[0mself\u001b[0m\u001b[0;34m.\u001b[0m\u001b[0mmodel\u001b[0m\u001b[0;34m.\u001b[0m\u001b[0mname\u001b[0m\u001b[0;34m(\u001b[0m\u001b[0;34m)\u001b[0m\u001b[0;34m)\u001b[0m\u001b[0;34m\u001b[0m\u001b[0;34m\u001b[0m\u001b[0m\n\u001b[1;32m     24\u001b[0m         \u001b[0mprint\u001b[0m\u001b[0;34m(\u001b[0m\u001b[0;34m'...Done'\u001b[0m\u001b[0;34m)\u001b[0m\u001b[0;34m\u001b[0m\u001b[0;34m\u001b[0m\u001b[0m\n",
      "\u001b[0;32m~/PerceptualSimilarity/models/dist_model.py\u001b[0m in \u001b[0;36minitialize\u001b[0;34m(self, model, net, colorspace, pnet_rand, pnet_tune, model_path, use_gpu, printNet, spatial, is_train, lr, beta1, version, gpu_ids)\u001b[0m\n\u001b[1;32m     71\u001b[0m             \u001b[0;32mif\u001b[0m\u001b[0;34m(\u001b[0m\u001b[0;32mnot\u001b[0m \u001b[0mis_train\u001b[0m\u001b[0;34m)\u001b[0m\u001b[0;34m:\u001b[0m\u001b[0;34m\u001b[0m\u001b[0;34m\u001b[0m\u001b[0m\n\u001b[1;32m     72\u001b[0m                 \u001b[0mprint\u001b[0m\u001b[0;34m(\u001b[0m\u001b[0;34m'Loading model from: %s'\u001b[0m\u001b[0;34m%\u001b[0m\u001b[0mmodel_path\u001b[0m\u001b[0;34m)\u001b[0m\u001b[0;34m\u001b[0m\u001b[0;34m\u001b[0m\u001b[0m\n\u001b[0;32m---> 73\u001b[0;31m                 \u001b[0mself\u001b[0m\u001b[0;34m.\u001b[0m\u001b[0mnet\u001b[0m\u001b[0;34m.\u001b[0m\u001b[0mload_state_dict\u001b[0m\u001b[0;34m(\u001b[0m\u001b[0mtorch\u001b[0m\u001b[0;34m.\u001b[0m\u001b[0mload\u001b[0m\u001b[0;34m(\u001b[0m\u001b[0mmodel_path\u001b[0m\u001b[0;34m,\u001b[0m \u001b[0;34m**\u001b[0m\u001b[0mkw\u001b[0m\u001b[0;34m)\u001b[0m\u001b[0;34m,\u001b[0m \u001b[0mstrict\u001b[0m\u001b[0;34m=\u001b[0m\u001b[0;32mFalse\u001b[0m\u001b[0;34m)\u001b[0m\u001b[0;34m\u001b[0m\u001b[0;34m\u001b[0m\u001b[0m\n\u001b[0m\u001b[1;32m     74\u001b[0m \u001b[0;34m\u001b[0m\u001b[0m\n\u001b[1;32m     75\u001b[0m         \u001b[0;32melif\u001b[0m\u001b[0;34m(\u001b[0m\u001b[0mself\u001b[0m\u001b[0;34m.\u001b[0m\u001b[0mmodel\u001b[0m\u001b[0;34m==\u001b[0m\u001b[0;34m'net'\u001b[0m\u001b[0;34m)\u001b[0m\u001b[0;34m:\u001b[0m \u001b[0;31m# pretrained network\u001b[0m\u001b[0;34m\u001b[0m\u001b[0;34m\u001b[0m\u001b[0m\n",
      "\u001b[0;32m~/.local/lib/python3.8/site-packages/torch/serialization.py\u001b[0m in \u001b[0;36mload\u001b[0;34m(f, map_location, pickle_module, **pickle_load_args)\u001b[0m\n\u001b[1;32m    527\u001b[0m             \u001b[0;32mwith\u001b[0m \u001b[0m_open_zipfile_reader\u001b[0m\u001b[0;34m(\u001b[0m\u001b[0mf\u001b[0m\u001b[0;34m)\u001b[0m \u001b[0;32mas\u001b[0m \u001b[0mopened_zipfile\u001b[0m\u001b[0;34m:\u001b[0m\u001b[0;34m\u001b[0m\u001b[0;34m\u001b[0m\u001b[0m\n\u001b[1;32m    528\u001b[0m                 \u001b[0;32mreturn\u001b[0m \u001b[0m_load\u001b[0m\u001b[0;34m(\u001b[0m\u001b[0mopened_zipfile\u001b[0m\u001b[0;34m,\u001b[0m \u001b[0mmap_location\u001b[0m\u001b[0;34m,\u001b[0m \u001b[0mpickle_module\u001b[0m\u001b[0;34m,\u001b[0m \u001b[0;34m**\u001b[0m\u001b[0mpickle_load_args\u001b[0m\u001b[0;34m)\u001b[0m\u001b[0;34m\u001b[0m\u001b[0;34m\u001b[0m\u001b[0m\n\u001b[0;32m--> 529\u001b[0;31m         \u001b[0;32mreturn\u001b[0m \u001b[0m_legacy_load\u001b[0m\u001b[0;34m(\u001b[0m\u001b[0mopened_file\u001b[0m\u001b[0;34m,\u001b[0m \u001b[0mmap_location\u001b[0m\u001b[0;34m,\u001b[0m \u001b[0mpickle_module\u001b[0m\u001b[0;34m,\u001b[0m \u001b[0;34m**\u001b[0m\u001b[0mpickle_load_args\u001b[0m\u001b[0;34m)\u001b[0m\u001b[0;34m\u001b[0m\u001b[0;34m\u001b[0m\u001b[0m\n\u001b[0m\u001b[1;32m    530\u001b[0m \u001b[0;34m\u001b[0m\u001b[0m\n\u001b[1;32m    531\u001b[0m \u001b[0;34m\u001b[0m\u001b[0m\n",
      "\u001b[0;32m~/.local/lib/python3.8/site-packages/torch/serialization.py\u001b[0m in \u001b[0;36m_legacy_load\u001b[0;34m(f, map_location, pickle_module, **pickle_load_args)\u001b[0m\n\u001b[1;32m    707\u001b[0m     \u001b[0;32mfor\u001b[0m \u001b[0mkey\u001b[0m \u001b[0;32min\u001b[0m \u001b[0mdeserialized_storage_keys\u001b[0m\u001b[0;34m:\u001b[0m\u001b[0;34m\u001b[0m\u001b[0;34m\u001b[0m\u001b[0m\n\u001b[1;32m    708\u001b[0m         \u001b[0;32massert\u001b[0m \u001b[0mkey\u001b[0m \u001b[0;32min\u001b[0m \u001b[0mdeserialized_objects\u001b[0m\u001b[0;34m\u001b[0m\u001b[0;34m\u001b[0m\u001b[0m\n\u001b[0;32m--> 709\u001b[0;31m         \u001b[0mdeserialized_objects\u001b[0m\u001b[0;34m[\u001b[0m\u001b[0mkey\u001b[0m\u001b[0;34m]\u001b[0m\u001b[0;34m.\u001b[0m\u001b[0m_set_from_file\u001b[0m\u001b[0;34m(\u001b[0m\u001b[0mf\u001b[0m\u001b[0;34m,\u001b[0m \u001b[0moffset\u001b[0m\u001b[0;34m,\u001b[0m \u001b[0mf_should_read_directly\u001b[0m\u001b[0;34m)\u001b[0m\u001b[0;34m\u001b[0m\u001b[0;34m\u001b[0m\u001b[0m\n\u001b[0m\u001b[1;32m    710\u001b[0m         \u001b[0;32mif\u001b[0m \u001b[0moffset\u001b[0m \u001b[0;32mis\u001b[0m \u001b[0;32mnot\u001b[0m \u001b[0;32mNone\u001b[0m\u001b[0;34m:\u001b[0m\u001b[0;34m\u001b[0m\u001b[0;34m\u001b[0m\u001b[0m\n\u001b[1;32m    711\u001b[0m             \u001b[0moffset\u001b[0m \u001b[0;34m=\u001b[0m \u001b[0mf\u001b[0m\u001b[0;34m.\u001b[0m\u001b[0mtell\u001b[0m\u001b[0;34m(\u001b[0m\u001b[0;34m)\u001b[0m\u001b[0;34m\u001b[0m\u001b[0;34m\u001b[0m\u001b[0m\n",
      "\u001b[0;31mRuntimeError\u001b[0m: cuda runtime error (719) : unspecified launch failure at ../torch/csrc/generic/serialization.cpp:148"
     ]
    }
   ],
   "source": [
    "image_loss = PerceptualLoss(model='net-lin', net='squeeze', use_gpu=True)"
   ]
  },
  {
   "cell_type": "code",
   "execution_count": 24,
   "metadata": {},
   "outputs": [
    {
     "ename": "AttributeError",
     "evalue": "'Generator' object has no attribute 'sample'",
     "output_type": "error",
     "traceback": [
      "\u001b[0;31m---------------------------------------------------------------------------\u001b[0m",
      "\u001b[0;31mAttributeError\u001b[0m                            Traceback (most recent call last)",
      "\u001b[0;32m<ipython-input-24-a5d9cb9fd820>\u001b[0m in \u001b[0;36m<module>\u001b[0;34m\u001b[0m\n\u001b[0;32m----> 1\u001b[0;31m \u001b[0mdlatents\u001b[0m \u001b[0;34m=\u001b[0m \u001b[0mG\u001b[0m\u001b[0;34m.\u001b[0m\u001b[0msample\u001b[0m\u001b[0;34m(\u001b[0m\u001b[0;36m32\u001b[0m\u001b[0;34m)\u001b[0m\u001b[0;34m\u001b[0m\u001b[0;34m\u001b[0m\u001b[0m\n\u001b[0m\u001b[1;32m      2\u001b[0m \u001b[0mgen_images\u001b[0m \u001b[0;34m=\u001b[0m \u001b[0mG\u001b[0m\u001b[0;34m.\u001b[0m\u001b[0mgenerate\u001b[0m\u001b[0;34m(\u001b[0m\u001b[0mdlatents\u001b[0m\u001b[0;34m)\u001b[0m\u001b[0;34m\u001b[0m\u001b[0;34m\u001b[0m\u001b[0m\n\u001b[1;32m      3\u001b[0m \u001b[0mgen\u001b[0m \u001b[0;34m=\u001b[0m \u001b[0;34m(\u001b[0m\u001b[0mgen_images\u001b[0m\u001b[0;34m.\u001b[0m\u001b[0mdetach\u001b[0m\u001b[0;34m(\u001b[0m\u001b[0;34m)\u001b[0m\u001b[0;34m*\u001b[0m\u001b[0mstd\u001b[0m\u001b[0;34m+\u001b[0m\u001b[0mmean\u001b[0m\u001b[0;34m)\u001b[0m\u001b[0;34m.\u001b[0m\u001b[0mpermute\u001b[0m\u001b[0;34m(\u001b[0m\u001b[0;36m0\u001b[0m\u001b[0;34m,\u001b[0m\u001b[0;36m2\u001b[0m\u001b[0;34m,\u001b[0m\u001b[0;36m3\u001b[0m\u001b[0;34m,\u001b[0m\u001b[0;36m1\u001b[0m\u001b[0;34m)\u001b[0m\u001b[0;34m.\u001b[0m\u001b[0mcpu\u001b[0m\u001b[0;34m(\u001b[0m\u001b[0;34m)\u001b[0m\u001b[0;34m.\u001b[0m\u001b[0mnumpy\u001b[0m\u001b[0;34m(\u001b[0m\u001b[0;34m)\u001b[0m\u001b[0;34m\u001b[0m\u001b[0;34m\u001b[0m\u001b[0m\n\u001b[1;32m      4\u001b[0m \u001b[0mplt\u001b[0m\u001b[0;34m.\u001b[0m\u001b[0mimshow\u001b[0m\u001b[0;34m(\u001b[0m\u001b[0mgrid\u001b[0m\u001b[0;34m(\u001b[0m\u001b[0mgen\u001b[0m\u001b[0;34m)\u001b[0m\u001b[0;34m.\u001b[0m\u001b[0msqueeze\u001b[0m\u001b[0;34m(\u001b[0m\u001b[0;34m)\u001b[0m\u001b[0;34m)\u001b[0m\u001b[0;34m\u001b[0m\u001b[0;34m\u001b[0m\u001b[0m\n\u001b[1;32m      5\u001b[0m \u001b[0mplt\u001b[0m\u001b[0;34m.\u001b[0m\u001b[0mshow\u001b[0m\u001b[0;34m(\u001b[0m\u001b[0;34m)\u001b[0m\u001b[0;34m\u001b[0m\u001b[0;34m\u001b[0m\u001b[0m\n",
      "\u001b[0;32m~/.local/lib/python3.8/site-packages/torch/nn/modules/module.py\u001b[0m in \u001b[0;36m__getattr__\u001b[0;34m(self, name)\u001b[0m\n\u001b[1;32m    573\u001b[0m             \u001b[0;32mif\u001b[0m \u001b[0mname\u001b[0m \u001b[0;32min\u001b[0m \u001b[0mmodules\u001b[0m\u001b[0;34m:\u001b[0m\u001b[0;34m\u001b[0m\u001b[0;34m\u001b[0m\u001b[0m\n\u001b[1;32m    574\u001b[0m                 \u001b[0;32mreturn\u001b[0m \u001b[0mmodules\u001b[0m\u001b[0;34m[\u001b[0m\u001b[0mname\u001b[0m\u001b[0;34m]\u001b[0m\u001b[0;34m\u001b[0m\u001b[0;34m\u001b[0m\u001b[0m\n\u001b[0;32m--> 575\u001b[0;31m         raise AttributeError(\"'{}' object has no attribute '{}'\".format(\n\u001b[0m\u001b[1;32m    576\u001b[0m             type(self).__name__, name))\n\u001b[1;32m    577\u001b[0m \u001b[0;34m\u001b[0m\u001b[0m\n",
      "\u001b[0;31mAttributeError\u001b[0m: 'Generator' object has no attribute 'sample'"
     ]
    }
   ],
   "source": [
    "dlatents = G.sample(32)\n",
    "gen_images = G.generate(dlatents)\n",
    "gen = (gen_images.detach()*std+mean).permute(0,2,3,1).cpu().numpy()\n",
    "plt.imshow(grid(gen).squeeze())\n",
    "plt.show()"
   ]
  },
  {
   "cell_type": "code",
   "execution_count": 68,
   "metadata": {},
   "outputs": [
    {
     "data": {
      "text/plain": [
       "torch.Size([32, 1, 28, 28])"
      ]
     },
     "execution_count": 68,
     "metadata": {},
     "output_type": "execute_result"
    }
   ],
   "source": [
    "gen_images.shape"
   ]
  },
  {
   "cell_type": "code",
   "execution_count": 82,
   "metadata": {},
   "outputs": [
    {
     "data": {
      "text/plain": [
       "tensor([[[[0.0467]]]], device='cuda:0', grad_fn=<AddBackward0>)"
      ]
     },
     "execution_count": 82,
     "metadata": {},
     "output_type": "execute_result"
    }
   ],
   "source": [
    "dist = loss.forward(gen_images[1],gen_images[-1])\n",
    "dist"
   ]
  },
  {
   "cell_type": "code",
   "execution_count": 81,
   "metadata": {},
   "outputs": [
    {
     "data": {
      "text/plain": [
       "tensor([[[[0.3021]]]], device='cuda:0', grad_fn=<AddBackward0>)"
      ]
     },
     "execution_count": 81,
     "metadata": {},
     "output_type": "execute_result"
    }
   ],
   "source": [
    "dist = loss.forward(gen_images[1],gen_images[0])\n",
    "dist"
   ]
  },
  {
   "cell_type": "code",
   "execution_count": 125,
   "metadata": {},
   "outputs": [],
   "source": [
    "def img_tensor_switch(obj, device='cuda', squeeze_channels=True):\n",
    "    '''\n",
    "    Switch between image and tensor. Supports both batches and single objects.\n",
    "    '''\n",
    "    if isinstance(obj, np.ndarray):\n",
    "        if obj.shape[-1] != 3 and obj.shape[-1] != 1:\n",
    "            obj = np.expand_dims(obj,-1)\n",
    "        if obj.ndim < 4:\n",
    "            obj = np.expand_dims(obj,0)\n",
    "        t = torch.tensor(np.moveaxis(obj,-1,-3), dtype=torch.float, device=device)\n",
    "        return t\n",
    "    if isinstance(obj, torch.Tensor):\n",
    "        if squeeze_channels:\n",
    "            obj = torch.squeeze(obj, axis=-3)\n",
    "        return np.moveaxis(obj.data.cpu().numpy(),-3,-1)"
   ]
  },
  {
   "cell_type": "code",
   "execution_count": 105,
   "metadata": {},
   "outputs": [
    {
     "ename": "AttributeError",
     "evalue": "module 'numpy' has no attribute 'squeezed'",
     "output_type": "error",
     "traceback": [
      "\u001b[0;31m---------------------------------------------------------------------------\u001b[0m",
      "\u001b[0;31mAttributeError\u001b[0m                            Traceback (most recent call last)",
      "\u001b[0;32m<ipython-input-105-b80082735bab>\u001b[0m in \u001b[0;36m<module>\u001b[0;34m\u001b[0m\n\u001b[0;32m----> 1\u001b[0;31m \u001b[0mnp\u001b[0m\u001b[0;34m.\u001b[0m\u001b[0msqueezed\u001b[0m\u001b[0;34m(\u001b[0m\u001b[0;34m)\u001b[0m\u001b[0;34m\u001b[0m\u001b[0;34m\u001b[0m\u001b[0m\n\u001b[0m",
      "\u001b[0;32m/usr/lib/python3.8/site-packages/numpy/__init__.py\u001b[0m in \u001b[0;36m__getattr__\u001b[0;34m(attr)\u001b[0m\n\u001b[1;32m    217\u001b[0m                 \u001b[0;32mreturn\u001b[0m \u001b[0mTester\u001b[0m\u001b[0;34m\u001b[0m\u001b[0;34m\u001b[0m\u001b[0m\n\u001b[1;32m    218\u001b[0m             \u001b[0;32melse\u001b[0m\u001b[0;34m:\u001b[0m\u001b[0;34m\u001b[0m\u001b[0;34m\u001b[0m\u001b[0m\n\u001b[0;32m--> 219\u001b[0;31m                 raise AttributeError(\"module {!r} has no attribute \"\n\u001b[0m\u001b[1;32m    220\u001b[0m                                      \"{!r}\".format(__name__, attr))\n\u001b[1;32m    221\u001b[0m \u001b[0;34m\u001b[0m\u001b[0m\n",
      "\u001b[0;31mAttributeError\u001b[0m: module 'numpy' has no attribute 'squeezed'"
     ]
    }
   ],
   "source": [
    "torch.squeeze"
   ]
  },
  {
   "cell_type": "code",
   "execution_count": null,
   "metadata": {},
   "outputs": [],
   "source": []
  },
  {
   "cell_type": "code",
   "execution_count": 96,
   "metadata": {},
   "outputs": [
    {
     "data": {
      "text/plain": [
       "tensor([[0.],\n",
       "        [0.],\n",
       "        [0.]], device='cuda:0')"
      ]
     },
     "execution_count": 96,
     "metadata": {},
     "output_type": "execute_result"
    }
   ],
   "source": [
    "img_tensor_switch(np.zeros((3,1)))"
   ]
  },
  {
   "cell_type": "code",
   "execution_count": 85,
   "metadata": {},
   "outputs": [],
   "source": [
    "proj = Projector(G, image_loss)"
   ]
  },
  {
   "cell_type": "code",
   "execution_count": null,
   "metadata": {},
   "outputs": [],
   "source": [
    "proj.run()"
   ]
  },
  {
   "cell_type": "code",
   "execution_count": null,
   "metadata": {},
   "outputs": [],
   "source": [
    "np.moveaxis()"
   ]
  }
 ],
 "metadata": {
  "accelerator": "GPU",
  "colab": {
   "collapsed_sections": [],
   "name": "stylegan.ipynb",
   "provenance": [],
   "toc_visible": true
  },
  "kernelspec": {
   "display_name": "Python 3",
   "language": "python",
   "name": "python3"
  },
  "language_info": {
   "codemirror_mode": {
    "name": "ipython",
    "version": 3
   },
   "file_extension": ".py",
   "mimetype": "text/x-python",
   "name": "python",
   "nbconvert_exporter": "python",
   "pygments_lexer": "ipython3",
   "version": "3.8.1"
  }
 },
 "nbformat": 4,
 "nbformat_minor": 1
}
