{
 "cells": [
  {
   "cell_type": "markdown",
   "metadata": {},
   "source": [
    "# Pytorch implementation of StyleGAN2 \n",
    "#### from paper https://arxiv.org/pdf/1912.04958.pdf\n"
   ]
  },
  {
   "cell_type": "code",
   "execution_count": 1,
   "metadata": {
    "colab": {},
    "colab_type": "code",
    "id": "0vxBkbC2wngr"
   },
   "outputs": [],
   "source": [
    "import torch\n",
    "from torch import nn\n",
    "import torch.nn.functional as F\n",
    "import numpy as np\n",
    "from modules import *\n",
    "from loss import *\n",
    "from misc import *"
   ]
  },
  {
   "cell_type": "code",
   "execution_count": 2,
   "metadata": {
    "colab": {},
    "colab_type": "code",
    "id": "sG2YCdBGwng7"
   },
   "outputs": [],
   "source": [
    "from torchvision.datasets import MNIST\n",
    "import torchvision.transforms as T\n",
    "import matplotlib.pyplot as plt\n",
    "from IPython import display\n",
    "from tqdm import tqdm"
   ]
  },
  {
   "cell_type": "code",
   "execution_count": 3,
   "metadata": {
    "colab": {},
    "colab_type": "code",
    "id": "tGqahOJBwnhB"
   },
   "outputs": [],
   "source": [
    "plt.rcParams['figure.figsize'] = (11,11)\n",
    "plt.rcParams['image.cmap'] = 'gray'"
   ]
  },
  {
   "cell_type": "markdown",
   "metadata": {},
   "source": [
    "### Generator architecture"
   ]
  },
  {
   "cell_type": "code",
   "execution_count": 4,
   "metadata": {
    "colab": {},
    "colab_type": "code",
    "id": "WYv91cykwnhc"
   },
   "outputs": [],
   "source": [
    "class Generator(nn.Module):\n",
    "    def __init__(self, min_res, max_res, min_fmaps, max_fmaps, act, \n",
    "                 k_size, blocks, img_channels, latent_size, n_layers, style_mixing_prob = 0.8,\n",
    "                 dlatent_avg_beta = 0.995, weights_avg_beta=0.99, **kwargs):\n",
    "        super().__init__()\n",
    "        dres = min_res*2**blocks - max_res\n",
    "        assert dres >= 0\n",
    "        # building mapping net\n",
    "        self.latent_size = latent_size\n",
    "        self.mapping = Mapping(n_layers, latent_size, act)\n",
    "        # learnable const\n",
    "        self.const = nn.Parameter(torch.randn(max_fmaps, min_res, min_res))\n",
    "        # building main layers\n",
    "        fmaps = np.linspace(max_fmaps, min_fmaps, blocks+1).astype('int')\n",
    "        self.layers = []\n",
    "        for i in range(blocks):\n",
    "            layer = G_Block(fmaps[i],fmaps[i+1], k_size, latent_size, act, img_channels=img_channels)\n",
    "            self.add_module(str(i), layer)\n",
    "            self.layers.append(layer)\n",
    "        if dres > 0:\n",
    "            self.crop = torch.nn.ZeroPad2d(-dres//2)\n",
    "        # style mixing\n",
    "        self.style_mixing_prob = style_mixing_prob \n",
    "        # running average of dlatents \n",
    "        self.dlatent_avg_beta = dlatent_avg_beta\n",
    "        self.register_buffer('dlatent_avg', torch.zeros(latent_size))\n",
    "        # running average of weights\n",
    "        self.weights_avg_beta = weights_avg_beta\n",
    "        self.Src_Net = deepcopy(self).apply(parameters_to_buffers)\n",
    "        self.Src_Net.train(False)      \n",
    "        \n",
    "        \n",
    "    # update running average of weights\n",
    "    def update_avg_weights(self):\n",
    "        params = dict(self.named_parameters())\n",
    "        buffers = dict(self.named_buffers())\n",
    "        for n,b in self.Src_Net.named_buffers():\n",
    "            try:\n",
    "                b.data.copy_(self.weights_avg_beta*b + (1-self.weights_avg_beta)*params[n])\n",
    "            except:\n",
    "                b.data.copy_(buffers[n])\n",
    "\n",
    "            \n",
    "    # sample dlatents\n",
    "    def sample_dlatents(self, n):\n",
    "        v = self._sample_dlatents(n)\n",
    "        if self.training and self.style_mixing_prob > 0:\n",
    "            l = len(self.layers)\n",
    "            cut_off = torch.randint(l-1,())\n",
    "            v2 = self._sample_dlatents(n)\n",
    "            mask = torch.empty(n, dtype=torch.bool).bernoulli_(self.style_mixing_prob).view(-1, 1) \\\n",
    "                   * (torch.arange(l)>cut_off)\n",
    "            v = torch.where(mask.unsqueeze(-1).to(device=v.device), v2, v)\n",
    "        return v\n",
    "    \n",
    "    def _sample_dlatents(self, n):\n",
    "        device = self.const.device\n",
    "        z = torch.randn(n, self.latent_size).to(device)\n",
    "        v = self.mapping(z)\n",
    "        # update dlatent average\n",
    "        if self.training:\n",
    "            self.dlatent_avg = self.dlatent_avg_beta*self.dlatent_avg + (1-self.dlatent_avg_beta)*v.data.mean(0)\n",
    "        # broadcast dlatents [N, dlatent_size] --> [N, num_layers, dlatent_size] \n",
    "        v = v.unsqueeze(1).expand(-1, len(self.layers), -1)\n",
    "        return v\n",
    "    \n",
    "    \n",
    "    # generate from dlatents and input noises (optionally)\n",
    "    def generate(self, v, input_noises=None):\n",
    "        x = self.const.expand(v.shape[0], *self.const.shape).contiguous()\n",
    "        input_noises = input_noises if input_noises else [None]*len(self.layers)\n",
    "        y = None\n",
    "        for i,layer in enumerate(self.layers):\n",
    "            x, y = layer(x,v[:,i],y, input_noises[i])  \n",
    "        if hasattr(self, 'crop'):\n",
    "            y = self.crop(y)\n",
    "        return y\n",
    "    \n",
    "    \n",
    "    # for training\n",
    "    def sample(self, n):\n",
    "        dlatents = self.sample_dlatents(n)\n",
    "        x = self.generate(dlatents)\n",
    "        return x\n",
    "            \n",
    "    \n",
    "    # for evaluation\n",
    "    def sample_images(self,n, truncation_psi=1):\n",
    "        with torch.no_grad():\n",
    "            v = self.Src_Net.sample_dlatents(n)\n",
    "            # truncation trick\n",
    "            if truncation_psi < 1:\n",
    "                v = self.dlatent_avg + truncation_psi*(v-self.dlatent_avg)\n",
    "            images = to_img(self.Src_Net.generate(v))\n",
    "        return images"
   ]
  },
  {
   "cell_type": "markdown",
   "metadata": {},
   "source": [
    "### Discriminator architecture"
   ]
  },
  {
   "cell_type": "code",
   "execution_count": 5,
   "metadata": {
    "colab": {},
    "colab_type": "code",
    "id": "I_uZxLxIwnhp"
   },
   "outputs": [],
   "source": [
    "class Discriminator(nn.Module):\n",
    "    def __init__(self, min_res, max_res, min_fmaps, max_fmaps, act, \n",
    "                 k_size, blocks, img_channels, dense_size=128, **kwargs):\n",
    "        super().__init__()\n",
    "        assert max_res <= min_res*2**blocks and max_res >= (min_res-1)*2**blocks\n",
    "        # building layers\n",
    "        fmaps = np.linspace(min_fmaps, max_fmaps, blocks+1).astype('int')\n",
    "        self.from_channels = nn.Conv2d(img_channels, fmaps[0], 1)\n",
    "        self.layers = []\n",
    "        for i in range(blocks):\n",
    "            layer = D_Block(fmaps[i],fmaps[i+1], k_size, act)\n",
    "            self.add_module(str(i), layer)\n",
    "            self.layers.append(layer)\n",
    "        self.minibatch_sttdev = Minibatch_Stddev()\n",
    "        self.conv = nn.Conv2d(fmaps[-1]+1,fmaps[-1], 3)\n",
    "        self.dense = nn.Linear(fmaps[-1]*(min_res-2)**2, dense_size)\n",
    "        self.output = nn.Linear(dense_size, 1)\n",
    "        self.act = act\n",
    "    \n",
    "    \n",
    "    def get_score(self, imgs):\n",
    "        x = self.act(self.from_channels(imgs))\n",
    "        for layer in self.layers:\n",
    "            x = layer(x)\n",
    "        x = self.minibatch_sttdev(x)\n",
    "        x = self.act(self.conv(x))\n",
    "        x = x.view(x.shape[0],-1)\n",
    "        x = self.act(self.dense(x))\n",
    "        x = self.output(x)\n",
    "        return x"
   ]
  },
  {
   "cell_type": "markdown",
   "metadata": {},
   "source": [
    "### Define training loop"
   ]
  },
  {
   "cell_type": "code",
   "execution_count": 6,
   "metadata": {
    "colab": {},
    "colab_type": "code",
    "id": "k6wIAuQCwnh8"
   },
   "outputs": [],
   "source": [
    "def train(G, D, dataset, max_iter, batch_size, \n",
    "          G_opt_args, D_opt_args, mapping_opt_args,\n",
    "          D_steps, pl_weight, r1_weight,\n",
    "          r1_interval, pl_interval, val_interval, num_workers, pl_batch_part, checkpoint=None):\n",
    "    \n",
    "    pl_batch = int(pl_batch_part*batch_size)\n",
    "    device = next(D.parameters()).device\n",
    "    Path_length_reg = Path_length_loss()\n",
    "\n",
    "    # create dataloader\n",
    "    dataloader = NextDataLoader(dataset, batch_size, num_workers=num_workers)\n",
    "    mean = dataset.transforms.transform.transforms[1].mean[0]\n",
    "    std = dataset.transforms.transform.transforms[1].std[0]\n",
    "    \n",
    "    # load state\n",
    "    if checkpoint:\n",
    "        G.load_state_dict(checkpoint['G'])\n",
    "        D.load_state_dict(checkpoint['D'])\n",
    "        Path_length_reg.avg = checkpoint['pl_loss_avg']\n",
    "    \n",
    "    # create optimizer\n",
    "    G_params = []\n",
    "    for n,m in G.named_children():\n",
    "        if n != 'mapping':\n",
    "            G_params.extend(m.parameters())\n",
    "    gen_optimizer = torch.optim.Adam([{'params': G_params},\n",
    "                                  {'params': G.mapping.parameters(), **mapping_opt_args},\n",
    "                                  {'params': G.const, **mapping_opt_args},\n",
    "                                  ], **G_opt_args)\n",
    "    disc_optimizer = torch.optim.Adam(D.parameters(), **D_opt_args)\n",
    "    \n",
    "    G.train()\n",
    "    D.train()\n",
    "    \n",
    "    for i in tqdm(range(max_iter)):\n",
    "        for j in range(D_steps):\n",
    "            real_imgs = next(dataloader)[0].to(device)\n",
    "            real_imgs.requires_grad = True\n",
    "            fake_imgs = G.sample(real_imgs.shape[0])\n",
    "            real_scores = D.get_score(real_imgs)\n",
    "            fake_scores = D.get_score(fake_imgs)\n",
    "            loss =  D_logistic(real_scores, fake_scores)\n",
    "            if i % r1_interval == 0 and j == D_steps-1:\n",
    "                loss += r1_weight*r1_interval*R1_reg(real_imgs, real_scores)\n",
    "            real_imgs.requires_grad = False\n",
    "            disc_optimizer.zero_grad()\n",
    "            loss.backward()\n",
    "            disc_optimizer.step()\n",
    "\n",
    "\n",
    "        dlatent = G.sample_dlatents(batch_size)   \n",
    "        if i % pl_interval == 0:\n",
    "            # hack for computing path length loss from smaller minibatch\n",
    "            dlatent_part1, dlatent_part_2 = dlatent[:pl_batch], dlatent[pl_batch:]\n",
    "            fake_imgs = G.generate(torch.cat((dlatent_part1, dlatent_part_2), 0))\n",
    "            fake_scores = D.get_score(fake_imgs)\n",
    "            loss = G_logistic_ns(fake_scores) \\\n",
    "                   + pl_weight*pl_interval*Path_length_reg(dlatent_part1, fake_imgs[:pl_batch])\n",
    "        else:\n",
    "            fake_imgs = G.generate(dlatent)\n",
    "            fake_scores = D.get_score(fake_imgs)\n",
    "            loss = G_logistic_ns(fake_scores)  \n",
    "        gen_optimizer.zero_grad()\n",
    "        loss.backward()\n",
    "        gen_optimizer.step()\n",
    "        G.update_avg_weights()\n",
    "\n",
    "        \n",
    "        if i % val_interval == 0:\n",
    "            display.clear_output(wait=True)\n",
    "            # print pictures\n",
    "            gen = G.sample_images(32)*std+mean\n",
    "            plt.imshow(grid(gen).squeeze())\n",
    "            plt.show()\n",
    "            # print prob distribution\n",
    "            plt.figure(figsize=(5,5))\n",
    "            plt.title('Generated vs real data')\n",
    "            plt.hist(torch.sigmoid(real_scores.data).cpu().numpy(), label='D(x)', alpha=0.5,range=[0,1])\n",
    "            plt.hist(torch.sigmoid(fake_scores.data).cpu().numpy(), label='D(G(z))',alpha=0.5,range=[0,1])\n",
    "            plt.legend(loc='best')\n",
    "            plt.show()\n",
    "\n",
    "\n",
    "        if i % (20*val_interval) == 0:\n",
    "            torch.save({\n",
    "                        'G': G.state_dict(),\n",
    "                        'D': D.state_dict(),\n",
    "                        'pl_loss_avg': Path_length_reg.avg.item()\n",
    "                        }, 'checkpoint.pt')"
   ]
  },
  {
   "cell_type": "markdown",
   "metadata": {
    "colab_type": "text",
    "id": "c8YvuQuOwnhU"
   },
   "source": [
    "### Hyperparams"
   ]
  },
  {
   "cell_type": "code",
   "execution_count": 7,
   "metadata": {
    "colab": {},
    "colab_type": "code",
    "id": "hUKIBaQJwnhW"
   },
   "outputs": [],
   "source": [
    "act = Scaled_Act(nn.LeakyReLU(0.2))\n",
    "img_channels = 1\n",
    "n_layers = 4\n",
    "latent_size = 160\n",
    "min_res = 4\n",
    "max_res = 28\n",
    "blocks = 3\n",
    "k_size = 3\n",
    "max_fmaps = 128\n",
    "min_fmaps = 64\n",
    "weights_avg_beta=0.995\n",
    "\n",
    "device = 'cuda'\n",
    "\n",
    "train_params = {'max_iter': 25000, 'batch_size' : 160, \n",
    "                'G_opt_args' : {'lr' : 0.001, 'betas' : (0.1, 0.99)}, \n",
    "                'D_opt_args' : {'lr' : 0.001, 'betas' : (0, 0.99), 'eps' : 1e-08}, \n",
    "                'mapping_opt_args' : {'lr' : 1e-5}, \n",
    "                'D_steps': 1, 'pl_weight': 2, 'r1_weight': 5, 'pl_batch_part': 0.25,\n",
    "                'pl_interval': 4, 'r1_interval': 16, 'num_workers': 2, 'val_interval': 20}"
   ]
  },
  {
   "cell_type": "markdown",
   "metadata": {},
   "source": [
    "### Training"
   ]
  },
  {
   "cell_type": "code",
   "execution_count": 8,
   "metadata": {
    "colab": {},
    "colab_type": "code",
    "id": "s1-GgOMswnhj"
   },
   "outputs": [],
   "source": [
    "G = Generator(min_res, max_res, min_fmaps, max_fmaps, act, \n",
    "              k_size, blocks, img_channels, latent_size, n_layers, weights_avg_beta=weights_avg_beta).to(device)\n",
    "\n",
    "D = Discriminator(min_res, max_res, min_fmaps, max_fmaps, act, \n",
    "                   k_size, blocks, img_channels).to(device)"
   ]
  },
  {
   "cell_type": "code",
   "execution_count": 9,
   "metadata": {},
   "outputs": [],
   "source": [
    "# Equalized learning rate\n",
    "G = Equal_LR('weight')(G)\n",
    "D = Equal_LR('weight')(D)"
   ]
  },
  {
   "cell_type": "code",
   "execution_count": 10,
   "metadata": {
    "colab": {},
    "colab_type": "code",
    "id": "RMKWKPHvwniI"
   },
   "outputs": [],
   "source": [
    "# Dataset\n",
    "mean = 0.1307\n",
    "std = 0.3081\n",
    "dataset = MNIST('data', transform=T.Compose([T.ToTensor(), T.Normalize((mean,), (std,))]), download=True)"
   ]
  },
  {
   "cell_type": "code",
   "execution_count": 11,
   "metadata": {},
   "outputs": [],
   "source": [
    "# Initialization\n",
    "def init_weights(m):\n",
    "    if hasattr(m, 'weight_orig'):\n",
    "        torch.nn.init.normal_(m.weight_orig)\n",
    "    if hasattr(m, 'bias'):\n",
    "        torch.nn.init.zeros_(m.bias)\n",
    "        \n",
    "G.apply(init_weights)\n",
    "D.apply(init_weights);"
   ]
  },
  {
   "cell_type": "code",
   "execution_count": 13,
   "metadata": {
    "colab": {
     "base_uri": "https://localhost:8080/",
     "height": 696
    },
    "colab_type": "code",
    "id": "pHn7nW9mwniX",
    "outputId": "a6bee887-eaad-4fe9-f41f-b72f5a062376",
    "scrolled": false
   },
   "outputs": [],
   "source": [
    "train(G, D, dataset, **train_params, checkpoint=torch.load('last_checkpoint.pt'))"
   ]
  },
  {
   "cell_type": "markdown",
   "metadata": {},
   "source": [
    "### Evaluation"
   ]
  },
  {
   "cell_type": "code",
   "execution_count": 12,
   "metadata": {},
   "outputs": [
    {
     "data": {
      "text/plain": [
       "<All keys matched successfully>"
      ]
     },
     "execution_count": 12,
     "metadata": {},
     "output_type": "execute_result"
    }
   ],
   "source": [
    "G.load_state_dict(checkpoint['G'])\n",
    "D.load_state_dict(checkpoint['D'])"
   ]
  },
  {
   "cell_type": "code",
   "execution_count": 99,
   "metadata": {
    "colab": {},
    "colab_type": "code",
    "id": "vi3nmIkAN9B2"
   },
   "outputs": [
    {
     "data": {
      "image/png": "[encoded data removed]",
      "text/plain": [
       "<Figure size 360x360 with 1 Axes>"
      ]
     },
     "metadata": {
      "needs_background": "light"
     },
     "output_type": "display_data"
    },
    {
     "data": {
      "image/png": "[encoded data removed]",
      "text/plain": [
       "<Figure size 360x360 with 1 Axes>"
      ]
     },
     "metadata": {
      "needs_background": "light"
     },
     "output_type": "display_data"
    }
   ],
   "source": [
    "plt.title('Generated')\n",
    "plt.imshow(grid(G.sample_images(32, 0.9)*std+mean).squeeze())\n",
    "plt.show()\n",
    "\n",
    "plt.title('Real data')\n",
    "real_imgs = dataset.data[:32].unsqueeze(-1)\n",
    "plt.imshow(grid(real_imgs).squeeze())\n",
    "plt.show()"
   ]
  },
  {
   "cell_type": "markdown",
   "metadata": {
    "colab": {},
    "colab_type": "code",
    "id": "yAHcCXXhIPuA"
   },
   "source": [
    "```\n",
    "\n",
    "\n",
    "\n",
    "\n",
    "\n",
    "\n",
    "\n",
    "```\n",
    "## Reverse mapping from images to latents"
   ]
  },
  {
   "cell_type": "markdown",
   "metadata": {},
   "source": [
    "### Feedforward model"
   ]
  },
  {
   "cell_type": "code",
   "execution_count": 16,
   "metadata": {},
   "outputs": [],
   "source": [
    "class E(nn.Module):\n",
    "    def __init__(self, min_res, max_res, min_fmaps, max_fmaps, latent_size,\n",
    "                 act, k_size, blocks, img_channels, dense_size=128, **kwargs):\n",
    "        super().__init__()\n",
    "        # building layers\n",
    "        fmaps = np.linspace(min_fmaps, max_fmaps, blocks+1).astype('int')\n",
    "        self.from_channels = nn.Conv2d(img_channels, fmaps[0], 1)\n",
    "        self.layers = []\n",
    "        self.noise_outs = []\n",
    "        for i in range(blocks):\n",
    "            layer = D_Block(fmaps[i],fmaps[i+1], k_size, act)\n",
    "            self.add_module(str(i), layer)\n",
    "            self.layers.append(layer)\n",
    "            noise_out = nn.Conv2d(fmaps[i+1],2, 3, padding=1)\n",
    "            self.add_module('noise'+str(i), noise_out)\n",
    "            self.noise_outs.append(noise_out)\n",
    "            \n",
    "        self.conv = nn.Conv2d(fmaps[-1]+1,fmaps[-1], 3)\n",
    "        self.dense = nn.Linear(fmaps[-1]*(min_res-2)**2, dense_size)\n",
    "        self.output = nn.Linear(dense_size, latent_size)\n",
    "        self.act = act\n",
    "    \n",
    "    def get_latents(self, imgs):\n",
    "        noises = []\n",
    "        x = self.from_channels(imgs)\n",
    "        for i,layer in enumerate(self.layers):\n",
    "            x = layer(x)\n",
    "            noises.append(self.noise_outs[i](x))\n",
    "        x = self.minibatch_sttdev(x)\n",
    "        x = self.act(self.conv(x))\n",
    "        x = x.view(x.shape[0],-1)\n",
    "        x = self.act(self.dense(x))\n",
    "        dlatents = self.output(x)\n",
    "        return dlatents, noises\n",
    "        "
   ]
  },
  {
   "cell_type": "code",
   "execution_count": 17,
   "metadata": {},
   "outputs": [],
   "source": [
    "def train_E(G, E, max_iter, batch_size, E_opt_args, mapping_opt_args,\n",
    "            pl_weight, r1_weight,\n",
    "          r1_interval, pl_interval, val_interval, num_workers):\n",
    "    # create dataloader\n",
    "    dataloader = NextDataLoader(dataset, batch_size, num_workers=num_workers)\n",
    "    # create optimizer\n",
    "    optimizer = torch.optim.Adam(D.parameters(), **D_opt_args)\n",
    "    Path_length_reg = Path_length_loss()\n",
    "    for i in tqdm(range(max_iter)):\n",
    "        for j in range(D_steps):\n",
    "            real_imgs = next(dataloader)[0].cuda()\n",
    "            real_imgs.requires_grad = True\n",
    "            dlatent = G.sample_dlatents(real_imgs.shape[0])\n",
    "            fake_imgs = G.generate(dlatent)\n",
    "            real_scores = D.get_score(real_imgs)\n",
    "            fake_scores = D.get_score(fake_imgs)\n",
    "            loss =  D_logistic(real_scores, fake_scores)\n",
    "            if i % r1_interval == 0 and j == D_steps-1:\n",
    "                loss += r1_weight*r1_interval*R1_reg(real_imgs, real_scores)\n",
    "            real_imgs.requires_grad = False\n",
    "            disc_optimizer.zero_grad()\n",
    "            loss.backward()\n",
    "            disc_optimizer.step()\n",
    "            disc_scheduler.step()\n",
    "\n",
    "        dlatent = G.sample_dlatents(batch_size)\n",
    "        fake_imgs = G.generate(dlatent)\n",
    "        fake_scores = D.get_score(fake_imgs)    \n",
    "        loss = G_logistic_ns(fake_scores)    \n",
    "        if i % pl_interval == 0:\n",
    "            loss += pl_weight*pl_interval*Path_length_reg(dlatent, fake_imgs)   \n",
    "        gen_optimizer.zero_grad()\n",
    "        loss.backward()\n",
    "        gen_optimizer.step()\n",
    "        gen_scheduler.step()\n",
    "        G.update_avg_weights()\n",
    "\n",
    "        \n",
    "        if i % val_interval == 0:\n",
    "            display.clear_output(wait=True)\n",
    "            # print pictures, Generator performance\n",
    "            # real = real_imgs[:32].permute(0,2,3,1).cpu().numpy()\n",
    "            # plt.imshow(grid(real).squeeze())\n",
    "            # plt.show()\n",
    "            gen = fake_imgs[:32].detach().permute(0,2,3,1).cpu().numpy()\n",
    "            plt.imshow(grid(gen).squeeze())\n",
    "            plt.show()\n",
    "            # print prob distribution, Discriminator performance\n",
    "            plt.figure(figsize=(5,5))\n",
    "            plt.title('Generated vs real data')\n",
    "            plt.hist(torch.sigmoid(real_scores.data).cpu().numpy(), label='D(x)', alpha=0.5,range=[0,1])\n",
    "            plt.hist(torch.sigmoid(fake_scores.data).cpu().numpy(), label='D(G(z))',alpha=0.5,range=[0,1])\n",
    "            plt.legend(loc='best')\n",
    "            plt.show()\n",
    "\n",
    "\n",
    "        if i % 500 == 0:\n",
    "            torch.save(G.state_dict(), '/content/drive/My Drive/Checkpoints/'+'G.pt')\n",
    "            torch.save(D.state_dict(), '/content/drive/My Drive/Checkpoints/'+'D.pt')"
   ]
  },
  {
   "cell_type": "markdown",
   "metadata": {},
   "source": [
    "```\n",
    "\n",
    "\n",
    "```\n",
    "### Optimization\n",
    "\n",
    "#### Projection method described in StyleGAN2 paper"
   ]
  },
  {
   "cell_type": "code",
   "execution_count": 22,
   "metadata": {},
   "outputs": [],
   "source": [
    "plt.rcParams['figure.figsize'] = (5,5)"
   ]
  },
  {
   "cell_type": "code",
   "execution_count": 101,
   "metadata": {},
   "outputs": [],
   "source": [
    "class Projector():\n",
    "    def __init__(self,\n",
    "                 G, # generator\n",
    "                 image_loss, # loss for comparing generated and target images\n",
    "                 noise_reg_weight= 1e5, # weight for noise regularization,  None -> regularization disabled\n",
    "                 dlatent_avg_samples = 10000,  # number of samples for computing avg and std\n",
    "                 max_lr = 0.1, lr_rampdown_length = 0.25, lr_rampup_length = 0.05, # lr params\n",
    "                 noise_factor = 0.05, noise_ramp_length  = 0.75 # dlatents noise params\n",
    "                ):\n",
    "        for n, v in locals().items():\n",
    "            if n != 'self':\n",
    "                setattr(self, n, v)\n",
    "        self.G.eval()\n",
    "\n",
    "\n",
    "    def compute_init_approx(self):\n",
    "        dlatents = self.G.sample_dlatents(self.dlatent_avg_samples).detach()\n",
    "        self.dlatents_avg = torch.mean(dlatents, dim = 0, keepdim=True)\n",
    "        self.dlatents_std = (torch.sum((dlatents - self.dlatents_avg) ** 2)/self.dlatent_avg_samples) ** 0.5\n",
    "        min_res = self.G.const.shape[-1]\n",
    "        self.noise_maps_shapes = [(1, 2 , 1, min_res*2**i, min_res*2**i) for i in range(1,len(self.G.layers)+1)]\n",
    "\n",
    "\n",
    "    def lr_schedule(self, step):\n",
    "        t = step/self.num_steps\n",
    "        x = min(1, t/self.lr_rampup_length)\n",
    "        if t > (1-self.lr_rampdown_length):\n",
    "            x = np.sin(0.5*np.pi*(1-t)/self.lr_rampdown_length)\n",
    "        return(x)\n",
    "\n",
    "\n",
    "    @staticmethod\n",
    "    def show(image):\n",
    "        plt.imshow(to_img(image).squeeze())\n",
    "        plt.show()\n",
    "\n",
    "\n",
    "    def run(self, target_image, num_steps=1000):\n",
    "        self.num_steps = num_steps\n",
    "        if not hasattr(self, 'dlatents_avg'):\n",
    "            self.compute_init_approx()\n",
    "        # initialize optimizable variables\n",
    "        dlatents = self.dlatents_avg.clone().requires_grad_(True)\n",
    "        noise_maps = [torch.randn(s, device=dlatents.device).requires_grad_(True) for s in self.noise_maps_shapes]\n",
    "        # create opt and lr scheduler\n",
    "        optimizer = torch.optim.Adam([dlatents, *noise_maps], lr=self.max_lr)\n",
    "        scheduler = torch.optim.lr_scheduler.LambdaLR(optimizer, self.lr_schedule)\n",
    "        # iterations\n",
    "        for step in tqdm(range(self.num_steps)):\n",
    "            # generate noise for dlatents\n",
    "            noise_strength = self.dlatents_std*self.noise_factor*max(1-(step/self.num_steps)/self.noise_ramp_length, 0)\n",
    "            dlatents_noise = torch.randn_like(dlatents)*noise_strength\n",
    "            # generate image\n",
    "            image = self.G.generate(dlatents + dlatents_noise, noise_maps)\n",
    "            # compute loss\n",
    "            loss = self.image_loss(image, target_image)\n",
    "            if not self.noise_reg_weight is None:\n",
    "                loss += self.noise_reg_weight * Noise_reg(noise_maps)\n",
    "            # backward pass, opt and scheduler steps\n",
    "            optimizer.zero_grad()\n",
    "            loss.backward()\n",
    "            optimizer.step()\n",
    "            scheduler.step()\n",
    "            # show result\n",
    "            display.clear_output(wait=True)\n",
    "            Projector.show(image)\n",
    "        return dlatents.data, [nmap.data for nmap in noise_maps]"
   ]
  },
  {
   "cell_type": "markdown",
   "metadata": {},
   "source": [
    "#### The image quality term is the LPIPS distance. But in this simple case, $L_2$ works just as well."
   ]
  },
  {
   "cell_type": "code",
   "execution_count": 105,
   "metadata": {},
   "outputs": [],
   "source": [
    "import sys\n",
    "sys.path.append(\"../PerceptualSimilarity/\")\n",
    "from models import PerceptualLoss"
   ]
  },
  {
   "cell_type": "code",
   "execution_count": 110,
   "metadata": {},
   "outputs": [
    {
     "name": "stdout",
     "output_type": "stream",
     "text": [
      "Setting up Perceptual loss...\n",
      "Loading model from: /home/o2chan/PerceptualSimilarity/models/weights/v0.1/squeeze.pth\n",
      "...[net-lin [squeeze]] initialized\n",
      "...Done\n"
     ]
    }
   ],
   "source": [
    "image_loss = PerceptualLoss(model='net-lin', net='squeeze', use_gpu=False)\n",
    "# for some reason, a cuDNN error occurs when using GPU\n",
    "G.cpu();"
   ]
  },
  {
   "cell_type": "code",
   "execution_count": 111,
   "metadata": {},
   "outputs": [],
   "source": [
    "proj = Projector(G, image_loss)"
   ]
  },
  {
   "cell_type": "code",
   "execution_count": 112,
   "metadata": {},
   "outputs": [
    {
     "data": {
      "image/png": "[encoded data removed]",
      "text/plain": [
       "<Figure size 360x360 with 1 Axes>"
      ]
     },
     "metadata": {
      "needs_background": "light"
     },
     "output_type": "display_data"
    }
   ],
   "source": [
    "target_image = G.sample(1)\n",
    "plt.imshow(to_img(target_image).squeeze())\n",
    "plt.show()"
   ]
  },
  {
   "cell_type": "code",
   "execution_count": 113,
   "metadata": {
    "scrolled": true
   },
   "outputs": [
    {
     "data": {
      "image/png": "[encoded data removed]",
      "text/plain": [
       "<Figure size 360x360 with 1 Axes>"
      ]
     },
     "metadata": {
      "needs_background": "light"
     },
     "output_type": "display_data"
    },
    {
     "name": "stderr",
     "output_type": "stream",
     "text": [
      "100%|██████████| 1000/1000 [04:59<00:00,  3.34it/s]\n"
     ]
    }
   ],
   "source": [
    "dlatents, noise_maps = proj.run(target_image.data, num_steps=1000)"
   ]
  },
  {
   "cell_type": "code",
   "execution_count": 96,
   "metadata": {},
   "outputs": [
    {
     "data": {
      "image/png": "[encoded data removed]",
      "text/plain": [
       "<Figure size 360x360 with 1 Axes>"
      ]
     },
     "metadata": {
      "needs_background": "light"
     },
     "output_type": "display_data"
    }
   ],
   "source": [
    "plt.imshow(grid(to_img(noise_maps[-1][0])).squeeze())\n",
    "plt.show()"
   ]
  },
  {
   "cell_type": "code",
   "execution_count": 52,
   "metadata": {},
   "outputs": [
    {
     "data": {
      "image/png": "[encoded data removed]",
      "text/plain": [
       "<Figure size 792x792 with 1 Axes>"
      ]
     },
     "metadata": {
      "needs_background": "light"
     },
     "output_type": "display_data"
    },
    {
     "name": "stderr",
     "output_type": "stream",
     "text": [
      "100%|██████████| 200/200 [01:00<00:00,  3.33it/s]\n"
     ]
    },
    {
     "data": {
      "text/plain": [
       "(tensor([[[ 9.3514e-01,  1.8595e+00,  6.9791e-01,  2.5512e+00, -1.1447e+00,\n",
       "            1.1047e+00,  1.7180e+00,  6.1052e-01,  1.1243e+00,  2.5761e+00,\n",
       "           -5.3197e-01,  2.6944e+00,  6.5478e-01,  2.1000e+00,  1.3951e+00,\n",
       "            7.5645e-01,  1.2145e+00, -5.3316e-01,  1.4161e+00,  1.4594e+00,\n",
       "            7.6951e-01, -4.9682e-01, -1.8269e+00,  5.2746e-01,  1.4510e+00,\n",
       "            1.3055e+00, -8.9283e-01,  1.6473e+00, -7.4953e-01,  7.2668e-01,\n",
       "            9.2205e-01,  7.8513e-01, -5.7380e-02,  9.5379e-01, -3.1963e-01,\n",
       "            7.1887e-01, -1.2994e+00,  1.6434e+00,  5.0648e-01,  1.6169e+00,\n",
       "            6.7164e-01,  1.6313e+00,  1.1981e+00,  2.2010e-01,  2.2499e-01,\n",
       "           -2.4692e+00, -1.8606e-02,  2.2367e+00,  7.4219e-01,  6.4794e-01,\n",
       "           -6.0846e-01,  2.8436e-01, -1.9277e-02,  5.4923e-01,  8.9590e-01,\n",
       "           -3.4063e-01,  1.0916e-01,  8.1984e-01,  1.9476e+00,  1.7713e+00,\n",
       "            9.5836e-01, -7.7190e-01, -1.0002e-01, -2.9172e-01,  2.6753e-02,\n",
       "            9.4853e-01,  5.2385e-01,  6.2915e-01,  2.0387e+00, -5.1267e-02,\n",
       "           -9.0479e-01,  1.4453e+00,  3.8036e-01,  1.2386e-01,  2.0491e+00,\n",
       "            8.5392e-02, -9.8432e-01,  1.2842e+00,  1.5007e+00, -2.8141e-01,\n",
       "            1.4622e+00,  2.9623e+00,  5.6996e-01,  4.8595e-01,  1.7435e+00,\n",
       "            2.9815e+00,  1.4940e+00, -2.4494e+00, -9.7608e-01,  5.1649e-01,\n",
       "           -4.9733e-01, -1.7445e-01,  7.4450e-01,  7.5836e-01,  1.1743e+00,\n",
       "            2.1076e+00,  1.4899e+00,  8.7190e-01,  3.1365e-01,  1.9285e+00,\n",
       "            8.2834e-02,  7.8177e-01,  1.8059e+00,  1.5433e+00,  8.9723e-01,\n",
       "           -1.5578e-01, -8.8800e-01,  1.2788e-01, -2.8207e-01,  2.9660e+00,\n",
       "           -3.4761e-01,  5.2594e-01,  3.1715e+00,  1.4331e+00,  2.0979e+00,\n",
       "            1.4066e+00,  8.2354e-01, -5.6553e-01, -2.9734e-01,  7.0768e-01,\n",
       "            1.0191e+00,  1.1337e+00, -2.5701e-01, -1.0302e+00, -1.0064e+00,\n",
       "           -1.9894e+00, -7.6518e-01,  1.0194e+00,  1.4311e+00,  2.0641e+00,\n",
       "            1.0311e+00,  1.6274e+00,  1.2417e+00,  9.8147e-01,  3.0211e+00,\n",
       "           -1.4469e+00,  1.2376e+00,  7.1864e-02,  2.6004e-01,  4.1714e-01,\n",
       "            1.9860e+00,  5.1001e-01, -2.2512e-01,  4.7037e-01, -3.0072e-02,\n",
       "            3.6006e+00, -2.7551e-01,  2.3287e+00, -5.8595e-02,  7.1341e-01,\n",
       "            1.5853e+00,  6.4555e-01, -6.7079e-01,  1.4969e+00,  4.0604e-01,\n",
       "            5.1658e-01,  9.2898e-01, -2.1637e+00, -1.0167e+00, -1.5289e-01],\n",
       "          [ 3.3279e-01,  1.6077e+00,  3.7439e+00,  2.5254e+00, -8.7468e-01,\n",
       "           -2.4926e-01,  1.2717e+00,  1.3976e+00, -1.4316e+00,  3.3253e+00,\n",
       "           -6.0519e-01,  3.3836e+00, -5.8391e-01,  2.9754e+00,  4.0043e+00,\n",
       "            1.4245e+00, -2.6227e-01, -2.2124e-01,  7.3706e-01,  1.3629e-01,\n",
       "            1.4791e+00, -2.2652e-01, -4.2852e-02,  1.2038e-01,  1.7699e+00,\n",
       "            5.4266e-01, -1.3945e+00,  2.1311e+00,  7.4701e-02,  1.1394e+00,\n",
       "            5.4955e-01,  5.7179e-01,  4.0898e-01, -5.3456e-01,  1.0982e+00,\n",
       "            3.4879e+00,  1.3890e-02,  1.9196e+00,  1.6526e+00,  1.5316e+00,\n",
       "            8.5302e-01,  2.1767e+00,  1.4572e+00,  8.5366e-01, -2.7230e-01,\n",
       "            5.7994e-02,  3.4550e-01,  2.0463e+00,  5.0898e-01, -7.8495e-01,\n",
       "           -4.4066e-02, -8.0133e-01,  1.3512e+00,  1.1293e+00, -2.1087e-01,\n",
       "            1.1904e+00,  3.3395e-01,  3.8819e-01, -1.3534e+00,  1.3225e+00,\n",
       "            2.2455e+00, -9.2685e-01,  7.0955e-01,  5.0954e-01,  1.9475e+00,\n",
       "            9.6997e-01, -9.4156e-02,  1.3278e+00,  3.4779e+00,  9.1493e-02,\n",
       "            8.7186e-01,  2.7445e+00, -5.2217e-01,  1.4932e+00,  1.4079e+00,\n",
       "            4.0133e-01, -5.8635e-01,  1.3806e+00,  1.7363e+00, -4.3291e-02,\n",
       "            9.2647e-01,  1.3415e+00,  1.5104e+00,  1.4032e-01,  1.8254e+00,\n",
       "            3.0600e+00,  1.9123e+00, -1.2734e+00,  1.0828e+00,  6.9089e-01,\n",
       "           -4.6652e-01,  4.0402e-01, -1.5317e+00,  4.1510e-01,  2.6715e+00,\n",
       "            9.5888e-01,  2.2683e+00,  7.0163e-01,  1.0653e-01,  3.3437e+00,\n",
       "            4.8712e-01,  1.7986e-01,  2.4075e+00,  8.1052e-01,  3.9712e-01,\n",
       "            1.0091e-01, -5.2656e-01, -2.2365e-01, -2.3995e+00,  1.7724e+00,\n",
       "            5.4811e-02, -4.0118e-01,  4.8909e+00,  1.3760e+00, -7.6694e-02,\n",
       "            1.1431e+00,  1.4765e+00, -8.6209e-01,  4.9335e-03,  3.0658e-04,\n",
       "            1.0257e+00,  1.0171e+00,  4.9051e-01, -1.7760e+00, -2.7672e-01,\n",
       "            1.0196e+00,  2.3187e+00,  1.1516e+00,  1.2822e+00, -4.4089e-01,\n",
       "            1.6626e+00,  1.8631e+00,  4.2963e-01,  7.5276e-01,  2.9252e+00,\n",
       "            9.2349e-01,  6.3596e-01,  3.1073e+00,  2.3638e+00,  1.5672e+00,\n",
       "            6.7846e-01,  4.9671e-01,  5.5042e-01,  3.5702e-03,  1.8375e+00,\n",
       "            1.9551e+00,  1.2311e-01,  2.0648e+00,  1.5159e-01,  1.3090e+00,\n",
       "           -3.7779e-01,  1.2212e+00,  1.9700e-03,  1.1111e+00,  8.3076e-01,\n",
       "            5.2970e-01,  1.6878e+00, -1.2631e+00,  1.1563e+00, -6.3962e-01],\n",
       "          [ 1.1025e+00, -5.3156e-01,  3.2075e+00,  1.1468e+00,  1.6830e-01,\n",
       "            1.9450e+00,  1.3118e-01, -2.1645e-01, -2.0900e+00,  1.7878e+00,\n",
       "           -1.6305e+00,  3.5424e+00, -1.3325e+00,  1.7550e+00,  8.6512e-01,\n",
       "            1.0565e+00,  2.7606e+00,  1.4761e+00, -2.0675e-01,  8.5233e-01,\n",
       "            1.0590e+00, -3.7644e-01, -5.8582e-01,  6.6642e-01, -7.9947e-01,\n",
       "           -3.6014e-01, -3.7685e-01,  2.3749e-01, -6.4967e-01, -6.2161e-01,\n",
       "            1.8188e+00,  3.2806e-01,  8.4204e-01,  8.6330e-01, -1.1340e+00,\n",
       "            1.6411e+00, -1.1602e+00,  3.0752e+00,  6.1244e-01,  1.0259e+00,\n",
       "            4.2700e-01,  8.5342e-01,  1.2818e+00,  5.3811e-01, -1.1086e-01,\n",
       "           -1.5964e+00,  7.0837e-01,  1.9807e+00,  4.2008e-01,  2.6878e-01,\n",
       "           -9.3319e-02, -6.3475e-02,  1.9489e+00, -4.2170e-01, -4.2334e-01,\n",
       "           -2.2476e-01,  1.0505e-01, -3.0281e-01,  6.5645e-01,  1.1269e+00,\n",
       "            2.0829e+00, -2.1395e-01, -5.1709e-01,  8.9782e-01, -9.0746e-01,\n",
       "            5.9510e-01, -1.0264e+00,  2.6785e-01,  1.2561e+00,  4.1719e-01,\n",
       "            1.7704e-01,  2.7046e+00, -2.7927e-01,  1.2650e+00, -4.7321e-01,\n",
       "            4.8971e-01, -1.8842e-01,  3.5711e-01,  4.8377e-01, -3.4209e-02,\n",
       "            8.7197e-02,  1.6802e+00,  7.2145e-01, -4.6457e-01, -1.9592e-01,\n",
       "            2.0581e+00,  1.5909e+00,  5.1742e-01,  1.4971e+00,  5.6546e-01,\n",
       "            4.0965e-01,  1.6811e-01,  7.8763e-01,  5.9648e-01, -1.0036e+00,\n",
       "            8.3003e-01,  4.1648e-01,  1.0250e+00, -5.2798e-01,  2.1542e+00,\n",
       "            1.1558e+00,  4.8364e-01,  2.2775e+00,  7.1566e-01,  2.1445e-01,\n",
       "            9.9586e-01, -1.2942e+00,  9.4910e-01,  1.2007e+00,  2.9657e+00,\n",
       "            1.1412e+00, -3.7865e-01,  1.9196e+00,  1.9198e+00, -9.7745e-01,\n",
       "           -2.4289e-01,  1.2804e+00, -7.5202e-02, -3.3740e-01, -2.7196e-01,\n",
       "            8.6892e-01,  3.6452e-01,  3.8351e-01,  2.2402e-01, -6.8752e-01,\n",
       "           -1.0451e+00, -2.2229e-01, -9.9769e-01,  6.4425e-01,  3.0534e-01,\n",
       "            9.6103e-01,  4.5481e-01,  1.4642e-02,  3.3891e+00,  1.2527e+00,\n",
       "           -3.3883e+00,  2.3543e-01, -3.3565e-01,  1.6710e-01,  2.7165e+00,\n",
       "            1.4004e-02,  7.3553e-01,  1.1050e+00,  5.1148e-01,  8.0501e-01,\n",
       "            2.8176e+00, -5.9393e-01,  2.2302e+00, -1.6660e+00, -2.0891e+00,\n",
       "            1.0969e+00,  3.0012e-01,  4.5710e-01,  1.8012e+00,  1.7046e+00,\n",
       "            2.5624e-01,  9.7537e-01,  1.5209e+00,  9.6484e-01,  1.2568e+00]]]),\n",
       " [tensor([[[[[-1.3077e+00, -9.4063e-01, -4.6382e-01,  8.6324e-02,  2.8515e+00,\n",
       "               8.4805e-01,  2.5794e+00, -1.8597e+00],\n",
       "             [-1.0397e+00,  1.4309e+00, -7.4918e-01, -8.9212e-01, -3.7866e-01,\n",
       "              -2.5936e+00,  2.5731e+00, -2.1920e+00],\n",
       "             [-2.0719e+00,  2.5744e+00,  2.7907e-01, -1.7160e+00,  2.7555e+00,\n",
       "               2.3390e-01,  5.9079e-01, -1.3975e+00],\n",
       "             [-1.2873e+00,  2.0185e+00,  9.0078e-01, -6.3494e-01,  2.7680e+00,\n",
       "              -1.0162e+00, -7.8003e-01, -3.4945e-01],\n",
       "             [-1.2408e+00, -8.6246e-01,  1.7764e+00,  2.4698e+00, -1.7618e-01,\n",
       "               5.8367e-01, -1.7245e+00, -5.5852e-01],\n",
       "             [-2.3442e-01,  1.2232e+00,  5.5200e-01, -1.7820e+00, -4.2910e-01,\n",
       "               2.9770e+00, -4.7910e-01, -8.1468e-01],\n",
       "             [-2.3936e+00, -2.5790e+00, -2.9159e+00, -8.4604e-01, -2.7736e-01,\n",
       "               9.0037e-01,  9.6169e-01, -1.0080e-01],\n",
       "             [ 1.9100e+00, -1.5594e+00, -1.8635e+00,  1.0221e+00, -3.7056e-01,\n",
       "               1.9373e-01, -1.8578e+00,  1.8717e+00]]],\n",
       "  \n",
       "  \n",
       "           [[[-9.3253e-01,  2.2547e-02,  2.4635e+00, -1.1370e+00, -5.2234e-01,\n",
       "              -6.0032e-01,  6.7183e-02, -1.5900e+00],\n",
       "             [-1.3191e+00, -2.0631e+00,  1.5908e+00, -1.4075e+00,  9.6533e-01,\n",
       "               1.7758e+00, -4.4902e+00,  1.0799e+00],\n",
       "             [ 7.7306e-01, -2.2102e+00,  4.3592e-01,  2.2490e+00,  8.5151e-01,\n",
       "               1.2208e+00, -2.7191e+00,  5.7944e+00],\n",
       "             [-6.2182e-01,  2.1407e-01, -9.8593e-01, -7.6342e-01,  6.3363e-01,\n",
       "               3.0310e+00,  2.0700e+00,  1.8626e+00],\n",
       "             [ 1.5951e+00,  8.1257e-01,  9.5332e-01, -1.4396e+00, -9.6235e-01,\n",
       "               2.4643e+00,  1.0116e+00,  9.3136e-01],\n",
       "             [-1.7996e+00,  1.8173e+00,  7.3814e-01,  7.7704e-01,  1.0251e+00,\n",
       "               1.1804e+00, -1.1846e+00,  1.5181e+00],\n",
       "             [-1.6576e+00,  1.6618e+00,  2.5777e+00,  4.6256e-01,  2.2207e+00,\n",
       "              -1.1604e+00, -2.2683e-01,  4.9419e-02],\n",
       "             [-1.4797e+00, -2.7253e-01, -5.1613e-01,  5.0301e-01, -3.5598e-01,\n",
       "               2.7032e+00, -4.2381e+00, -3.4786e-03]]]]]),\n",
       "  tensor([[[[[-2.3762e-01, -1.9347e-01, -6.9116e-01, -1.3204e+00, -3.0535e-01,\n",
       "              -2.4301e+00,  8.9610e-01,  6.3165e-01, -3.1176e-01, -2.6156e+00,\n",
       "              -1.7782e+00, -3.2487e+00, -2.6547e+00, -2.2851e+00, -1.9624e+00,\n",
       "               8.6831e-01],\n",
       "             [-1.5233e+00, -7.4102e-01,  5.0744e-02, -5.6305e+00, -3.7829e+00,\n",
       "              -1.4567e+00, -6.9439e-01,  1.3955e+00,  1.6889e-01, -6.0952e-01,\n",
       "              -2.2094e+00, -4.9991e-01, -3.2692e+00, -1.7516e+00, -1.6533e+00,\n",
       "               1.8192e+00],\n",
       "             [-1.4218e+00, -2.0047e+00,  2.5665e+00, -2.5935e+00,  1.1245e+00,\n",
       "              -1.0774e+00,  7.3001e-01,  8.7460e-01,  4.5867e-01, -3.6846e-01,\n",
       "              -6.9621e-01,  5.2853e-01, -4.6791e-01, -1.3351e+00, -3.1617e+00,\n",
       "               1.3115e+00],\n",
       "             [-3.4169e+00, -1.0390e+00,  1.3924e+00, -9.9991e-01,  1.5370e+00,\n",
       "              -3.4462e+00,  8.7977e-01, -1.5616e+00, -1.2864e+00, -1.8004e+00,\n",
       "              -2.7345e+00, -1.6323e+00, -8.9136e-01, -4.0890e+00, -2.2308e+00,\n",
       "               2.9368e+00],\n",
       "             [-6.1257e+00, -3.3247e+00, -2.8682e+00,  3.0400e-01, -1.2090e+00,\n",
       "               7.2526e-01, -1.3457e+00, -2.2475e-01,  2.8552e+00, -1.3740e+00,\n",
       "               7.8777e-01,  7.3253e+00, -6.9240e-01, -5.0920e+00, -3.3702e+00,\n",
       "               3.8675e+00],\n",
       "             [-7.6940e+00, -7.5584e+00, -6.3094e+00,  2.7673e-01, -5.5643e-01,\n",
       "               2.8894e-02,  2.7335e+00,  2.4118e+00, -2.3981e+00, -2.8709e+00,\n",
       "               1.3763e+00,  2.8745e+00, -5.4902e-01, -5.6674e+00, -5.7321e+00,\n",
       "              -1.9044e-01],\n",
       "             [-6.3420e+00, -6.2586e+00, -4.1878e+00, -7.5074e-01, -2.1081e+00,\n",
       "              -2.0810e+00,  7.2788e-01, -3.3352e+00, -1.2993e+00,  6.4872e-01,\n",
       "              -3.7251e+00, -1.4798e-01,  5.9933e+00, -7.8105e+00, -4.5065e+00,\n",
       "               8.4327e-01],\n",
       "             [-5.8096e+00, -3.2903e+00, -1.0961e+00,  5.2001e+00, -1.7767e+00,\n",
       "              -2.9992e+00, -1.7109e+00,  1.6953e+00,  1.8470e+00, -5.8454e-01,\n",
       "               1.3593e+00,  2.5234e+00, -2.2023e+00, -1.9912e+00, -3.5678e+00,\n",
       "              -1.0163e-01],\n",
       "             [ 4.8227e-01, -3.7089e+00, -4.6663e-02, -1.9966e+00, -2.4062e+00,\n",
       "              -3.5998e+00, -1.8950e+00,  2.1038e+00,  4.1663e+00, -5.1216e-01,\n",
       "               1.7094e+00,  4.2499e+00, -1.3585e+00, -1.0826e+00, -3.7288e+00,\n",
       "              -6.7613e-01],\n",
       "             [ 6.6038e-01, -3.7079e+00, -1.0558e-01, -2.9752e+00,  2.8789e+00,\n",
       "              -1.5173e+00, -2.4323e+00, -2.4075e+00, -2.9992e+00,  5.1907e-01,\n",
       "               1.7515e+00,  3.1258e-01, -1.0789e+00, -1.4694e+00, -8.5960e-01,\n",
       "              -7.2311e-01],\n",
       "             [-2.7619e+00, -2.9722e+00, -1.2838e+00,  4.6936e-01,  2.5705e+00,\n",
       "               2.1295e+00, -3.6281e+00, -3.6495e+00, -1.3933e+00,  1.4214e+00,\n",
       "               2.2160e+00, -2.5179e+00,  8.9273e-01,  6.2576e-01, -6.7992e-01,\n",
       "              -1.2561e-01],\n",
       "             [-9.9743e-01, -4.0288e+00, -2.3732e+00,  1.7272e+00, -4.3986e-01,\n",
       "               1.8699e+00, -5.2863e-01,  3.3094e+00, -1.5179e+00, -3.2241e+00,\n",
       "               7.0071e-01,  6.3547e-01, -9.7850e-02,  2.1786e-01, -2.6145e+00,\n",
       "              -6.3193e-01],\n",
       "             [-9.3603e-01, -5.4141e+00, -3.0132e+00,  2.3572e-01,  2.4905e+00,\n",
       "               1.2568e+00,  9.0998e-01,  3.1349e+00, -3.2142e-01,  1.0052e+00,\n",
       "               1.1432e+00, -2.0451e+00, -1.5680e+00, -6.1339e-01, -3.5900e+00,\n",
       "              -2.6031e-01],\n",
       "             [ 1.4751e+00, -3.4751e+00, -4.2897e+00,  2.2367e+00,  1.2597e+00,\n",
       "               3.4069e+00,  6.9154e-01, -3.1208e-01, -5.6139e+00, -1.7507e+00,\n",
       "               1.9229e+00, -2.0132e+00, -5.2295e-01, -1.7318e+00, -3.5390e+00,\n",
       "              -6.8485e-01],\n",
       "             [-1.1358e+00, -5.0191e+00, -4.0198e+00, -4.2434e+00, -1.6571e+00,\n",
       "               7.0168e-02, -1.5922e+00, -1.2924e+00,  3.3094e+00,  2.2953e+00,\n",
       "              -1.4065e+00,  7.3981e-01, -3.9279e-01, -3.5294e+00, -4.6005e+00,\n",
       "               7.5243e-01],\n",
       "             [-2.1951e+00, -3.0186e+00, -2.0827e+00, -1.7120e+00,  1.0251e+00,\n",
       "              -1.6931e+00,  2.2399e+00,  2.9447e+00,  3.4755e+00,  2.4804e-01,\n",
       "              -3.6661e+00,  2.4361e+00,  1.2225e+00, -2.1829e+00, -3.2588e+00,\n",
       "              -3.4409e-01]]],\n",
       "  \n",
       "  \n",
       "           [[[ 1.9911e+00,  1.6060e+00,  8.0784e-01,  3.1505e+00, -1.4180e+00,\n",
       "               1.5534e+00, -5.3962e-02,  7.0503e-02, -2.4093e+00, -3.6573e-01,\n",
       "               1.6999e+00,  3.1279e+00,  1.0181e+00,  6.5430e-01, -1.3050e+00,\n",
       "              -1.0424e+00],\n",
       "             [ 3.6290e+00, -1.1895e+00, -1.4374e+00, -1.7007e+00, -2.8290e+00,\n",
       "              -3.0093e+00,  6.4086e-01,  1.1700e+00, -7.4837e-01, -1.6955e+00,\n",
       "              -1.1190e-01, -1.1859e+00, -1.2109e+00, -1.5037e+00, -4.4114e-01,\n",
       "               1.4755e+00],\n",
       "             [ 3.9340e+00, -9.9595e-01, -4.8583e+00, -2.6186e+00, -7.2827e-01,\n",
       "              -2.7067e+00, -1.5548e+00, -7.3612e-01,  2.3675e-01, -3.2973e+00,\n",
       "              -2.5347e+00, -3.6285e+00, -4.2554e+00, -2.9668e-01, -2.0307e+00,\n",
       "               7.2182e-01],\n",
       "             [ 2.2344e+00, -1.1274e+00, -2.8092e-01, -4.2966e-01, -4.8335e-01,\n",
       "              -1.2725e+00,  1.6550e+00,  4.1408e-01,  3.3704e-01,  2.4185e+00,\n",
       "               2.0734e+00, -1.0767e+00, -3.4874e+00, -1.3852e+00, -2.3096e+00,\n",
       "              -1.7653e+00],\n",
       "             [ 4.8647e+00, -2.6558e+00, -2.4226e+00, -3.5807e+00, -1.5645e+00,\n",
       "               7.3230e-01,  2.4014e+00,  1.4522e+00,  1.3832e+00,  1.1189e+00,\n",
       "               1.1671e+00, -3.5140e+00, -4.3185e+00, -2.3590e+00, -1.1632e+00,\n",
       "              -2.9579e+00],\n",
       "             [ 5.4638e+00, -3.7156e+00, -3.3371e+00, -3.2409e+00,  1.3463e+00,\n",
       "              -9.8852e-01,  1.0936e+00,  1.9957e+00,  2.0591e+00, -1.6077e+00,\n",
       "               1.6955e+00,  6.2083e+00, -4.3273e+00, -3.4242e+00, -4.9736e+00,\n",
       "              -1.6986e+00],\n",
       "             [ 4.5704e+00, -3.3806e+00, -3.2994e+00, -5.2462e+00, -2.9297e+00,\n",
       "               4.6768e-01, -2.1768e+00, -4.0839e+00, -3.0845e+00, -3.8082e+00,\n",
       "              -4.4624e+00,  2.9186e+00, -1.9247e+00, -1.5974e+00, -2.9197e+00,\n",
       "              -1.0107e+00],\n",
       "             [ 3.0454e+00, -1.1779e+00,  1.5191e+00, -6.5339e-01,  8.4902e-03,\n",
       "              -4.0007e+00, -4.3089e+00, -2.8971e+00,  5.0937e-01,  2.7646e-01,\n",
       "              -1.2706e-01, -1.4966e+00,  2.4638e-01,  2.6533e+00,  1.0263e+00,\n",
       "               1.5363e+00],\n",
       "             [ 1.5567e-01, -1.1723e+00, -1.0452e+00, -3.9088e+00,  3.1471e+00,\n",
       "               1.3731e+00, -3.5114e+00,  3.3451e+00, -3.7814e-01, -2.5438e+00,\n",
       "               9.9565e-01, -2.0099e-01, -8.1296e-01, -8.7811e-01, -2.0222e+00,\n",
       "               9.1978e-01],\n",
       "             [ 3.9400e+00, -2.1491e+00,  1.0178e-01, -1.8474e+00,  1.9663e+00,\n",
       "               2.6686e+00, -2.2244e+00,  1.7663e+00, -7.2446e-01, -2.6298e+00,\n",
       "               1.6922e+00,  1.9441e+00, -7.8350e-01, -5.7369e-01, -1.9093e+00,\n",
       "               6.1488e-01],\n",
       "             [ 1.5613e+00, -1.9421e+00, -9.5948e-01,  3.1611e+00,  1.0848e+00,\n",
       "               2.0072e+00, -1.4318e-01, -2.2119e+00, -9.9357e-01,  1.8545e+00,\n",
       "               1.2667e-01,  6.1188e-02,  4.0042e-01, -9.9613e-01, -1.5424e-01,\n",
       "              -1.8450e+00],\n",
       "             [ 1.3462e-01, -1.4416e+00, -1.3267e+00, -6.2123e-01, -9.5789e-01,\n",
       "               1.7890e-01,  2.1769e-02,  1.3768e+00, -3.8609e+00, -4.9454e+00,\n",
       "              -9.4743e-01,  2.1187e-02, -9.6129e-01, -1.1830e-01, -3.1862e+00,\n",
       "               1.0351e+00],\n",
       "             [ 4.1329e+00, -5.3595e+00, -2.1226e+00,  7.3065e-01, -1.4515e+00,\n",
       "              -2.0045e-01,  9.6532e-01,  5.5917e+00, -4.1074e+00, -1.4674e+00,\n",
       "               3.5007e-01,  9.7744e-01, -3.3953e-01, -2.2394e+00, -1.2334e+00,\n",
       "              -3.3033e+00],\n",
       "             [ 6.3771e+00, -4.6388e+00, -1.9597e+00,  1.0408e+00,  5.4975e-01,\n",
       "               2.2252e+00, -3.6799e-01,  3.7509e-01, -2.9580e+00,  1.2379e+00,\n",
       "               2.5471e+00, -4.6950e-01, -1.6825e-01,  1.0295e+00, -1.3452e+00,\n",
       "              -4.6870e-01],\n",
       "             [ 2.5702e+00, -3.8444e+00, -2.2793e-01,  1.1547e+00,  9.0801e-01,\n",
       "              -1.5517e-02, -3.9141e-01,  2.8902e+00,  1.8474e-01, -3.5844e+00,\n",
       "               1.5980e+00, -1.3326e+00,  1.6466e-01,  1.0122e+00, -1.8086e+00,\n",
       "              -3.1873e+00],\n",
       "             [ 5.4277e+00,  1.5092e+00,  2.0135e+00, -9.8218e-01, -3.7600e-01,\n",
       "              -1.5025e-03, -4.2381e-01,  2.6013e+00,  4.6213e+00,  4.2648e+00,\n",
       "              -1.9982e-01,  1.6197e+00, -4.1699e-01, -2.1513e+00, -2.4720e+00,\n",
       "              -5.3782e-01]]]]]),\n",
       "  tensor([[[[[ 2.1205,  0.4084, -1.7544,  ...,  0.1732, -0.8685,  2.6351],\n",
       "             [-0.2305,  1.8618,  1.3442,  ...,  3.8518,  0.0958, -0.4491],\n",
       "             [ 0.3920,  1.5506,  2.4031,  ...,  3.6153, -1.3253, -0.5987],\n",
       "             ...,\n",
       "             [-1.2959,  2.8434,  5.7506,  ...,  4.4503,  0.5546,  0.7002],\n",
       "             [ 0.6882, -0.5801,  1.9863,  ...,  1.8101,  1.3736, -0.1295],\n",
       "             [ 0.2733, -0.4598,  0.1742,  ...,  0.1718,  1.7207, -0.1618]]],\n",
       "  \n",
       "  \n",
       "           [[[-0.3796,  0.9497,  0.8125,  ...,  0.8035,  0.3827, -2.3125],\n",
       "             [-0.1698, -0.2521, -1.1433,  ..., -2.2071, -0.3290, -0.8521],\n",
       "             [-0.4520, -0.5102, -4.7461,  ..., -1.1737,  0.1689,  0.6546],\n",
       "             ...,\n",
       "             [-0.3965, -1.3969, -0.4232,  ..., -2.6645, -1.9783,  0.4722],\n",
       "             [ 0.5500, -0.8553, -0.3951,  ...,  2.5252,  0.7349, -0.3228],\n",
       "             [ 0.4524,  0.1854, -1.9858,  ...,  0.0470, -0.1267,  0.3772]]]]])])"
      ]
     },
     "execution_count": 52,
     "metadata": {},
     "output_type": "execute_result"
    }
   ],
   "source": [
    "loss = torch.mean((image-target_image)**2)"
   ]
  },
  {
   "cell_type": "code",
   "execution_count": null,
   "metadata": {},
   "outputs": [],
   "source": []
  }
 ],
 "metadata": {
  "accelerator": "GPU",
  "colab": {
   "collapsed_sections": [],
   "name": "stylegan.ipynb",
   "provenance": [],
   "toc_visible": true
  },
  "kernelspec": {
   "display_name": "Python 3",
   "language": "python",
   "name": "python3"
  },
  "language_info": {
   "codemirror_mode": {
    "name": "ipython",
    "version": 3
   },
   "file_extension": ".py",
   "mimetype": "text/x-python",
   "name": "python",
   "nbconvert_exporter": "python",
   "pygments_lexer": "ipython3",
   "version": "3.8.1"
  }
 },
 "nbformat": 4,
 "nbformat_minor": 1
}
