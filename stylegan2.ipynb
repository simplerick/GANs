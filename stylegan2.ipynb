{
 "cells": [
  {
   "cell_type": "markdown",
   "metadata": {},
   "source": [
    "# Pytorch implementation of StyleGAN2 \n",
    "#### source:  https://arxiv.org/pdf/1912.04958.pdf\n"
   ]
  },
  {
   "cell_type": "code",
   "execution_count": 85,
   "metadata": {
    "colab": {},
    "colab_type": "code",
    "id": "0vxBkbC2wngr"
   },
   "outputs": [],
   "source": [
    "import torch\n",
    "from torch import nn\n",
    "import torch.nn.functional as F\n",
    "import numpy as np\n",
    "from modules import *\n",
    "from loss import *\n",
    "from misc import *"
   ]
  },
  {
   "cell_type": "code",
   "execution_count": 86,
   "metadata": {
    "colab": {},
    "colab_type": "code",
    "id": "sG2YCdBGwng7"
   },
   "outputs": [],
   "source": [
    "from torchvision.datasets import MNIST\n",
    "import torchvision.transforms as T\n",
    "import matplotlib.pyplot as plt\n",
    "from IPython import display\n",
    "from tqdm import tqdm"
   ]
  },
  {
   "cell_type": "code",
   "execution_count": 87,
   "metadata": {
    "colab": {},
    "colab_type": "code",
    "id": "tGqahOJBwnhB"
   },
   "outputs": [],
   "source": [
    "plt.rcParams['figure.figsize'] = (11,11)\n",
    "plt.rcParams['image.cmap'] = 'gray'"
   ]
  },
  {
   "cell_type": "markdown",
   "metadata": {},
   "source": [
    "### Generator architecture"
   ]
  },
  {
   "cell_type": "code",
   "execution_count": 88,
   "metadata": {
    "colab": {},
    "colab_type": "code",
    "id": "WYv91cykwnhc"
   },
   "outputs": [],
   "source": [
    "class Generator(nn.Module):\n",
    "    def __init__(self, min_res, max_res, min_fmaps, max_fmaps, act, \n",
    "                 k_size, blocks, img_channels, latent_size, n_layers, style_mixing_prob = 0.8,\n",
    "                 dlatent_avg_beta = 0.995, weights_avg_beta=0.99, **kwargs):\n",
    "        super().__init__()\n",
    "        dres = min_res*2**blocks - max_res\n",
    "        assert dres >= 0\n",
    "        # building mapping net\n",
    "        self.latent_size = latent_size\n",
    "        self.mapping = Mapping(n_layers, latent_size, act)\n",
    "        # learnable const\n",
    "        self.const = nn.Parameter(torch.randn(max_fmaps, min_res, min_res))\n",
    "        # building main layers\n",
    "        fmaps = np.linspace(max_fmaps, min_fmaps, blocks+1).astype('int')\n",
    "        self.layers = []\n",
    "        for i in range(blocks):\n",
    "            layer = G_Block(fmaps[i],fmaps[i+1], k_size, latent_size, act, img_channels=img_channels)\n",
    "            self.add_module(str(i), layer)\n",
    "            self.layers.append(layer)\n",
    "        if dres > 0:\n",
    "            self.crop = torch.nn.ZeroPad2d(-dres//2)\n",
    "        # style mixing\n",
    "        self.style_mixing_prob = style_mixing_prob \n",
    "        # running average of dlatents \n",
    "        self.dlatent_avg_beta = dlatent_avg_beta\n",
    "        self.register_buffer('dlatent_avg', torch.zeros(latent_size))\n",
    "        # running average of weights\n",
    "        self.weights_avg_beta = weights_avg_beta\n",
    "        self.Src_Net = deepcopy(self).apply(parameters_to_buffers)\n",
    "        self.Src_Net.train(False)      \n",
    "        \n",
    "        \n",
    "    # update running average of weights\n",
    "    def update_avg_weights(self):\n",
    "        params = dict(self.named_parameters())\n",
    "        buffers = dict(self.named_buffers())\n",
    "        for n,b in self.Src_Net.named_buffers():\n",
    "            try:\n",
    "                b.data.copy_(self.weights_avg_beta*b + (1-self.weights_avg_beta)*params[n])\n",
    "            except:\n",
    "                b.data.copy_(buffers[n])\n",
    "\n",
    "            \n",
    "    # sample dlatents\n",
    "    def sample_dlatents(self, n):\n",
    "        v = self._sample_dlatents(n)\n",
    "        if self.training and self.style_mixing_prob > 0:\n",
    "            v = self._bcast_dlatents(v)\n",
    "            l = len(self.layers)\n",
    "            cut_off = torch.randint(l-1,())\n",
    "            v2 = self._bcast_dlatents(self._sample_dlatents(n))\n",
    "            mask = torch.empty(n, dtype=torch.bool).bernoulli_(self.style_mixing_prob).view(-1, 1) \\\n",
    "                   * (torch.arange(l)>cut_off)\n",
    "            v = torch.where(mask.unsqueeze(-1).to(device=v.device), v2, v)\n",
    "        return v\n",
    "    \n",
    "    def _sample_dlatents(self, n):\n",
    "        device = self.const.device\n",
    "        z = torch.randn(n, self.latent_size).to(device)\n",
    "        v = self.mapping(z)\n",
    "        # update dlatent average\n",
    "        if self.training:\n",
    "            self.dlatent_avg = self.dlatent_avg_beta*self.dlatent_avg + (1-self.dlatent_avg_beta)*v.data.mean(0)\n",
    "        return v\n",
    "    \n",
    "    def _bcast_dlatents(self, v):\n",
    "        # broadcast dlatents [N, dlatent_size] --> [N, num_layers, dlatent_size] \n",
    "        return v.unsqueeze(1).expand(-1, len(self.layers), -1)\n",
    "    \n",
    "    \n",
    "    # generate from dlatents and input noises (optionally)\n",
    "    def generate(self, v, input_noises=None):\n",
    "        x = self.const.expand(v.shape[0], *self.const.shape).contiguous()\n",
    "        input_noises = input_noises if input_noises else [None]*len(self.layers)\n",
    "        y = None\n",
    "        if v.ndim < 3:\n",
    "            v = self._bcast_dlatents(v)\n",
    "        for i,layer in enumerate(self.layers):\n",
    "            x, y = layer(x,v[:,i],y, input_noises[i])  \n",
    "        if hasattr(self, 'crop'):\n",
    "            y = self.crop(y)\n",
    "        return y\n",
    "    \n",
    "    \n",
    "    # for training\n",
    "    def sample(self, n):\n",
    "        dlatents = self.sample_dlatents(n)\n",
    "        x = self.generate(dlatents)\n",
    "        return x\n",
    "            \n",
    "    \n",
    "    # for evaluation\n",
    "    def sample_images(self,n, truncation_psi=1):\n",
    "        with torch.no_grad():\n",
    "            v = self.Src_Net.sample_dlatents(n)\n",
    "            # truncation trick\n",
    "            if truncation_psi < 1:\n",
    "                v = self.dlatent_avg + truncation_psi*(v-self.dlatent_avg)\n",
    "            images = to_img(self.Src_Net.generate(v))\n",
    "        return images"
   ]
  },
  {
   "cell_type": "markdown",
   "metadata": {},
   "source": [
    "### Discriminator architecture"
   ]
  },
  {
   "cell_type": "code",
   "execution_count": 89,
   "metadata": {
    "colab": {},
    "colab_type": "code",
    "id": "I_uZxLxIwnhp"
   },
   "outputs": [],
   "source": [
    "class Discriminator(nn.Module):\n",
    "    def __init__(self, min_res, max_res, min_fmaps, max_fmaps, act, \n",
    "                 k_size, blocks, img_channels, dense_size=128, **kwargs):\n",
    "        super().__init__()\n",
    "        assert max_res <= min_res*2**blocks and max_res >= (min_res-1)*2**blocks\n",
    "        # building layers\n",
    "        fmaps = np.linspace(min_fmaps, max_fmaps, blocks+1).astype('int')\n",
    "        self.from_channels = nn.Conv2d(img_channels, fmaps[0], 1)\n",
    "        self.layers = []\n",
    "        for i in range(blocks):\n",
    "            layer = D_Block(fmaps[i],fmaps[i+1], k_size, act)\n",
    "            self.add_module(str(i), layer)\n",
    "            self.layers.append(layer)\n",
    "        self.minibatch_sttdev = Minibatch_Stddev()\n",
    "        self.conv = nn.Conv2d(fmaps[-1]+1,fmaps[-1], 3)\n",
    "        self.dense = nn.Linear(fmaps[-1]*(min_res-2)**2, dense_size)\n",
    "        self.output = nn.Linear(dense_size, 1)\n",
    "        self.act = act\n",
    "    \n",
    "    \n",
    "    def get_score(self, imgs):\n",
    "        x = self.act(self.from_channels(imgs))\n",
    "        for layer in self.layers:\n",
    "            x = layer(x)\n",
    "        x = self.minibatch_sttdev(x)\n",
    "        x = self.act(self.conv(x))\n",
    "        x = x.view(x.shape[0],-1)\n",
    "        x = self.act(self.dense(x))\n",
    "        x = self.output(x)\n",
    "        return x"
   ]
  },
  {
   "cell_type": "markdown",
   "metadata": {},
   "source": [
    "### Define training loop"
   ]
  },
  {
   "cell_type": "code",
   "execution_count": 90,
   "metadata": {
    "colab": {},
    "colab_type": "code",
    "id": "k6wIAuQCwnh8"
   },
   "outputs": [],
   "source": [
    "def train(G, D, dataset, max_iter, batch_size, \n",
    "          G_opt_args, D_opt_args, mapping_opt_args,\n",
    "          D_steps, pl_weight, r1_weight,\n",
    "          r1_interval, pl_interval, val_interval, num_workers, pl_batch_part, checkpoint=None):\n",
    "    \n",
    "    pl_batch = int(pl_batch_part*batch_size)\n",
    "    device = next(D.parameters()).device\n",
    "    Path_length_reg = Path_length_loss()\n",
    "\n",
    "    # create dataloader\n",
    "    dataloader = NextDataLoader(dataset, batch_size, num_workers=num_workers)\n",
    "    mean = dataset.transforms.transform.transforms[1].mean[0]\n",
    "    std = dataset.transforms.transform.transforms[1].std[0]\n",
    "    \n",
    "    # load state\n",
    "    if checkpoint:\n",
    "        G.load_state_dict(checkpoint['G'])\n",
    "        D.load_state_dict(checkpoint['D'])\n",
    "        Path_length_reg.avg = checkpoint['pl_loss_avg']\n",
    "    \n",
    "    # create optimizer\n",
    "    G_params = []\n",
    "    for n,m in G.named_children():\n",
    "        if n != 'mapping':\n",
    "            G_params.extend(m.parameters())\n",
    "    gen_optimizer = torch.optim.Adam([{'params': G_params},\n",
    "                                  {'params': G.mapping.parameters(), **mapping_opt_args},\n",
    "                                  {'params': G.const, **mapping_opt_args},\n",
    "                                  ], **G_opt_args)\n",
    "    disc_optimizer = torch.optim.Adam(D.parameters(), **D_opt_args)\n",
    "    \n",
    "    G.train()\n",
    "    D.train()\n",
    "    \n",
    "    for i in tqdm(range(max_iter)):\n",
    "        for j in range(D_steps):\n",
    "            real_imgs = next(dataloader)[0].to(device)\n",
    "            real_imgs.requires_grad = True\n",
    "            fake_imgs = G.sample(real_imgs.shape[0])\n",
    "            real_scores = D.get_score(real_imgs)\n",
    "            fake_scores = D.get_score(fake_imgs)\n",
    "            loss =  D_logistic(real_scores, fake_scores)\n",
    "            if i % r1_interval == 0 and j == D_steps-1:\n",
    "                loss += r1_weight*r1_interval*R1_reg(real_imgs, real_scores)\n",
    "            real_imgs.requires_grad = False\n",
    "            disc_optimizer.zero_grad()\n",
    "            loss.backward()\n",
    "            disc_optimizer.step()\n",
    "\n",
    "\n",
    "        dlatent = G.sample_dlatents(batch_size)   \n",
    "        if i % pl_interval == 0:\n",
    "            # hack for computing path length loss from smaller minibatch\n",
    "            dlatent_part1, dlatent_part_2 = dlatent[:pl_batch], dlatent[pl_batch:]\n",
    "            fake_imgs = G.generate(torch.cat((dlatent_part1, dlatent_part_2), 0))\n",
    "            fake_scores = D.get_score(fake_imgs)\n",
    "            loss = G_logistic_ns(fake_scores) \\\n",
    "                   + pl_weight*pl_interval*Path_length_reg(dlatent_part1, fake_imgs[:pl_batch])\n",
    "        else:\n",
    "            fake_imgs = G.generate(dlatent)\n",
    "            fake_scores = D.get_score(fake_imgs)\n",
    "            loss = G_logistic_ns(fake_scores)  \n",
    "        gen_optimizer.zero_grad()\n",
    "        loss.backward()\n",
    "        gen_optimizer.step()\n",
    "        if checkpoint or i > max_iter//2:\n",
    "            G.update_avg_weights()\n",
    "\n",
    "        \n",
    "        if i % val_interval == 0:\n",
    "            display.clear_output(wait=True)\n",
    "            # print pictures\n",
    "            gen = G.sample_images(32)*std+mean\n",
    "            plt.imshow(grid(gen).squeeze())\n",
    "            plt.show()\n",
    "            # print prob distribution\n",
    "            plt.figure(figsize=(5,5))\n",
    "            plt.title('Generated vs real data')\n",
    "            plt.hist(torch.sigmoid(real_scores.data).cpu().numpy(), label='D(x)', alpha=0.5,range=[0,1])\n",
    "            plt.hist(torch.sigmoid(fake_scores.data).cpu().numpy(), label='D(G(z))',alpha=0.5,range=[0,1])\n",
    "            plt.legend(loc='best')\n",
    "            plt.show()\n",
    "\n",
    "\n",
    "        if i % (20*val_interval) == 0:\n",
    "            torch.save({\n",
    "                        'G': G.state_dict(),\n",
    "                        'D': D.state_dict(),\n",
    "                        'pl_loss_avg': Path_length_reg.avg.item()\n",
    "                        }, 'checkpoint.pt')"
   ]
  },
  {
   "cell_type": "markdown",
   "metadata": {
    "colab_type": "text",
    "id": "c8YvuQuOwnhU"
   },
   "source": [
    "### Hyperparams"
   ]
  },
  {
   "cell_type": "code",
   "execution_count": 91,
   "metadata": {
    "colab": {},
    "colab_type": "code",
    "id": "hUKIBaQJwnhW"
   },
   "outputs": [],
   "source": [
    "act = Scaled_Act(nn.LeakyReLU(0.2))\n",
    "img_channels = 1\n",
    "n_layers = 4\n",
    "latent_size = 160\n",
    "min_res = 4\n",
    "max_res = 28\n",
    "blocks = 3\n",
    "k_size = 3\n",
    "max_fmaps = 128\n",
    "min_fmaps = 64\n",
    "weights_avg_beta=0.995\n",
    "\n",
    "device = 'cuda'\n",
    "\n",
    "train_params = {'max_iter': 25000, 'batch_size' : 160, \n",
    "                'G_opt_args' : {'lr' : 0.001, 'betas' : (0.1, 0.99)}, \n",
    "                'D_opt_args' : {'lr' : 0.001, 'betas' : (0, 0.99), 'eps' : 1e-08}, \n",
    "                'mapping_opt_args' : {'lr' : 1e-5}, \n",
    "                'D_steps': 1, 'pl_weight': 2, 'r1_weight': 5, 'pl_batch_part': 0.25,\n",
    "                'pl_interval': 4, 'r1_interval': 16, 'num_workers': 2, 'val_interval': 20}"
   ]
  },
  {
   "cell_type": "markdown",
   "metadata": {},
   "source": [
    "### Training"
   ]
  },
  {
   "cell_type": "code",
   "execution_count": 92,
   "metadata": {
    "colab": {},
    "colab_type": "code",
    "id": "s1-GgOMswnhj"
   },
   "outputs": [],
   "source": [
    "G = Generator(min_res, max_res, min_fmaps, max_fmaps, act, \n",
    "              k_size, blocks, img_channels, latent_size, n_layers, weights_avg_beta=weights_avg_beta).to(device)\n",
    "\n",
    "D = Discriminator(min_res, max_res, min_fmaps, max_fmaps, act, \n",
    "                   k_size, blocks, img_channels).to(device)"
   ]
  },
  {
   "cell_type": "code",
   "execution_count": 93,
   "metadata": {},
   "outputs": [],
   "source": [
    "# Equalized learning rate\n",
    "G = Equal_LR('weight')(G)\n",
    "D = Equal_LR('weight')(D)"
   ]
  },
  {
   "cell_type": "code",
   "execution_count": 10,
   "metadata": {
    "colab": {},
    "colab_type": "code",
    "id": "RMKWKPHvwniI"
   },
   "outputs": [],
   "source": [
    "# Dataset\n",
    "mean = 0.1307\n",
    "std = 0.3081\n",
    "dataset = MNIST('data', transform=T.Compose([T.ToTensor(), T.Normalize((mean,), (std,))]), download=True)"
   ]
  },
  {
   "cell_type": "code",
   "execution_count": 11,
   "metadata": {},
   "outputs": [],
   "source": [
    "# Initialization\n",
    "def init_weights(m):\n",
    "    if hasattr(m, 'weight_orig'):\n",
    "        torch.nn.init.normal_(m.weight_orig)\n",
    "    if hasattr(m, 'bias'):\n",
    "        torch.nn.init.zeros_(m.bias)\n",
    "        \n",
    "G.apply(init_weights)\n",
    "D.apply(init_weights);"
   ]
  },
  {
   "cell_type": "code",
   "execution_count": 13,
   "metadata": {
    "colab": {
     "base_uri": "https://localhost:8080/",
     "height": 696
    },
    "colab_type": "code",
    "id": "pHn7nW9mwniX",
    "outputId": "a6bee887-eaad-4fe9-f41f-b72f5a062376",
    "scrolled": false
   },
   "outputs": [],
   "source": [
    "train(G, D, dataset, **train_params, checkpoint=torch.load('last_checkpoint.pt'))"
   ]
  },
  {
   "cell_type": "markdown",
   "metadata": {},
   "source": [
    "### Evaluation"
   ]
  },
  {
   "cell_type": "code",
   "execution_count": 157,
   "metadata": {},
   "outputs": [
    {
     "data": {
      "text/plain": [
       "<All keys matched successfully>"
      ]
     },
     "execution_count": 157,
     "metadata": {},
     "output_type": "execute_result"
    }
   ],
   "source": [
    "checkpoint = torch.load('checkpoint.pt')\n",
    "G.load_state_dict(checkpoint['G'], strict=False)\n",
    "D.load_state_dict(checkpoint['D'])"
   ]
  },
  {
   "cell_type": "code",
   "execution_count": 158,
   "metadata": {},
   "outputs": [
    {
     "data": {
      "image/png": "[encoded data removed]",
      "text/plain": [
       "<Figure size 792x792 with 1 Axes>"
      ]
     },
     "metadata": {
      "needs_background": "light"
     },
     "output_type": "display_data"
    },
    {
     "data": {
      "image/png": "[encoded data removed]",
      "text/plain": [
       "<Figure size 792x792 with 1 Axes>"
      ]
     },
     "metadata": {
      "needs_background": "light"
     },
     "output_type": "display_data"
    }
   ],
   "source": [
    "plt.title('Generated')\n",
    "plt.imshow(grid(G.sample_images(32, truncation_psi=0.9)*std+mean).squeeze())\n",
    "plt.show()\n",
    "\n",
    "plt.title('Real data')\n",
    "i = np.random.randint(50000)\n",
    "real_imgs = dataset.data[i:32+i].unsqueeze(-1)\n",
    "plt.imshow(grid(real_imgs).squeeze())\n",
    "plt.show()"
   ]
  },
  {
   "cell_type": "markdown",
   "metadata": {
    "colab": {},
    "colab_type": "code",
    "id": "yAHcCXXhIPuA"
   },
   "source": [
    "```\n",
    "\n",
    "\n",
    "\n",
    "\n",
    "\n",
    "\n",
    "\n",
    "```\n",
    "## Reverse mapping from images to latents"
   ]
  },
  {
   "cell_type": "markdown",
   "metadata": {},
   "source": [
    "### Feedforward model"
   ]
  },
  {
   "cell_type": "code",
   "execution_count": 84,
   "metadata": {},
   "outputs": [],
   "source": [
    "class Reverse_Mapping(nn.Module):\n",
    "    def __init__(self, min_res, max_res, min_fmaps, max_fmaps, latent_size,\n",
    "                 act, k_size, blocks, img_channels, dense_size=128, **kwargs):\n",
    "        super().__init__()\n",
    "        # building layers\n",
    "        dres = min_res*2**blocks - max_res\n",
    "        self.pad = torch.nn.ZeroPad2d(dres//2)\n",
    "        fmaps = np.linspace(min_fmaps, max_fmaps, blocks+1).astype('int')\n",
    "        self.from_channels = nn.Conv2d(img_channels, fmaps[0], 1)      \n",
    "        self.layers = []\n",
    "        self.noise_outs = []\n",
    "        for i in range(blocks):\n",
    "            noise_out = nn.Conv2d(fmaps[i],2, 3, padding=1)\n",
    "            self.add_module('noise'+str(i), noise_out)\n",
    "            self.noise_outs.append(noise_out)\n",
    "            layer = D_Block(fmaps[i],fmaps[i+1], k_size, act)\n",
    "            self.add_module(str(i), layer)\n",
    "            self.layers.append(layer)\n",
    "            \n",
    "        self.conv = nn.Conv2d(fmaps[-1],fmaps[-1], 3)\n",
    "        self.dense = nn.Linear(fmaps[-1]*(min_res-2)**2, dense_size)\n",
    "        self.output = nn.Linear(dense_size, latent_size)\n",
    "        self.act = act\n",
    "        self.blocks = blocks\n",
    "    \n",
    "    def get_latents(self, imgs):\n",
    "        noises = []\n",
    "        x = self.pad(imgs)\n",
    "        x = self.from_channels(x)\n",
    "        for i,layer in enumerate(self.layers):\n",
    "            noises.append(self.noise_outs[i](x).unsqueeze(2))\n",
    "            x = layer(x)    \n",
    "        x = self.act(self.conv(x))\n",
    "        x = x.view(x.shape[0],-1)\n",
    "        x = self.act(self.dense(x))\n",
    "        dlatents = self.output(x)\n",
    "        return dlatents, noises\n",
    "        "
   ]
  },
  {
   "cell_type": "code",
   "execution_count": 80,
   "metadata": {},
   "outputs": [],
   "source": [
    "E = Reverse_Mapping(min_res, max_res, min_fmaps, max_fmaps, latent_size, act, k_size, blocks, img_channels).to(device)"
   ]
  },
  {
   "cell_type": "code",
   "execution_count": 81,
   "metadata": {},
   "outputs": [
    {
     "data": {
      "text/plain": [
       "torch.Size([2, 1, 28, 28])"
      ]
     },
     "execution_count": 81,
     "metadata": {},
     "output_type": "execute_result"
    }
   ],
   "source": [
    "imgs = G.sample(2)\n",
    "imgs.shape"
   ]
  },
  {
   "cell_type": "code",
   "execution_count": 82,
   "metadata": {},
   "outputs": [],
   "source": [
    "dlatents, noise_maps = E.get_latents(imgs)"
   ]
  },
  {
   "cell_type": "code",
   "execution_count": 83,
   "metadata": {},
   "outputs": [
    {
     "name": "stdout",
     "output_type": "stream",
     "text": [
      "torch.Size([2, 160])\n",
      "torch.Size([2, 2, 1, 32, 32])\n",
      "torch.Size([2, 2, 1, 16, 16])\n",
      "torch.Size([2, 2, 1, 8, 8])\n"
     ]
    }
   ],
   "source": [
    "print(dlatents.shape)\n",
    "for nmap in noise_maps:\n",
    "    print(nmap.shape)"
   ]
  },
  {
   "cell_type": "code",
   "execution_count": 17,
   "metadata": {},
   "outputs": [],
   "source": [
    "def train_reverse_mapping(G, E, max_iter, batch_size, E_opt_args, val_interval, **kwargs):\n",
    "    G.eval()\n",
    "    optimizer = torch.optim.Adam(E.parameters(), **E_opt_args)\n",
    "    for i in tqdm(range(max_iter)):\n",
    "        with torch.no_grad():\n",
    "            dlatents = G.sample_dlatents(batch_size)\n",
    "            fake_imgs = G.generate(dlatents)\n",
    "        pred_dlatents, nmaps = E.predict_dlatents(fake_imgs)\n",
    "        loss = torch.mean((pred_dlatents - dlatents)**2)\n",
    "        optimizer.zero_grad()\n",
    "        loss.backward()\n",
    "        optimizer.step()\n",
    " \n",
    "        if i % val_interval == 0:\n",
    "            display.clear_output(wait=True)\n",
    "            print(loss.item())"
   ]
  },
  {
   "cell_type": "code",
   "execution_count": null,
   "metadata": {},
   "outputs": [],
   "source": [
    "E_opt_args = {'lr': 0.001}"
   ]
  },
  {
   "cell_type": "code",
   "execution_count": null,
   "metadata": {},
   "outputs": [],
   "source": [
    "train_reverse_mapping(G, E, 10000, 128, E_opt_args, 20)"
   ]
  },
  {
   "cell_type": "markdown",
   "metadata": {},
   "source": [
    "```\n",
    "\n",
    "\n",
    "```\n",
    "### Optimization\n",
    "\n",
    "#### Projection method described in the StyleGAN2 paper"
   ]
  },
  {
   "cell_type": "code",
   "execution_count": 150,
   "metadata": {},
   "outputs": [],
   "source": [
    "class Projector():\n",
    "    def __init__(self,\n",
    "                 G, # generator\n",
    "                 image_loss, # loss for comparing generated and target images\n",
    "                 noise_reg_weight= 1e5, # weight for noise regularization,  0 -> regularization disabled\n",
    "                 dlatent_avg_samples = 10000,  # number of samples for computing avg and std\n",
    "                 max_lr = 0.1, lr_rampdown_length = 0.25, lr_rampup_length = 0.05, # lr params\n",
    "                 noise_factor = 0.05, noise_ramp_length  = 0.75, # dlatents noise params\n",
    "                 show_images = True # show synthesized images\n",
    "                ):\n",
    "        for n, v in locals().items():\n",
    "            if n != 'self':\n",
    "                setattr(self, n, v)\n",
    "        self.G.eval()\n",
    "\n",
    "\n",
    "    def compute_init_approx(self):\n",
    "        l = len(self.G.layers)\n",
    "        dlatents = self.G.sample_dlatents(self.dlatent_avg_samples).detach()\n",
    "        self.dlatents_avg = torch.mean(dlatents, dim = 0, keepdim=True)\n",
    "        self.dlatents_std = (torch.sum((dlatents - self.dlatents_avg) ** 2)/self.dlatent_avg_samples) ** 0.5\n",
    "        min_res = self.G.const.shape[-1]\n",
    "        self.noise_maps_shapes = [(1, 2 , 1, min_res*2**i, min_res*2**i) for i in range(1,l+1)]\n",
    "\n",
    "\n",
    "    def lr_schedule(self, step):\n",
    "        t = step/self.num_steps\n",
    "        x = min(1, t/self.lr_rampup_length)\n",
    "        if t > (1-self.lr_rampdown_length):\n",
    "            x = np.sin(0.5*np.pi*(1-t)/self.lr_rampdown_length)\n",
    "        return(x)\n",
    "\n",
    "\n",
    "    @staticmethod\n",
    "    def show(images):\n",
    "        plt.imshow(grid(to_img(images)).squeeze())\n",
    "        plt.show()\n",
    "\n",
    "\n",
    "    def run(self, target_images, num_steps=1000, upsample_size=None):\n",
    "        self.num_steps = num_steps\n",
    "        if not hasattr(self, 'dlatents_avg'):\n",
    "            self.compute_init_approx()\n",
    "        # initialize optimizable variables\n",
    "        dlatents = self.dlatents_avg.repeat(target_images.shape[0],1).requires_grad_(True)\n",
    "        noise_maps = [torch.randn(s, device=dlatents.device).repeat(target_images.shape[0],1,1,1,1).requires_grad_(True) for s in self.noise_maps_shapes]\n",
    "        # create opt and lr scheduler\n",
    "        optimizer = torch.optim.Adam([dlatents, *noise_maps], lr=self.max_lr)\n",
    "        scheduler = torch.optim.lr_scheduler.LambdaLR(optimizer, self.lr_schedule)\n",
    "        if upsample_size is None:\n",
    "            upsample = torch.nn.Identity()\n",
    "        else:\n",
    "            upsample = torch.nn.Upsample(size=upsample_size, mode='bilinear')\n",
    "            target_images = upsample(target_images)\n",
    "        # iterations\n",
    "        for step in tqdm(range(self.num_steps)):\n",
    "            # generate noise for dlatents\n",
    "            noise_strength = self.dlatents_std*self.noise_factor*max(1-(step/self.num_steps)/self.noise_ramp_length, 0)\n",
    "            dlatents_noise = torch.randn_like(dlatents)*noise_strength\n",
    "            self.G.generate(dlatents + dlatents_noise)\n",
    "            # generate image\n",
    "            images = self.G.generate(dlatents + dlatents_noise, noise_maps)\n",
    "            # compute loss\n",
    "            loss = self.image_loss(upsample(images), target_images).sum()\n",
    "            if self.noise_reg_weight > 0:\n",
    "                loss += self.noise_reg_weight * Noise_reg(noise_maps)\n",
    "            # backward pass, opt and scheduler steps\n",
    "            optimizer.zero_grad()\n",
    "            loss.backward()\n",
    "            optimizer.step()\n",
    "            scheduler.step()\n",
    "            # show result\n",
    "            if self.show_images:\n",
    "                display.clear_output(wait=True)\n",
    "                Projector.show(images)\n",
    "        return dlatents.data, [nmap.data for nmap in noise_maps]"
   ]
  },
  {
   "cell_type": "markdown",
   "metadata": {},
   "source": [
    "#### The image quality term is the LPIPS distance.\n",
    "\n",
    "Source: https://github.com/richzhang/PerceptualSimilarity"
   ]
  },
  {
   "cell_type": "code",
   "execution_count": 129,
   "metadata": {},
   "outputs": [],
   "source": [
    "import sys\n",
    "sys.path.append(\"../PerceptualSimilarity/\")\n",
    "from models import PerceptualLoss"
   ]
  },
  {
   "cell_type": "code",
   "execution_count": 130,
   "metadata": {},
   "outputs": [
    {
     "name": "stdout",
     "output_type": "stream",
     "text": [
      "Setting up Perceptual loss...\n",
      "Loading model from: /home/o2chan/PerceptualSimilarity/models/weights/v0.1/squeeze.pth\n",
      "...[net-lin [squeeze]] initialized\n",
      "...Done\n"
     ]
    }
   ],
   "source": [
    "image_loss = PerceptualLoss(model='net-lin', net='squeeze', use_gpu=False)\n",
    "# for some reason, a cuDNN error occurs when using GPU\n",
    "G.cpu();"
   ]
  },
  {
   "cell_type": "code",
   "execution_count": 143,
   "metadata": {},
   "outputs": [],
   "source": [
    "proj = Projector(G, image_loss)"
   ]
  },
  {
   "cell_type": "code",
   "execution_count": 151,
   "metadata": {},
   "outputs": [
    {
     "data": {
      "image/png": "[encoded data removed]",
      "text/plain": [
       "<Figure size 792x792 with 1 Axes>"
      ]
     },
     "metadata": {
      "needs_background": "light"
     },
     "output_type": "display_data"
    }
   ],
   "source": [
    "target_images = G.sample(16)\n",
    "plt.imshow(grid(to_img(target_images)).squeeze())\n",
    "plt.show()"
   ]
  },
  {
   "cell_type": "code",
   "execution_count": 152,
   "metadata": {
    "scrolled": true
   },
   "outputs": [
    {
     "data": {
      "image/png": "[encoded data removed]",
      "text/plain": [
       "<Figure size 792x792 with 1 Axes>"
      ]
     },
     "metadata": {
      "needs_background": "light"
     },
     "output_type": "display_data"
    },
    {
     "name": "stderr",
     "output_type": "stream",
     "text": [
      "\n",
      "\n",
      "\n",
      "\n",
      "\n",
      "\n",
      "\n",
      "\n",
      "100%|██████████| 200/200 [06:31<00:00,  1.96s/it]\u001b[A\u001b[A\u001b[A\u001b[A\u001b[A\u001b[A\u001b[A\u001b[A\n"
     ]
    }
   ],
   "source": [
    "dlatents, noise_maps = proj.run(target_images.data, num_steps=1000, upsample_size=100)"
   ]
  },
  {
   "cell_type": "markdown",
   "metadata": {},
   "source": [
    "#### In this simple case, $L_2$ loss works just as well."
   ]
  },
  {
   "cell_type": "code",
   "execution_count": null,
   "metadata": {},
   "outputs": [],
   "source": [
    "proj.image_loss = lambda x, t : torch.mean((x-t)**2)\n",
    "dlatents, noise_maps = proj.run(target_images.data, num_steps=1000)"
   ]
  },
  {
   "cell_type": "markdown",
   "metadata": {},
   "source": [
    "#### Effect of noise regularization on sneaking signal"
   ]
  },
  {
   "cell_type": "code",
   "execution_count": null,
   "metadata": {},
   "outputs": [],
   "source": [
    "plt.rcParams['figure.figsize'] = (8,8)"
   ]
  },
  {
   "cell_type": "code",
   "execution_count": 96,
   "metadata": {},
   "outputs": [
    {
     "data": {
      "image/png": "[encoded data removed]",
      "text/plain": [
       "<Figure size 360x360 with 1 Axes>"
      ]
     },
     "metadata": {
      "needs_background": "light"
     },
     "output_type": "display_data"
    }
   ],
   "source": [
    "proj.noise_reg_weight = 0\n",
    "_, noise_maps = proj.run(target_images.data, num_steps=500)\n",
    "plt.title('noise maps without regularization')\n",
    "plt.imshow(grid(to_img(noise_maps[-1][:,0])).squeeze())\n",
    "plt.show()\n",
    "\n",
    "\n",
    "proj.noise_reg_weight = 1e5\n",
    "_, noise_maps = proj.run(target_images.data, num_steps=500)\n",
    "plt.title('noise maps with regularization')\n",
    "plt.imshow(grid(to_img(noise_maps[-1][:,0])).squeeze())\n",
    "plt.show()"
   ]
  },
  {
   "cell_type": "code",
   "execution_count": null,
   "metadata": {},
   "outputs": [],
   "source": []
  }
 ],
 "metadata": {
  "accelerator": "GPU",
  "colab": {
   "collapsed_sections": [],
   "name": "stylegan.ipynb",
   "provenance": [],
   "toc_visible": true
  },
  "kernelspec": {
   "display_name": "Python 3",
   "language": "python",
   "name": "python3"
  },
  "language_info": {
   "codemirror_mode": {
    "name": "ipython",
    "version": 3
   },
   "file_extension": ".py",
   "mimetype": "text/x-python",
   "name": "python",
   "nbconvert_exporter": "python",
   "pygments_lexer": "ipython3",
   "version": "3.8.1"
  }
 },
 "nbformat": 4,
 "nbformat_minor": 1
}
