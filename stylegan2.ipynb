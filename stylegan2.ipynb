{
 "cells": [
  {
   "cell_type": "markdown",
   "metadata": {},
   "source": [
    "# Description"
   ]
  },
  {
   "cell_type": "markdown",
   "metadata": {
    "colab_type": "text",
    "id": "6H43TxTUwnhI"
   },
   "source": [
    "### To do: style mixing"
   ]
  },
  {
   "cell_type": "code",
   "execution_count": 1,
   "metadata": {
    "colab": {},
    "colab_type": "code",
    "id": "0vxBkbC2wngr"
   },
   "outputs": [],
   "source": [
    "import torch\n",
    "from torch import nn\n",
    "import torch.nn.functional as F\n",
    "import numpy as np\n",
    "from modules import *\n",
    "from loss import *\n",
    "from misc import *"
   ]
  },
  {
   "cell_type": "code",
   "execution_count": 2,
   "metadata": {
    "colab": {},
    "colab_type": "code",
    "id": "sG2YCdBGwng7"
   },
   "outputs": [],
   "source": [
    "from torchvision.datasets import MNIST\n",
    "import torchvision.transforms as T\n",
    "import matplotlib.pyplot as plt\n",
    "from IPython import display\n",
    "from tqdm import tqdm"
   ]
  },
  {
   "cell_type": "code",
   "execution_count": 3,
   "metadata": {
    "colab": {},
    "colab_type": "code",
    "id": "tGqahOJBwnhB"
   },
   "outputs": [],
   "source": [
    "plt.rcParams['figure.figsize'] = (11,11)\n",
    "plt.rcParams['image.cmap'] = 'gray'"
   ]
  },
  {
   "cell_type": "markdown",
   "metadata": {},
   "source": [
    "## Generator architecture"
   ]
  },
  {
   "cell_type": "code",
   "execution_count": 4,
   "metadata": {
    "colab": {},
    "colab_type": "code",
    "id": "WYv91cykwnhc"
   },
   "outputs": [],
   "source": [
    "class Generator(nn.Module):\n",
    "    def __init__(self, min_res, max_res, min_fmaps, max_fmaps, act, \n",
    "                 k_size, blocks, img_channels, latent_size, n_layers, style_mixing_prob = 0.8,\n",
    "                 dlatent_avg_decay = 0.995, weights_avg_decay=0.99, **kwargs):\n",
    "        super().__init__()\n",
    "        dres = min_res*2**blocks - max_res\n",
    "        assert dres >= 0\n",
    "        # building mapping net\n",
    "        self.latent_size = latent_size\n",
    "        self.mapping = Mapping(n_layers, latent_size, act)\n",
    "        # learnable const\n",
    "        self.const = nn.Parameter(torch.randn(max_fmaps, min_res, min_res))\n",
    "        # building main layers\n",
    "        fmaps = np.linspace(max_fmaps, min_fmaps, blocks+1).astype('int')\n",
    "        self.layers = []\n",
    "        for i in range(blocks):\n",
    "            layer = G_Block(fmaps[i],fmaps[i+1], k_size, latent_size, act, img_channels=img_channels)\n",
    "            self.add_module(str(i), layer)\n",
    "            self.layers.append(layer)\n",
    "        if dres > 0:\n",
    "            self.crop = torch.nn.ZeroPad2d(-dres//2)\n",
    "        # running average of dlatents and weights, style mixing \n",
    "        self.dlatent_avg_decay = dlatent_avg_decay\n",
    "        self.register_buffer('dlatent_avg', torch.zeros(latent_size))\n",
    "        self.weights_avg_decay = weights_avg_decay\n",
    "        self.style_mixing_prob = style_mixing_prob \n",
    "    \n",
    "    \n",
    "    # update running average of weights\n",
    "    def update_avg_weights(self):\n",
    "        if not hasattr(self, 'weights_avg'):\n",
    "            self.weights_avg = [p.data.clone() for p in self.parameters()]\n",
    "        for i, p  in enumerate(self.parameters()): \n",
    "            self.weights_avg[i] = self.weights_avg[i].to(p.device)\n",
    "            new_weight = (1-self.weights_avg_decay)*self.weights_avg[i] +  self.weights_avg_decay*p.data\n",
    "            p.data.copy_(new_weight)\n",
    "            self.weights_avg[i].data.copy_(new_weight)\n",
    "\n",
    "            \n",
    "    # sample dlatents\n",
    "    def sample_dlatents(self, n):\n",
    "        v = self._sample_dlatents(n)\n",
    "        if self.training and self.style_mixing_prob > 0:\n",
    "            l = len(self.layers)\n",
    "            cut_off = torch.randint(l-1,())\n",
    "            v2 = self._sample_dlatents(n)\n",
    "            mask = torch.empty(n, dtype=torch.bool).bernoulli_(self.style_mixing_prob).view(-1, 1) \\\n",
    "                   * (torch.arange(l)>cut_off)\n",
    "            v = torch.where(mask.unsqueeze(-1).to(device=v.device), v2, v)\n",
    "        return v\n",
    "    \n",
    "    def _sample_dlatents(self, n):\n",
    "        device = self.const.device\n",
    "        z = torch.randn(n, self.latent_size).to(device)\n",
    "        v = self.mapping(z)\n",
    "        # update dlatent average\n",
    "        if self.training:\n",
    "            self.dlatent_avg = self.dlatent_avg_decay*self.dlatent_avg + (1-self.dlatent_avg_decay)*v.data.mean(0)\n",
    "        # broadcast dlatents [N, dlatent_size] --> [N, num_layers, dlatent_size] \n",
    "        v = v.unsqueeze(1).expand(-1, len(self.layers), -1)\n",
    "        return v\n",
    "    \n",
    "    \n",
    "    # generate from dlatents and input noises (optionally)\n",
    "    def generate(self, v, input_noises=None):\n",
    "        x = self.const.expand(v.shape[0], *self.const.shape).contiguous()\n",
    "        y = None\n",
    "        for i,layer in enumerate(self.layers):\n",
    "            x, y = layer(x,v[:,i],y, input_noises[:,i] if input_noises else None)  \n",
    "        if hasattr(self, 'crop'):\n",
    "            y = self.crop(y)\n",
    "        return y\n",
    "    \n",
    "    \n",
    "    # for training\n",
    "    def sample(self, n):\n",
    "        dlatents = self.sample_dlatents(n)\n",
    "        x = self.generate(dlatents)\n",
    "        return x\n",
    "            \n",
    "    \n",
    "    # for evaluation\n",
    "    def sample_images(self,n, truncation_psi=1):\n",
    "        state = self.training\n",
    "        self.train(False)\n",
    "        with torch.no_grad():\n",
    "            v = self.sample_dlatents(n)\n",
    "            # truncation trick\n",
    "            if truncation_psi < 1:\n",
    "                v = self.dlatent_avg + truncation_psi*(v-self.dlatent_avg)\n",
    "            images = img_tensor_switch(self.generate(v))\n",
    "        self.train(state)\n",
    "        return images"
   ]
  },
  {
   "cell_type": "markdown",
   "metadata": {},
   "source": [
    "## Discriminator architecture"
   ]
  },
  {
   "cell_type": "code",
   "execution_count": 5,
   "metadata": {
    "colab": {},
    "colab_type": "code",
    "id": "I_uZxLxIwnhp"
   },
   "outputs": [],
   "source": [
    "class Discriminator(nn.Module):\n",
    "    def __init__(self, min_res, max_res, min_fmaps, max_fmaps, act, \n",
    "                 k_size, blocks, img_channels, dense_size=128, **kwargs):\n",
    "        super().__init__()\n",
    "        assert max_res <= min_res*2**blocks and max_res >= (min_res-1)*2**blocks\n",
    "        # building layers\n",
    "        fmaps = np.linspace(min_fmaps, max_fmaps, blocks+1).astype('int')\n",
    "        self.from_channels = nn.Conv2d(img_channels, fmaps[0], 1)\n",
    "        self.layers = []\n",
    "        for i in range(blocks):\n",
    "            layer = D_Block(fmaps[i],fmaps[i+1], k_size, act)\n",
    "            self.add_module(str(i), layer)\n",
    "            self.layers.append(layer)\n",
    "        self.minibatch_sttdev = Minibatch_Stddev()\n",
    "        self.conv = nn.Conv2d(fmaps[-1]+1,fmaps[-1], 3)\n",
    "        self.dense = nn.Linear(fmaps[-1]*(min_res-2)**2, dense_size)\n",
    "        self.output = nn.Linear(dense_size, 1)\n",
    "        self.act = act\n",
    "    \n",
    "    \n",
    "    def get_score(self, imgs):\n",
    "        x = self.from_channels(imgs)\n",
    "        for layer in self.layers:\n",
    "            x = layer(x)\n",
    "        x = self.minibatch_sttdev(x)\n",
    "        x = self.act(self.conv(x))\n",
    "        x = x.view(x.shape[0],-1)\n",
    "        x = self.act(self.dense(x))\n",
    "        x = self.output(x)\n",
    "        return x"
   ]
  },
  {
   "cell_type": "markdown",
   "metadata": {},
   "source": [
    "## Define training loop"
   ]
  },
  {
   "cell_type": "code",
   "execution_count": 6,
   "metadata": {
    "colab": {},
    "colab_type": "code",
    "id": "k6wIAuQCwnh8"
   },
   "outputs": [],
   "source": [
    "def train(G, D, dataset, max_iter, batch_size, \n",
    "          G_opt_args, D_opt_args, mapping_opt_args,\n",
    "          D_steps, pl_weight, r1_weight,\n",
    "          r1_interval, pl_interval, val_interval, num_workers, pl_batch_part, checkpoint=None):\n",
    "    \n",
    "    pl_batch = int(pl_batch_part*batch_size)\n",
    "    device = next(D.parameters()).device\n",
    "    Path_length_reg = Path_length_loss()\n",
    "\n",
    "    # create dataloader\n",
    "    dataloader = NextDataLoader(dataset, batch_size, num_workers=num_workers)\n",
    "    mean = dataset.transforms.transform.transforms[1].mean[0]\n",
    "    std = dataset.transforms.transform.transforms[1].std[0]\n",
    "    \n",
    "    # load state\n",
    "    if checkpoint:\n",
    "        G.load_state_dict(checkpoint['G'])\n",
    "        D.load_state_dict(checkpoint['D'])\n",
    "        Path_length_reg.avg = checkpoint['pl_loss_avg']\n",
    "    \n",
    "    # create optimizer\n",
    "    G_params = []\n",
    "    for n,m in G.named_children():\n",
    "        if n != 'mapping':\n",
    "            G_params.extend(m.parameters())\n",
    "    gen_optimizer = torch.optim.Adam([{'params': G_params},\n",
    "                                  {'params': G.mapping.parameters(), **mapping_opt_args},\n",
    "                                  {'params': G.const, **mapping_opt_args},\n",
    "                                  ], **G_opt_args)\n",
    "    disc_optimizer = torch.optim.Adam(D.parameters(), **D_opt_args)\n",
    "    \n",
    "    G.train()\n",
    "    D.train()\n",
    "    \n",
    "    for i in tqdm(range(max_iter)):\n",
    "        for j in range(D_steps):\n",
    "            real_imgs = next(dataloader)[0].to(device)\n",
    "            real_imgs.requires_grad = True\n",
    "            fake_imgs = G.sample(real_imgs.shape[0])\n",
    "            real_scores = D.get_score(real_imgs)\n",
    "            fake_scores = D.get_score(fake_imgs)\n",
    "            loss =  D_logistic(real_scores, fake_scores)\n",
    "            if i % r1_interval == 0 and j == D_steps-1:\n",
    "                loss += r1_weight*r1_interval*R1_reg(real_imgs, real_scores)\n",
    "            real_imgs.requires_grad = False\n",
    "            disc_optimizer.zero_grad()\n",
    "            loss.backward()\n",
    "            disc_optimizer.step()\n",
    "\n",
    "\n",
    "        dlatent = G.sample_dlatents(batch_size)   \n",
    "        if i % pl_interval == 0:\n",
    "            # hack for computing path length loss from smaller minibatch\n",
    "            dlatent_part1, dlatent_part_2 = dlatent[:pl_batch], dlatent[pl_batch:]\n",
    "            fake_imgs = G.generate(torch.cat((dlatent_part1, dlatent_part_2), 0))\n",
    "            fake_scores = D.get_score(fake_imgs)\n",
    "            loss = G_logistic_ns(fake_scores) \\\n",
    "                   + pl_weight*pl_interval*Path_length_reg(dlatent_part1, fake_imgs[:pl_batch])\n",
    "        else:\n",
    "            fake_imgs = G.generate(dlatent)\n",
    "            fake_scores = D.get_score(fake_imgs)\n",
    "            loss = G_logistic_ns(fake_scores)  \n",
    "        gen_optimizer.zero_grad()\n",
    "        loss.backward()\n",
    "        gen_optimizer.step()\n",
    "        G.update_avg_weights()\n",
    "\n",
    "        \n",
    "        if i % val_interval == 0:\n",
    "            display.clear_output(wait=True)\n",
    "            # print pictures\n",
    "            gen = img_tensor_switch(fake_imgs[:32])*std+mean\n",
    "            plt.imshow(grid(gen).squeeze())\n",
    "            plt.show()\n",
    "            # print prob distribution\n",
    "            plt.figure(figsize=(5,5))\n",
    "            plt.title('Generated vs real data')\n",
    "            plt.hist(torch.sigmoid(real_scores.data).cpu().numpy(), label='D(x)', alpha=0.5,range=[0,1])\n",
    "            plt.hist(torch.sigmoid(fake_scores.data).cpu().numpy(), label='D(G(z))',alpha=0.5,range=[0,1])\n",
    "            plt.legend(loc='best')\n",
    "            plt.show()\n",
    "\n",
    "\n",
    "        if i % (20*val_interval) == 0:\n",
    "            torch.save({\n",
    "                        'G': G.state_dict(),\n",
    "                        'D': D.state_dict(),\n",
    "                        'pl_loss_avg': Path_length_reg.avg.item()\n",
    "                        }, 'checkpoint.pt')"
   ]
  },
  {
   "cell_type": "markdown",
   "metadata": {
    "colab_type": "text",
    "id": "c8YvuQuOwnhU"
   },
   "source": [
    "## Hyperparams"
   ]
  },
  {
   "cell_type": "code",
   "execution_count": 7,
   "metadata": {
    "colab": {},
    "colab_type": "code",
    "id": "hUKIBaQJwnhW"
   },
   "outputs": [],
   "source": [
    "act = Scaled_Act(nn.LeakyReLU(0.2))\n",
    "img_channels = 1\n",
    "n_layers = 4\n",
    "latent_size = 160\n",
    "min_res = 4\n",
    "max_res = 28\n",
    "blocks = 3\n",
    "k_size = 3\n",
    "max_fmaps = 128\n",
    "min_fmaps = 64\n",
    "\n",
    "device = 'cuda'\n",
    "\n",
    "train_params = {'max_iter': 25000, 'batch_size' : 160, \n",
    "                'G_opt_args' : {'lr' : 0.001, 'betas' : (0.1, 0.99)}, \n",
    "                'D_opt_args' : {'lr' : 0.001, 'betas' : (0, 0.99), 'eps' : 1e-08}, \n",
    "                'mapping_opt_args' : {'lr' : 1e-5}, \n",
    "                'D_steps': 1, 'pl_weight': 2, 'r1_weight': 5, 'pl_batch_part': 0.25,\n",
    "                'pl_interval': 4, 'r1_interval': 16, 'num_workers': 2, 'val_interval': 20}"
   ]
  },
  {
   "cell_type": "markdown",
   "metadata": {},
   "source": [
    "# Training"
   ]
  },
  {
   "cell_type": "code",
   "execution_count": 8,
   "metadata": {
    "colab": {},
    "colab_type": "code",
    "id": "s1-GgOMswnhj"
   },
   "outputs": [],
   "source": [
    "G = Generator(min_res, max_res, min_fmaps, max_fmaps, act, \n",
    "              k_size, blocks, img_channels, latent_size, n_layers, weights_avg_decay=0.99).to(device)"
   ]
  },
  {
   "cell_type": "code",
   "execution_count": 9,
   "metadata": {
    "colab": {},
    "colab_type": "code",
    "id": "s1-GgOMswnhj"
   },
   "outputs": [],
   "source": [
    "D = Discriminator(min_res, max_res, min_fmaps, max_fmaps, act, \n",
    "                   k_size, blocks, img_channels).to(device)"
   ]
  },
  {
   "cell_type": "code",
   "execution_count": 10,
   "metadata": {
    "colab": {},
    "colab_type": "code",
    "id": "RMKWKPHvwniI"
   },
   "outputs": [],
   "source": [
    "mean = 0.1307\n",
    "std = 0.3081\n",
    "dataset = MNIST('data', transform=T.Compose([T.ToTensor(), T.Normalize((mean,), (std,))]), download=True)"
   ]
  },
  {
   "cell_type": "code",
   "execution_count": 11,
   "metadata": {
    "colab": {},
    "colab_type": "code",
    "id": "ATDGumnU0hj2"
   },
   "outputs": [],
   "source": [
    "# Equalized learning rate\n",
    "G = Equal_LR('weight')(G)\n",
    "D = Equal_LR('weight')(D)"
   ]
  },
  {
   "cell_type": "code",
   "execution_count": 12,
   "metadata": {},
   "outputs": [],
   "source": [
    "# Initialization\n",
    "def init_weights(m):\n",
    "    if hasattr(m, 'weight_orig'):\n",
    "        torch.nn.init.normal_(m.weight_orig)\n",
    "    if hasattr(m, 'bias'):\n",
    "        torch.nn.init.zeros_(m.bias)\n",
    "        \n",
    "G.apply(init_weights)\n",
    "D.apply(init_weights);"
   ]
  },
  {
   "cell_type": "code",
   "execution_count": 13,
   "metadata": {
    "colab": {
     "base_uri": "https://localhost:8080/",
     "height": 696
    },
    "colab_type": "code",
    "id": "pHn7nW9mwniX",
    "outputId": "a6bee887-eaad-4fe9-f41f-b72f5a062376",
    "scrolled": false
   },
   "outputs": [
    {
     "data": {
      "image/png": "[encoded data removed]",
      "text/plain": [
       "<Figure size 792x792 with 1 Axes>"
      ]
     },
     "metadata": {
      "needs_background": "light"
     },
     "output_type": "display_data"
    },
    {
     "data": {
      "image/png": "[encoded data removed]",
      "text/plain": [
       "<Figure size 360x360 with 1 Axes>"
      ]
     },
     "metadata": {
      "needs_background": "light"
     },
     "output_type": "display_data"
    },
    {
     "name": "stderr",
     "output_type": "stream",
     "text": [
      "  0%|          | 4/25000 [00:35<83:57:08, 12.09s/it] "
     ]
    },
    {
     "ename": "KeyboardInterrupt",
     "evalue": "",
     "output_type": "error",
     "traceback": [
      "\u001b[0;31m---------------------------------------------------------------------------\u001b[0m",
      "\u001b[0;31mKeyboardInterrupt\u001b[0m                         Traceback (most recent call last)",
      "\u001b[0;32m<ipython-input-13-dea6c30433b5>\u001b[0m in \u001b[0;36m<module>\u001b[0;34m\u001b[0m\n\u001b[0;32m----> 1\u001b[0;31m \u001b[0mtrain\u001b[0m\u001b[0;34m(\u001b[0m\u001b[0mG\u001b[0m\u001b[0;34m,\u001b[0m \u001b[0mD\u001b[0m\u001b[0;34m,\u001b[0m \u001b[0mdataset\u001b[0m\u001b[0;34m,\u001b[0m \u001b[0;34m**\u001b[0m\u001b[0mtrain_params\u001b[0m\u001b[0;34m,\u001b[0m \u001b[0mcheckpoint\u001b[0m\u001b[0;34m=\u001b[0m\u001b[0mtorch\u001b[0m\u001b[0;34m.\u001b[0m\u001b[0mload\u001b[0m\u001b[0;34m(\u001b[0m\u001b[0;34m'checkpoint.pt'\u001b[0m\u001b[0;34m)\u001b[0m\u001b[0;34m)\u001b[0m\u001b[0;34m\u001b[0m\u001b[0;34m\u001b[0m\u001b[0m\n\u001b[0m",
      "\u001b[0;32m<ipython-input-6-a719b50997b2>\u001b[0m in \u001b[0;36mtrain\u001b[0;34m(G, D, dataset, max_iter, batch_size, G_opt_args, D_opt_args, mapping_opt_args, D_steps, pl_weight, r1_weight, r1_interval, pl_interval, val_interval, num_workers, pl_batch_part, checkpoint)\u001b[0m\n\u001b[1;32m     62\u001b[0m             \u001b[0mloss\u001b[0m \u001b[0;34m=\u001b[0m \u001b[0mG_logistic_ns\u001b[0m\u001b[0;34m(\u001b[0m\u001b[0mfake_scores\u001b[0m\u001b[0;34m)\u001b[0m\u001b[0;34m\u001b[0m\u001b[0;34m\u001b[0m\u001b[0m\n\u001b[1;32m     63\u001b[0m         \u001b[0mgen_optimizer\u001b[0m\u001b[0;34m.\u001b[0m\u001b[0mzero_grad\u001b[0m\u001b[0;34m(\u001b[0m\u001b[0;34m)\u001b[0m\u001b[0;34m\u001b[0m\u001b[0;34m\u001b[0m\u001b[0m\n\u001b[0;32m---> 64\u001b[0;31m         \u001b[0mloss\u001b[0m\u001b[0;34m.\u001b[0m\u001b[0mbackward\u001b[0m\u001b[0;34m(\u001b[0m\u001b[0;34m)\u001b[0m\u001b[0;34m\u001b[0m\u001b[0;34m\u001b[0m\u001b[0m\n\u001b[0m\u001b[1;32m     65\u001b[0m         \u001b[0mgen_optimizer\u001b[0m\u001b[0;34m.\u001b[0m\u001b[0mstep\u001b[0m\u001b[0;34m(\u001b[0m\u001b[0;34m)\u001b[0m\u001b[0;34m\u001b[0m\u001b[0;34m\u001b[0m\u001b[0m\n\u001b[1;32m     66\u001b[0m         \u001b[0mG\u001b[0m\u001b[0;34m.\u001b[0m\u001b[0mupdate_avg_weights\u001b[0m\u001b[0;34m(\u001b[0m\u001b[0;34m)\u001b[0m\u001b[0;34m\u001b[0m\u001b[0;34m\u001b[0m\u001b[0m\n",
      "\u001b[0;32m~/.local/lib/python3.8/site-packages/torch/tensor.py\u001b[0m in \u001b[0;36mbackward\u001b[0;34m(self, gradient, retain_graph, create_graph)\u001b[0m\n\u001b[1;32m    193\u001b[0m                 \u001b[0mproducts\u001b[0m\u001b[0;34m.\u001b[0m \u001b[0mDefaults\u001b[0m \u001b[0mto\u001b[0m\u001b[0;31m \u001b[0m\u001b[0;31m`\u001b[0m\u001b[0;31m`\u001b[0m\u001b[0;32mFalse\u001b[0m\u001b[0;31m`\u001b[0m\u001b[0;31m`\u001b[0m\u001b[0;34m.\u001b[0m\u001b[0;34m\u001b[0m\u001b[0;34m\u001b[0m\u001b[0m\n\u001b[1;32m    194\u001b[0m         \"\"\"\n\u001b[0;32m--> 195\u001b[0;31m         \u001b[0mtorch\u001b[0m\u001b[0;34m.\u001b[0m\u001b[0mautograd\u001b[0m\u001b[0;34m.\u001b[0m\u001b[0mbackward\u001b[0m\u001b[0;34m(\u001b[0m\u001b[0mself\u001b[0m\u001b[0;34m,\u001b[0m \u001b[0mgradient\u001b[0m\u001b[0;34m,\u001b[0m \u001b[0mretain_graph\u001b[0m\u001b[0;34m,\u001b[0m \u001b[0mcreate_graph\u001b[0m\u001b[0;34m)\u001b[0m\u001b[0;34m\u001b[0m\u001b[0;34m\u001b[0m\u001b[0m\n\u001b[0m\u001b[1;32m    196\u001b[0m \u001b[0;34m\u001b[0m\u001b[0m\n\u001b[1;32m    197\u001b[0m     \u001b[0;32mdef\u001b[0m \u001b[0mregister_hook\u001b[0m\u001b[0;34m(\u001b[0m\u001b[0mself\u001b[0m\u001b[0;34m,\u001b[0m \u001b[0mhook\u001b[0m\u001b[0;34m)\u001b[0m\u001b[0;34m:\u001b[0m\u001b[0;34m\u001b[0m\u001b[0;34m\u001b[0m\u001b[0m\n",
      "\u001b[0;32m~/.local/lib/python3.8/site-packages/torch/autograd/__init__.py\u001b[0m in \u001b[0;36mbackward\u001b[0;34m(tensors, grad_tensors, retain_graph, create_graph, grad_variables)\u001b[0m\n\u001b[1;32m     95\u001b[0m         \u001b[0mretain_graph\u001b[0m \u001b[0;34m=\u001b[0m \u001b[0mcreate_graph\u001b[0m\u001b[0;34m\u001b[0m\u001b[0;34m\u001b[0m\u001b[0m\n\u001b[1;32m     96\u001b[0m \u001b[0;34m\u001b[0m\u001b[0m\n\u001b[0;32m---> 97\u001b[0;31m     Variable._execution_engine.run_backward(\n\u001b[0m\u001b[1;32m     98\u001b[0m         \u001b[0mtensors\u001b[0m\u001b[0;34m,\u001b[0m \u001b[0mgrad_tensors\u001b[0m\u001b[0;34m,\u001b[0m \u001b[0mretain_graph\u001b[0m\u001b[0;34m,\u001b[0m \u001b[0mcreate_graph\u001b[0m\u001b[0;34m,\u001b[0m\u001b[0;34m\u001b[0m\u001b[0;34m\u001b[0m\u001b[0m\n\u001b[1;32m     99\u001b[0m         allow_unreachable=True)  # allow_unreachable flag\n",
      "\u001b[0;31mKeyboardInterrupt\u001b[0m: "
     ]
    }
   ],
   "source": [
    "train(G, D, dataset, **train_params, checkpoint=torch.load('checkpoint.pt'))"
   ]
  },
  {
   "cell_type": "code",
   "execution_count": 19,
   "metadata": {
    "colab": {},
    "colab_type": "code",
    "id": "vi3nmIkAN9B2"
   },
   "outputs": [
    {
     "data": {
      "image/png": "[encoded data removed]",
      "text/plain": [
       "<Figure size 792x792 with 1 Axes>"
      ]
     },
     "metadata": {
      "needs_background": "light"
     },
     "output_type": "display_data"
    }
   ],
   "source": [
    "G.truncation_psi = 0.8\n",
    "plt.imshow(grid(G.sample_images(32)*std+mean).squeeze())\n",
    "plt.show()"
   ]
  },
  {
   "cell_type": "code",
   "execution_count": null,
   "metadata": {
    "colab": {},
    "colab_type": "code",
    "id": "pDaIcs1d2lT5"
   },
   "outputs": [],
   "source": [
    "real_imgs = dataset.data[:32].unsqueeze(-1)\n",
    "print(real_imgs.shape)\n",
    "plt.imshow(grid(real_imgs).squeeze())\n",
    "plt.show()"
   ]
  },
  {
   "cell_type": "markdown",
   "metadata": {
    "colab": {},
    "colab_type": "code",
    "id": "yAHcCXXhIPuA"
   },
   "source": [
    "# Feedforward"
   ]
  },
  {
   "cell_type": "code",
   "execution_count": null,
   "metadata": {},
   "outputs": [],
   "source": [
    "class E(nn.Module):\n",
    "    def __init__(self, min_res, max_res, min_fmaps, max_fmaps, latent_size,\n",
    "                 act, k_size, blocks, img_channels, dense_size=128, **kwargs):\n",
    "        super().__init__()\n",
    "        # building layers\n",
    "        fmaps = np.linspace(min_fmaps, max_fmaps, blocks+1).astype('int')\n",
    "        self.from_channels = nn.Conv2d(img_channels, fmaps[0], 1)\n",
    "        self.layers = []\n",
    "        self.noise_outs = []\n",
    "        for i in range(blocks):\n",
    "            layer = D_Block(fmaps[i],fmaps[i+1], k_size, act)\n",
    "            self.add_module(str(i), layer)\n",
    "            self.layers.append(layer)\n",
    "            noise_out = nn.Conv2d(fmaps[i+1],2, 3, padding=1)\n",
    "            self.add_module('noise'+str(i), noise_out)\n",
    "            self.noise_outs.append(noise_out)\n",
    "            \n",
    "        self.conv = nn.Conv2d(fmaps[-1]+1,fmaps[-1], 3)\n",
    "        self.dense = nn.Linear(fmaps[-1]*(min_res-2)**2, dense_size)\n",
    "        self.output = nn.Linear(dense_size, latent_size)\n",
    "        self.act = act\n",
    "    \n",
    "    def get_latents(self, imgs):\n",
    "        noises = []\n",
    "        x = self.from_channels(imgs)\n",
    "        for i,layer in enumerate(self.layers):\n",
    "            x = layer(x)\n",
    "            noises.append(self.noise_outs[i](x))\n",
    "        x = self.minibatch_sttdev(x)\n",
    "        x = self.act(self.conv(x))\n",
    "        x = x.view(x.shape[0],-1)\n",
    "        x = self.act(self.dense(x))\n",
    "        dlatents = self.output(x)\n",
    "        return dlatents, noises\n",
    "        "
   ]
  },
  {
   "cell_type": "code",
   "execution_count": null,
   "metadata": {},
   "outputs": [],
   "source": [
    "def train_E(G, E, max_iter, batch_size, E_opt_args, mapping_opt_args,\n",
    "            pl_weight, r1_weight,\n",
    "          r1_interval, pl_interval, val_interval, num_workers):\n",
    "    # create dataloader\n",
    "    dataloader = NextDataLoader(dataset, batch_size, num_workers=num_workers)\n",
    "    # create optimizer\n",
    "    optimizer = torch.optim.Adam(D.parameters(), **D_opt_args)\n",
    "    Path_length_reg = Path_length_loss()\n",
    "    for i in tqdm(range(max_iter)):\n",
    "        for j in range(D_steps):\n",
    "            real_imgs = next(dataloader)[0].cuda()\n",
    "            real_imgs.requires_grad = True\n",
    "            dlatent = G.sample_dlatents(real_imgs.shape[0])\n",
    "            fake_imgs = G.generate(dlatent)\n",
    "            real_scores = D.get_score(real_imgs)\n",
    "            fake_scores = D.get_score(fake_imgs)\n",
    "            loss =  D_logistic(real_scores, fake_scores)\n",
    "            if i % r1_interval == 0 and j == D_steps-1:\n",
    "                loss += r1_weight*r1_interval*R1_reg(real_imgs, real_scores)\n",
    "            real_imgs.requires_grad = False\n",
    "            disc_optimizer.zero_grad()\n",
    "            loss.backward()\n",
    "            disc_optimizer.step()\n",
    "            disc_scheduler.step()\n",
    "\n",
    "        dlatent = G.sample_dlatents(batch_size)\n",
    "        fake_imgs = G.generate(dlatent)\n",
    "        fake_scores = D.get_score(fake_imgs)    \n",
    "        loss = G_logistic_ns(fake_scores)    \n",
    "        if i % pl_interval == 0:\n",
    "            loss += pl_weight*pl_interval*Path_length_reg(dlatent, fake_imgs)   \n",
    "        gen_optimizer.zero_grad()\n",
    "        loss.backward()\n",
    "        gen_optimizer.step()\n",
    "        gen_scheduler.step()\n",
    "        G.update_avg_weights()\n",
    "\n",
    "        \n",
    "        if i % val_interval == 0:\n",
    "            display.clear_output(wait=True)\n",
    "            # print pictures, Generator performance\n",
    "            # real = real_imgs[:32].permute(0,2,3,1).cpu().numpy()\n",
    "            # plt.imshow(grid(real).squeeze())\n",
    "            # plt.show()\n",
    "            gen = fake_imgs[:32].detach().permute(0,2,3,1).cpu().numpy()\n",
    "            plt.imshow(grid(gen).squeeze())\n",
    "            plt.show()\n",
    "            # print prob distribution, Discriminator performance\n",
    "            plt.figure(figsize=(5,5))\n",
    "            plt.title('Generated vs real data')\n",
    "            plt.hist(torch.sigmoid(real_scores.data).cpu().numpy(), label='D(x)', alpha=0.5,range=[0,1])\n",
    "            plt.hist(torch.sigmoid(fake_scores.data).cpu().numpy(), label='D(G(z))',alpha=0.5,range=[0,1])\n",
    "            plt.legend(loc='best')\n",
    "            plt.show()\n",
    "\n",
    "\n",
    "        if i % 500 == 0:\n",
    "            torch.save(G.state_dict(), '/content/drive/My Drive/Checkpoints/'+'G.pt')\n",
    "            torch.save(D.state_dict(), '/content/drive/My Drive/Checkpoints/'+'D.pt')"
   ]
  },
  {
   "cell_type": "markdown",
   "metadata": {},
   "source": [
    "# Optimization"
   ]
  },
  {
   "cell_type": "code",
   "execution_count": 13,
   "metadata": {},
   "outputs": [],
   "source": [
    "import sys\n",
    "sys.path.append(\"../PerceptualSimilarity/\")\n",
    "from models import PerceptualLoss"
   ]
  },
  {
   "cell_type": "code",
   "execution_count": 14,
   "metadata": {},
   "outputs": [
    {
     "name": "stdout",
     "output_type": "stream",
     "text": [
      "Setting up Perceptual loss...\n",
      "Loading model from: /home/o2chan/PerceptualSimilarity/models/weights/v0.1/squeeze.pth\n",
      "...[net-lin [squeeze]] initialized\n",
      "...Done\n"
     ]
    }
   ],
   "source": [
    "image_loss = PerceptualLoss(model='net-lin', net='squeeze', use_gpu=True)"
   ]
  },
  {
   "cell_type": "code",
   "execution_count": 23,
   "metadata": {},
   "outputs": [],
   "source": [
    "\n",
    "class Projector():\n",
    "    def __init__(self,\n",
    "                 G, # generator\n",
    "                 image_loss, # loss for comparing generated and target images\n",
    "                 noise_reg_weight=1e-5, # weight for noise regularization,  None -> regularization disabled\n",
    "                 dlatent_avg_samples = 10000,  # number of samples for computing avg and std\n",
    "                 max_lr = 0.1, lr_rampdown_length = 0.25, lr_rampup_length = 0.05, # lr params\n",
    "                 noise_factor = 0.05, noise_ramp_length  = 0.75 # dlatents noise params\n",
    "                ):\n",
    "        for n, v in locals().items():\n",
    "            if n != 'self':\n",
    "                setattr(self, n, v)\n",
    "\n",
    "\n",
    "    def compute_init_approx(self):\n",
    "        dlatents = self.G.sample(self.dlatent_avg_samples).detach()\n",
    "        self.dlatents_avg = torch.mean(dlatents, dim = 0, keep_dim=True)\n",
    "        self.dlatents_std = (torch.sum((dlatents - self.dlatents_avg) ** 2)/self.dlatent_avg_samples) ** 0.5\n",
    "        min_res = self.G.const.shape[-1]\n",
    "        self.noise_maps_shape = [1, len(self.G.layers), 2 , 2, min_res*2**(i+1), min_res*2**(i+1)]\n",
    "\n",
    "\n",
    "    def lr_schedule(self, step):\n",
    "        t = step/self.num_steps\n",
    "        x = min(1, t/self.lr_rampup_length)\n",
    "        if t > (1-self.lr_rampdown_length):\n",
    "            x = np.sin(0.5*np.pi*(1-t)/self.lr_rampdown_length)\n",
    "        return(x)\n",
    "\n",
    "\n",
    "    @staticmethod\n",
    "    def show(image):\n",
    "        display.clear_output(wait=True)\n",
    "        plt.imshow(img_to_tensor(image).squeeze())\n",
    "        plt.show()\n",
    "\n",
    "\n",
    "    def run(self, target_image, num_steps=1000):\n",
    "        self.num_steps = num_steps\n",
    "        if not hasattr(self, 'dlatents_avg'):\n",
    "            self.compute_init_approx()\n",
    "        # initialize optimizable variables\n",
    "        dlatents = self.dlatents_avg.clone().requires_grad_(True)\n",
    "        noise_maps = torch.randn(self.noise_maps_shape).requires_grad_(True)\n",
    "        # create opt and lr scheduler\n",
    "        optimizer = torch.optim.Adam([dlatents, *noises], lr=self.max_lr)\n",
    "        scheduler = torch.optim.lr_scheduler.LambdaLR(optimizer, self.lr_schedule)\n",
    "        # iterations\n",
    "        for step in range(self.num_steps):\n",
    "            # generate noise for dlatents\n",
    "            noise_strength = self.noise_factor*max(1-(step/self.num_steps)/self.noise_ramp_length, 0)\n",
    "            dlatents_noise = torch.normal(0, self.dlatents_std*noise_strength)\n",
    "            # generate image\n",
    "            image = self.G.generate(dlatents + dlatents_noise, noise_maps)\n",
    "            Projector.show(image)\n",
    "            # compute loss\n",
    "            loss = self.image_loss(image, target_image)\n",
    "            if not self.noise_reg_weight is None:\n",
    "                loss += self.noise_reg_weight * Noise_reg(noise_maps)\n",
    "            # backward pass, opt and scheduler steps\n",
    "            optimizer.zero_grad()\n",
    "            loss.backward()\n",
    "            optimizer.step()\n",
    "            scheduler.step()\n",
    "            # show result\n",
    "            Projector.show(image)\n",
    "        return dlatents.data, noises.data"
   ]
  },
  {
   "cell_type": "code",
   "execution_count": 25,
   "metadata": {},
   "outputs": [
    {
     "ename": "SyntaxError",
     "evalue": "invalid syntax (<ipython-input-25-d58fedca6603>, line 5)",
     "output_type": "error",
     "traceback": [
      "\u001b[0;36m  File \u001b[0;32m\"<ipython-input-25-d58fedca6603>\"\u001b[0;36m, line \u001b[0;32m5\u001b[0m\n\u001b[0;31m    f(b if b)\u001b[0m\n\u001b[0m            ^\u001b[0m\n\u001b[0;31mSyntaxError\u001b[0m\u001b[0;31m:\u001b[0m invalid syntax\n"
     ]
    }
   ],
   "source": [
    "def f(a):\n",
    "    print(a)\n",
    "\n",
    "b = None\n",
    "f(b if b)"
   ]
  },
  {
   "cell_type": "code",
   "execution_count": 82,
   "metadata": {},
   "outputs": [
    {
     "data": {
      "text/plain": [
       "tensor([[[[0.0467]]]], device='cuda:0', grad_fn=<AddBackward0>)"
      ]
     },
     "execution_count": 82,
     "metadata": {},
     "output_type": "execute_result"
    }
   ],
   "source": [
    "dist = loss.forward(gen_images[1],gen_images[-1])\n",
    "dist"
   ]
  },
  {
   "cell_type": "code",
   "execution_count": 81,
   "metadata": {},
   "outputs": [
    {
     "data": {
      "text/plain": [
       "tensor([[[[0.3021]]]], device='cuda:0', grad_fn=<AddBackward0>)"
      ]
     },
     "execution_count": 81,
     "metadata": {},
     "output_type": "execute_result"
    }
   ],
   "source": [
    "dist = loss.forward(gen_images[1],gen_images[0])\n",
    "dist"
   ]
  },
  {
   "cell_type": "code",
   "execution_count": 85,
   "metadata": {},
   "outputs": [],
   "source": [
    "proj = Projector(G, image_loss)"
   ]
  },
  {
   "cell_type": "code",
   "execution_count": null,
   "metadata": {},
   "outputs": [],
   "source": [
    "proj.run()"
   ]
  },
  {
   "cell_type": "code",
   "execution_count": 21,
   "metadata": {},
   "outputs": [
    {
     "data": {
      "text/plain": [
       "12860167.413759997"
      ]
     },
     "execution_count": 21,
     "metadata": {},
     "output_type": "execute_result"
    }
   ],
   "source": [
    "a = 400000\n",
    "for i in range(10):\n",
    "    a = 1.2*a+400000\n",
    "a"
   ]
  },
  {
   "cell_type": "code",
   "execution_count": null,
   "metadata": {},
   "outputs": [],
   "source": []
  }
 ],
 "metadata": {
  "accelerator": "GPU",
  "colab": {
   "collapsed_sections": [],
   "name": "stylegan.ipynb",
   "provenance": [],
   "toc_visible": true
  },
  "kernelspec": {
   "display_name": "Python 3",
   "language": "python",
   "name": "python3"
  },
  "language_info": {
   "codemirror_mode": {
    "name": "ipython",
    "version": 3
   },
   "file_extension": ".py",
   "mimetype": "text/x-python",
   "name": "python",
   "nbconvert_exporter": "python",
   "pygments_lexer": "ipython3",
   "version": "3.8.1"
  }
 },
 "nbformat": 4,
 "nbformat_minor": 1
}
